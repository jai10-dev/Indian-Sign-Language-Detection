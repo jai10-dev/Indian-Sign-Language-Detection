{
 "cells": [
  {
   "cell_type": "markdown",
   "metadata": {},
   "source": [
    "# 1. Import and Install Dependencies"
   ]
  },
  {
   "cell_type": "code",
   "execution_count": 1,
   "metadata": {},
   "outputs": [],
   "source": [
    "import cv2\n",
    "import numpy as np\n",
    "import os\n",
    "from matplotlib import pyplot as plt\n",
    "import time\n",
    "import mediapipe as mp"
   ]
  },
  {
   "cell_type": "markdown",
   "metadata": {},
   "source": [
    "# 2. Keypoints using MP Holistic"
   ]
  },
  {
   "cell_type": "code",
   "execution_count": 2,
   "metadata": {},
   "outputs": [],
   "source": [
    "mp_holistic = mp.solutions.holistic # Holistic model\n",
    "mp_drawing = mp.solutions.drawing_utils # Drawing utilities"
   ]
  },
  {
   "cell_type": "code",
   "execution_count": 3,
   "metadata": {},
   "outputs": [],
   "source": [
    "def mediapipe_detection(image, model):\n",
    "    image = cv2.cvtColor(image, cv2.COLOR_BGR2RGB) # COLOR CONVERSION BGR 2 RGB\n",
    "    image.flags.writeable = False                  # Image is no longer writeable\n",
    "    results = model.process(image)                 # Make prediction\n",
    "    image.flags.writeable = True                   # Image is now writeable \n",
    "    image = cv2.cvtColor(image, cv2.COLOR_RGB2BGR) # COLOR COVERSION RGB 2 BGR\n",
    "    return image, results"
   ]
  },
  {
   "cell_type": "code",
   "execution_count": 4,
   "metadata": {},
   "outputs": [],
   "source": [
    "def draw_styled_landmarks(image, results):\n",
    "    # Draw face connections\n",
    "    mp_drawing.draw_landmarks(image, results.face_landmarks, mp_holistic.FACEMESH_TESSELATION, \n",
    "                             mp_drawing.DrawingSpec(color=(80,110,10), thickness=1, circle_radius=1), \n",
    "                             mp_drawing.DrawingSpec(color=(80,256,121), thickness=1, circle_radius=1)\n",
    "                             ) \n",
    "    # Draw pose connections\n",
    "    mp_drawing.draw_landmarks(image, results.pose_landmarks, mp_holistic.POSE_CONNECTIONS,\n",
    "                             mp_drawing.DrawingSpec(color=(80,22,10), thickness=2, circle_radius=4), \n",
    "                             mp_drawing.DrawingSpec(color=(80,44,121), thickness=2, circle_radius=2)\n",
    "                             ) \n",
    "    # Draw left hand connections\n",
    "    mp_drawing.draw_landmarks(image, results.left_hand_landmarks, mp_holistic.HAND_CONNECTIONS, \n",
    "                             mp_drawing.DrawingSpec(color=(121,22,76), thickness=2, circle_radius=4), \n",
    "                             mp_drawing.DrawingSpec(color=(121,44,250), thickness=2, circle_radius=2)\n",
    "                             ) \n",
    "    # Draw right hand connections  \n",
    "    mp_drawing.draw_landmarks(image, results.right_hand_landmarks, mp_holistic.HAND_CONNECTIONS, \n",
    "                             mp_drawing.DrawingSpec(color=(245,117,66), thickness=2, circle_radius=4), \n",
    "                             mp_drawing.DrawingSpec(color=(245,66,230), thickness=2, circle_radius=2)\n",
    "                             ) "
   ]
  },
  {
   "cell_type": "markdown",
   "metadata": {},
   "source": [
    "# 3. Extract Keypoint Values"
   ]
  },
  {
   "cell_type": "code",
   "execution_count": 5,
   "metadata": {},
   "outputs": [],
   "source": [
    "def extract_keypoints(results):\n",
    "    pose = np.array([[res.x, res.y, res.z, res.visibility] for res in results.pose_landmarks.landmark]).flatten() if results.pose_landmarks else np.zeros(33*4)\n",
    "    face = np.array([[res.x, res.y, res.z] for res in results.face_landmarks.landmark]).flatten() if results.face_landmarks else np.zeros(468*3)\n",
    "    lh = np.array([[res.x, res.y, res.z] for res in results.left_hand_landmarks.landmark]).flatten() if results.left_hand_landmarks else np.zeros(21*3)\n",
    "    rh = np.array([[res.x, res.y, res.z] for res in results.right_hand_landmarks.landmark]).flatten() if results.right_hand_landmarks else np.zeros(21*3)\n",
    "    return np.concatenate([pose, face, lh, rh])"
   ]
  },
  {
   "cell_type": "markdown",
   "metadata": {},
   "source": [
    "# 4. Setup Folders for Collection"
   ]
  },
  {
   "cell_type": "code",
   "execution_count": 6,
   "metadata": {},
   "outputs": [],
   "source": [
    "# Path for exported data, numpy arrays\n",
    "DATA_PATH = os.path.join('MP_Data') \n",
    "\n",
    "# Actions that we try to detect\n",
    "actions = np.array(['hello', 'thanks', 'iloveyou'])\n",
    "\n",
    "# Thirty videos worth of data\n",
    "no_sequences = 30\n",
    "\n",
    "# Videos are going to be 30 frames in length\n",
    "sequence_length = 30"
   ]
  },
  {
   "cell_type": "code",
   "execution_count": 7,
   "metadata": {},
   "outputs": [],
   "source": [
    "# hello\n",
    "## 0\n",
    "## 1\n",
    "## 2\n",
    "## ...\n",
    "## 29\n",
    "# thanks\n",
    "\n",
    "# I love you"
   ]
  },
  {
   "cell_type": "code",
   "execution_count": 9,
   "metadata": {},
   "outputs": [
    {
     "name": "stdout",
     "output_type": "stream",
     "text": [
      "hello\n",
      "hello\n",
      "hello\n",
      "hello\n",
      "hello\n",
      "hello\n",
      "hello\n",
      "hello\n",
      "hello\n",
      "hello\n",
      "hello\n",
      "hello\n",
      "hello\n",
      "hello\n",
      "hello\n",
      "hello\n",
      "hello\n",
      "hello\n",
      "hello\n",
      "hello\n",
      "hello\n",
      "hello\n",
      "hello\n",
      "hello\n",
      "hello\n",
      "hello\n",
      "hello\n",
      "hello\n",
      "hello\n",
      "hello\n",
      "thanks\n",
      "thanks\n",
      "thanks\n",
      "thanks\n",
      "thanks\n",
      "thanks\n",
      "thanks\n",
      "thanks\n",
      "thanks\n",
      "thanks\n",
      "thanks\n",
      "thanks\n",
      "thanks\n",
      "thanks\n",
      "thanks\n",
      "thanks\n",
      "thanks\n",
      "thanks\n",
      "thanks\n",
      "thanks\n",
      "thanks\n",
      "thanks\n",
      "thanks\n",
      "thanks\n",
      "thanks\n",
      "thanks\n",
      "thanks\n",
      "thanks\n",
      "thanks\n",
      "thanks\n",
      "iloveyou\n",
      "iloveyou\n",
      "iloveyou\n",
      "iloveyou\n",
      "iloveyou\n",
      "iloveyou\n",
      "iloveyou\n",
      "iloveyou\n",
      "iloveyou\n",
      "iloveyou\n",
      "iloveyou\n",
      "iloveyou\n",
      "iloveyou\n",
      "iloveyou\n",
      "iloveyou\n",
      "iloveyou\n",
      "iloveyou\n",
      "iloveyou\n",
      "iloveyou\n",
      "iloveyou\n",
      "iloveyou\n",
      "iloveyou\n",
      "iloveyou\n",
      "iloveyou\n",
      "iloveyou\n",
      "iloveyou\n",
      "iloveyou\n",
      "iloveyou\n",
      "iloveyou\n",
      "iloveyou\n"
     ]
    }
   ],
   "source": [
    "for action in actions: \n",
    "    for sequence in range(no_sequences):\n",
    "        try: \n",
    "           print(action)\n",
    "        except:\n",
    "            pass"
   ]
  },
  {
   "cell_type": "markdown",
   "metadata": {},
   "source": [
    "# 5. Collect Keypoint Values for Training and Testing"
   ]
  },
  {
   "cell_type": "markdown",
   "metadata": {},
   "source": [
    "# 6. Preprocess Data and Create Labels and Features"
   ]
  },
  {
   "cell_type": "code",
   "execution_count": 10,
   "metadata": {},
   "outputs": [],
   "source": [
    "from sklearn.model_selection import train_test_split\n",
    "from tensorflow.keras.utils import to_categorical"
   ]
  },
  {
   "cell_type": "code",
   "execution_count": 11,
   "metadata": {},
   "outputs": [],
   "source": [
    "label_map = {label:num for num, label in enumerate(actions)}"
   ]
  },
  {
   "cell_type": "code",
   "execution_count": 12,
   "metadata": {},
   "outputs": [
    {
     "data": {
      "text/plain": [
       "{'hello': 0, 'thanks': 1, 'iloveyou': 2}"
      ]
     },
     "execution_count": 12,
     "metadata": {},
     "output_type": "execute_result"
    }
   ],
   "source": [
    "label_map"
   ]
  },
  {
   "cell_type": "code",
   "execution_count": 13,
   "metadata": {},
   "outputs": [],
   "source": [
    "sequences, labels = [], []\n",
    "for action in actions:\n",
    "    for sequence in range(no_sequences):\n",
    "        window = []\n",
    "        for frame_num in range(sequence_length):\n",
    "            res = np.load(os.path.join(DATA_PATH, action, str(sequence), \"{}.npy\".format(frame_num)))\n",
    "            window.append(res)\n",
    "        sequences.append(window)\n",
    "        labels.append(label_map[action])"
   ]
  },
  {
   "cell_type": "code",
   "execution_count": 14,
   "metadata": {},
   "outputs": [],
   "source": [
    "X = np.array(sequences)"
   ]
  },
  {
   "cell_type": "code",
   "execution_count": 15,
   "metadata": {},
   "outputs": [],
   "source": [
    "y = to_categorical(labels).astype(int)"
   ]
  },
  {
   "cell_type": "code",
   "execution_count": 16,
   "metadata": {},
   "outputs": [],
   "source": [
    "X_train, X_test, y_train, y_test = train_test_split(X, y, test_size=0.05)"
   ]
  },
  {
   "cell_type": "markdown",
   "metadata": {},
   "source": [
    "# 7. Build and Train LSTM Neural Network"
   ]
  },
  {
   "cell_type": "code",
   "execution_count": 17,
   "metadata": {},
   "outputs": [],
   "source": [
    "from tensorflow.keras.models import Sequential\n",
    "from tensorflow.keras.layers import LSTM, Dense\n",
    "from tensorflow.keras.callbacks import TensorBoard"
   ]
  },
  {
   "cell_type": "code",
   "execution_count": 18,
   "metadata": {},
   "outputs": [],
   "source": [
    "log_dir = os.path.join('Logs')\n",
    "tb_callback = TensorBoard(log_dir=log_dir)"
   ]
  },
  {
   "cell_type": "code",
   "execution_count": 19,
   "metadata": {},
   "outputs": [
    {
     "name": "stdout",
     "output_type": "stream",
     "text": [
      "WARNING:tensorflow:Layer lstm will not use cuDNN kernels since it doesn't meet the criteria. It will use a generic GPU kernel as fallback when running on GPU.\n",
      "WARNING:tensorflow:Layer lstm_1 will not use cuDNN kernels since it doesn't meet the criteria. It will use a generic GPU kernel as fallback when running on GPU.\n",
      "WARNING:tensorflow:Layer lstm_2 will not use cuDNN kernels since it doesn't meet the criteria. It will use a generic GPU kernel as fallback when running on GPU.\n"
     ]
    }
   ],
   "source": [
    "model = Sequential()\n",
    "model.add(LSTM(64, return_sequences=True, activation='relu', input_shape=(30,1662)))\n",
    "model.add(LSTM(128, return_sequences=True, activation='relu'))\n",
    "model.add(LSTM(64, return_sequences=False, activation='relu'))\n",
    "model.add(Dense(64, activation='relu'))\n",
    "model.add(Dense(32, activation='relu'))\n",
    "model.add(Dense(actions.shape[0], activation='softmax'))"
   ]
  },
  {
   "cell_type": "code",
   "execution_count": 20,
   "metadata": {},
   "outputs": [],
   "source": [
    "res = [.7, 0.2, 0.1]"
   ]
  },
  {
   "cell_type": "code",
   "execution_count": 21,
   "metadata": {},
   "outputs": [
    {
     "data": {
      "text/plain": [
       "'hello'"
      ]
     },
     "execution_count": 21,
     "metadata": {},
     "output_type": "execute_result"
    }
   ],
   "source": [
    "actions[np.argmax(res)]"
   ]
  },
  {
   "cell_type": "code",
   "execution_count": 22,
   "metadata": {},
   "outputs": [],
   "source": [
    "model.compile(optimizer='Adam', loss='categorical_crossentropy', metrics=['categorical_accuracy'])"
   ]
  },
  {
   "cell_type": "code",
   "execution_count": 25,
   "metadata": {
    "scrolled": true
   },
   "outputs": [
    {
     "name": "stdout",
     "output_type": "stream",
     "text": [
      "Epoch 1/2000\n",
      "3/3 [==============================] - 1s 151ms/step - loss: 0.4656 - categorical_accuracy: 0.7647\n",
      "Epoch 2/2000\n",
      "3/3 [==============================] - 0s 124ms/step - loss: 0.4644 - categorical_accuracy: 0.7647\n",
      "Epoch 3/2000\n",
      "3/3 [==============================] - 0s 151ms/step - loss: 0.4648 - categorical_accuracy: 0.7647\n",
      "Epoch 4/2000\n",
      "3/3 [==============================] - 0s 152ms/step - loss: 0.4638 - categorical_accuracy: 0.7647\n",
      "Epoch 5/2000\n",
      "3/3 [==============================] - 0s 135ms/step - loss: 0.4634 - categorical_accuracy: 0.7647\n",
      "Epoch 6/2000\n",
      "3/3 [==============================] - 0s 124ms/step - loss: 0.4634 - categorical_accuracy: 0.7647\n",
      "Epoch 7/2000\n",
      "3/3 [==============================] - 0s 127ms/step - loss: 0.4627 - categorical_accuracy: 0.7647\n",
      "Epoch 8/2000\n",
      "3/3 [==============================] - 0s 152ms/step - loss: 0.4628 - categorical_accuracy: 0.7647\n",
      "Epoch 9/2000\n",
      "3/3 [==============================] - 0s 144ms/step - loss: 0.4624 - categorical_accuracy: 0.7647\n",
      "Epoch 10/2000\n",
      "3/3 [==============================] - 1s 160ms/step - loss: 0.4618 - categorical_accuracy: 0.7647\n",
      "Epoch 11/2000\n",
      "3/3 [==============================] - 1s 188ms/step - loss: 0.4618 - categorical_accuracy: 0.7647\n",
      "Epoch 12/2000\n",
      "3/3 [==============================] - 0s 147ms/step - loss: 0.4614 - categorical_accuracy: 0.7647\n",
      "Epoch 13/2000\n",
      "3/3 [==============================] - 0s 132ms/step - loss: 0.4610 - categorical_accuracy: 0.7647\n",
      "Epoch 14/2000\n",
      "3/3 [==============================] - 0s 136ms/step - loss: 0.4608 - categorical_accuracy: 0.7647\n",
      "Epoch 15/2000\n",
      "3/3 [==============================] - 0s 173ms/step - loss: 0.4607 - categorical_accuracy: 0.7647\n",
      "Epoch 16/2000\n",
      "3/3 [==============================] - 0s 123ms/step - loss: 0.4597 - categorical_accuracy: 0.7647\n",
      "Epoch 17/2000\n",
      "3/3 [==============================] - 0s 151ms/step - loss: 0.4607 - categorical_accuracy: 0.7647\n",
      "Epoch 18/2000\n",
      "3/3 [==============================] - 0s 162ms/step - loss: 0.4593 - categorical_accuracy: 0.7647\n",
      "Epoch 19/2000\n",
      "3/3 [==============================] - 0s 164ms/step - loss: 0.4594 - categorical_accuracy: 0.7647\n",
      "Epoch 20/2000\n",
      "3/3 [==============================] - 0s 167ms/step - loss: 0.4587 - categorical_accuracy: 0.7647\n",
      "Epoch 21/2000\n",
      "3/3 [==============================] - 0s 159ms/step - loss: 0.4581 - categorical_accuracy: 0.7647\n",
      "Epoch 22/2000\n",
      "3/3 [==============================] - 0s 163ms/step - loss: 0.4591 - categorical_accuracy: 0.7647\n",
      "Epoch 23/2000\n",
      "3/3 [==============================] - 0s 144ms/step - loss: 0.4596 - categorical_accuracy: 0.7647\n",
      "Epoch 24/2000\n",
      "3/3 [==============================] - 0s 147ms/step - loss: 0.4591 - categorical_accuracy: 0.7647\n",
      "Epoch 25/2000\n",
      "3/3 [==============================] - 0s 154ms/step - loss: 0.4574 - categorical_accuracy: 0.7647\n",
      "Epoch 26/2000\n",
      "3/3 [==============================] - 0s 127ms/step - loss: 0.4575 - categorical_accuracy: 0.7647\n",
      "Epoch 27/2000\n",
      "3/3 [==============================] - 0s 133ms/step - loss: 0.4574 - categorical_accuracy: 0.7647\n",
      "Epoch 28/2000\n",
      "3/3 [==============================] - 0s 128ms/step - loss: 0.4558 - categorical_accuracy: 0.7647\n",
      "Epoch 29/2000\n",
      "3/3 [==============================] - 0s 153ms/step - loss: 0.4563 - categorical_accuracy: 0.7647\n",
      "Epoch 30/2000\n",
      "3/3 [==============================] - 0s 160ms/step - loss: 0.4575 - categorical_accuracy: 0.7647\n",
      "Epoch 31/2000\n",
      "3/3 [==============================] - 0s 127ms/step - loss: 0.4548 - categorical_accuracy: 0.7647\n",
      "Epoch 32/2000\n",
      "3/3 [==============================] - 0s 152ms/step - loss: 0.4569 - categorical_accuracy: 0.7647\n",
      "Epoch 33/2000\n",
      "3/3 [==============================] - 0s 148ms/step - loss: 0.4552 - categorical_accuracy: 0.7647\n",
      "Epoch 34/2000\n",
      "3/3 [==============================] - 0s 143ms/step - loss: 0.4559 - categorical_accuracy: 0.7647\n",
      "Epoch 35/2000\n",
      "3/3 [==============================] - 0s 133ms/step - loss: 0.4544 - categorical_accuracy: 0.7647\n",
      "Epoch 36/2000\n",
      "3/3 [==============================] - 0s 130ms/step - loss: 0.4529 - categorical_accuracy: 0.7647\n",
      "Epoch 37/2000\n",
      "3/3 [==============================] - 0s 131ms/step - loss: 0.4531 - categorical_accuracy: 0.7647\n",
      "Epoch 38/2000\n",
      "3/3 [==============================] - 0s 130ms/step - loss: 0.4524 - categorical_accuracy: 0.7647\n",
      "Epoch 39/2000\n",
      "3/3 [==============================] - 0s 148ms/step - loss: 0.4532 - categorical_accuracy: 0.7647\n",
      "Epoch 40/2000\n",
      "3/3 [==============================] - 0s 131ms/step - loss: 0.4529 - categorical_accuracy: 0.7647\n",
      "Epoch 41/2000\n",
      "3/3 [==============================] - 0s 151ms/step - loss: 0.4534 - categorical_accuracy: 0.7647\n",
      "Epoch 42/2000\n",
      "3/3 [==============================] - 0s 147ms/step - loss: 0.4503 - categorical_accuracy: 0.7647\n",
      "Epoch 43/2000\n",
      "3/3 [==============================] - 0s 126ms/step - loss: 0.4501 - categorical_accuracy: 0.7647\n",
      "Epoch 44/2000\n",
      "3/3 [==============================] - 0s 137ms/step - loss: 0.4492 - categorical_accuracy: 0.7647\n",
      "Epoch 45/2000\n",
      "3/3 [==============================] - 0s 141ms/step - loss: 0.4493 - categorical_accuracy: 0.7647\n",
      "Epoch 46/2000\n",
      "3/3 [==============================] - 0s 160ms/step - loss: 0.4491 - categorical_accuracy: 0.7647\n",
      "Epoch 47/2000\n",
      "3/3 [==============================] - 0s 131ms/step - loss: 0.4480 - categorical_accuracy: 0.7647\n",
      "Epoch 48/2000\n",
      "3/3 [==============================] - 0s 150ms/step - loss: 0.4477 - categorical_accuracy: 0.7647\n",
      "Epoch 49/2000\n",
      "3/3 [==============================] - 0s 156ms/step - loss: 0.4467 - categorical_accuracy: 0.7647\n",
      "Epoch 50/2000\n",
      "3/3 [==============================] - 0s 166ms/step - loss: 0.4471 - categorical_accuracy: 0.7647\n",
      "Epoch 51/2000\n",
      "3/3 [==============================] - 0s 125ms/step - loss: 0.4470 - categorical_accuracy: 0.7647\n",
      "Epoch 52/2000\n",
      "3/3 [==============================] - 0s 133ms/step - loss: 0.4459 - categorical_accuracy: 0.7647\n",
      "Epoch 53/2000\n",
      "3/3 [==============================] - 0s 133ms/step - loss: 0.4470 - categorical_accuracy: 0.7647\n",
      "Epoch 54/2000\n",
      "3/3 [==============================] - 0s 161ms/step - loss: 0.4456 - categorical_accuracy: 0.7647\n",
      "Epoch 55/2000\n",
      "3/3 [==============================] - 0s 171ms/step - loss: 0.4461 - categorical_accuracy: 0.7647\n",
      "Epoch 56/2000\n",
      "3/3 [==============================] - 0s 142ms/step - loss: 0.4445 - categorical_accuracy: 0.7647\n",
      "Epoch 57/2000\n",
      "3/3 [==============================] - 0s 158ms/step - loss: 0.4465 - categorical_accuracy: 0.7647\n",
      "Epoch 58/2000\n",
      "3/3 [==============================] - 0s 153ms/step - loss: 0.4447 - categorical_accuracy: 0.7647\n",
      "Epoch 59/2000\n",
      "3/3 [==============================] - 0s 124ms/step - loss: 0.4448 - categorical_accuracy: 0.7647\n",
      "Epoch 60/2000\n",
      "3/3 [==============================] - 0s 131ms/step - loss: 0.4494 - categorical_accuracy: 0.7647\n",
      "Epoch 61/2000\n",
      "3/3 [==============================] - 0s 149ms/step - loss: 0.4510 - categorical_accuracy: 0.7647\n",
      "Epoch 62/2000\n",
      "3/3 [==============================] - 0s 141ms/step - loss: 0.4522 - categorical_accuracy: 0.7647\n",
      "Epoch 63/2000\n",
      "3/3 [==============================] - 0s 141ms/step - loss: 0.4558 - categorical_accuracy: 0.7529\n",
      "Epoch 64/2000\n",
      "3/3 [==============================] - 0s 139ms/step - loss: 0.4483 - categorical_accuracy: 0.7647\n",
      "Epoch 65/2000\n",
      "3/3 [==============================] - 0s 140ms/step - loss: 0.4503 - categorical_accuracy: 0.7647\n",
      "Epoch 66/2000\n",
      "3/3 [==============================] - 0s 127ms/step - loss: 0.4490 - categorical_accuracy: 0.7647\n",
      "Epoch 67/2000\n",
      "3/3 [==============================] - 0s 141ms/step - loss: 0.4460 - categorical_accuracy: 0.7647\n",
      "Epoch 68/2000\n",
      "3/3 [==============================] - 0s 162ms/step - loss: 0.4440 - categorical_accuracy: 0.7647\n",
      "Epoch 69/2000\n",
      "3/3 [==============================] - 0s 136ms/step - loss: 0.4438 - categorical_accuracy: 0.7647\n",
      "Epoch 70/2000\n",
      "3/3 [==============================] - 0s 154ms/step - loss: 0.4436 - categorical_accuracy: 0.7647\n",
      "Epoch 71/2000\n",
      "3/3 [==============================] - 0s 133ms/step - loss: 0.4412 - categorical_accuracy: 0.7647\n",
      "Epoch 72/2000\n",
      "3/3 [==============================] - 0s 137ms/step - loss: 0.4396 - categorical_accuracy: 0.7647\n",
      "Epoch 73/2000\n",
      "3/3 [==============================] - 0s 135ms/step - loss: 0.4380 - categorical_accuracy: 0.7647\n",
      "Epoch 74/2000\n",
      "3/3 [==============================] - 0s 150ms/step - loss: 0.4360 - categorical_accuracy: 0.7647\n",
      "Epoch 75/2000\n",
      "3/3 [==============================] - 0s 152ms/step - loss: 0.4350 - categorical_accuracy: 0.7647\n",
      "Epoch 76/2000\n",
      "3/3 [==============================] - 0s 140ms/step - loss: 0.4344 - categorical_accuracy: 0.7647\n",
      "Epoch 77/2000\n",
      "3/3 [==============================] - 0s 154ms/step - loss: 0.4398 - categorical_accuracy: 0.7647\n",
      "Epoch 78/2000\n",
      "3/3 [==============================] - 0s 140ms/step - loss: 0.4511 - categorical_accuracy: 0.7647\n",
      "Epoch 79/2000\n",
      "3/3 [==============================] - 0s 124ms/step - loss: 0.4459 - categorical_accuracy: 0.7647\n",
      "Epoch 80/2000\n",
      "3/3 [==============================] - 0s 124ms/step - loss: 0.4323 - categorical_accuracy: 0.7647\n",
      "Epoch 81/2000\n",
      "3/3 [==============================] - 0s 140ms/step - loss: 0.4372 - categorical_accuracy: 0.7647\n",
      "Epoch 82/2000\n",
      "3/3 [==============================] - 0s 145ms/step - loss: 0.4353 - categorical_accuracy: 0.7647\n",
      "Epoch 83/2000\n",
      "3/3 [==============================] - 0s 144ms/step - loss: 0.4340 - categorical_accuracy: 0.7647\n",
      "Epoch 84/2000\n",
      "3/3 [==============================] - 0s 126ms/step - loss: 0.4328 - categorical_accuracy: 0.7647\n",
      "Epoch 85/2000\n",
      "3/3 [==============================] - 0s 138ms/step - loss: 0.4329 - categorical_accuracy: 0.7647\n",
      "Epoch 86/2000\n",
      "3/3 [==============================] - 0s 127ms/step - loss: 0.4317 - categorical_accuracy: 0.7647\n",
      "Epoch 87/2000\n",
      "3/3 [==============================] - 0s 147ms/step - loss: 0.4314 - categorical_accuracy: 0.7647\n",
      "Epoch 88/2000\n",
      "3/3 [==============================] - 0s 153ms/step - loss: 0.4311 - categorical_accuracy: 0.7647\n",
      "Epoch 89/2000\n",
      "3/3 [==============================] - 0s 141ms/step - loss: 0.4303 - categorical_accuracy: 0.7647\n",
      "Epoch 90/2000\n",
      "3/3 [==============================] - 0s 133ms/step - loss: 0.4303 - categorical_accuracy: 0.7647\n",
      "Epoch 91/2000\n",
      "3/3 [==============================] - 0s 141ms/step - loss: 0.4287 - categorical_accuracy: 0.7647\n",
      "Epoch 92/2000\n",
      "3/3 [==============================] - 0s 135ms/step - loss: 0.4306 - categorical_accuracy: 0.7647\n",
      "Epoch 93/2000\n",
      "3/3 [==============================] - 0s 140ms/step - loss: 0.4269 - categorical_accuracy: 0.7647\n",
      "Epoch 94/2000\n",
      "3/3 [==============================] - 0s 135ms/step - loss: 0.4302 - categorical_accuracy: 0.7647\n",
      "Epoch 95/2000\n",
      "3/3 [==============================] - 0s 143ms/step - loss: 0.4265 - categorical_accuracy: 0.7647\n",
      "Epoch 96/2000\n",
      "3/3 [==============================] - 0s 142ms/step - loss: 0.4256 - categorical_accuracy: 0.7647\n",
      "Epoch 97/2000\n",
      "3/3 [==============================] - 0s 156ms/step - loss: 0.4273 - categorical_accuracy: 0.7647\n",
      "Epoch 98/2000\n",
      "3/3 [==============================] - 0s 147ms/step - loss: 0.4224 - categorical_accuracy: 0.7647\n",
      "Epoch 99/2000\n",
      "3/3 [==============================] - 0s 148ms/step - loss: 0.4139 - categorical_accuracy: 0.7647\n",
      "Epoch 100/2000\n",
      "3/3 [==============================] - 0s 127ms/step - loss: 0.4123 - categorical_accuracy: 0.7647\n",
      "Epoch 101/2000\n",
      "3/3 [==============================] - 0s 133ms/step - loss: 0.4123 - categorical_accuracy: 0.7647\n",
      "Epoch 102/2000\n",
      "3/3 [==============================] - 0s 147ms/step - loss: 0.4181 - categorical_accuracy: 0.7647\n",
      "Epoch 103/2000\n",
      "3/3 [==============================] - 0s 150ms/step - loss: 0.4106 - categorical_accuracy: 0.7647\n",
      "Epoch 104/2000\n",
      "3/3 [==============================] - 0s 146ms/step - loss: 0.4056 - categorical_accuracy: 0.7647\n",
      "Epoch 105/2000\n",
      "3/3 [==============================] - 0s 130ms/step - loss: 0.4052 - categorical_accuracy: 0.7647\n",
      "Epoch 106/2000\n",
      "3/3 [==============================] - 0s 130ms/step - loss: 0.4045 - categorical_accuracy: 0.7647\n",
      "Epoch 107/2000\n",
      "3/3 [==============================] - 0s 146ms/step - loss: 0.4024 - categorical_accuracy: 0.7647\n",
      "Epoch 108/2000\n",
      "3/3 [==============================] - 0s 159ms/step - loss: 0.4062 - categorical_accuracy: 0.7647\n",
      "Epoch 109/2000\n",
      "3/3 [==============================] - 0s 148ms/step - loss: 0.4026 - categorical_accuracy: 0.7647\n",
      "Epoch 110/2000\n",
      "3/3 [==============================] - 0s 149ms/step - loss: 0.4096 - categorical_accuracy: 0.7647\n",
      "Epoch 111/2000\n",
      "3/3 [==============================] - 0s 149ms/step - loss: 0.4016 - categorical_accuracy: 0.7647\n",
      "Epoch 112/2000\n",
      "3/3 [==============================] - 0s 164ms/step - loss: 0.3923 - categorical_accuracy: 0.7647\n",
      "Epoch 113/2000\n",
      "3/3 [==============================] - 0s 156ms/step - loss: 0.4073 - categorical_accuracy: 0.7647\n",
      "Epoch 114/2000\n",
      "3/3 [==============================] - 0s 147ms/step - loss: 0.3884 - categorical_accuracy: 0.7647\n",
      "Epoch 115/2000\n",
      "3/3 [==============================] - 0s 127ms/step - loss: 0.3958 - categorical_accuracy: 0.7647\n",
      "Epoch 116/2000\n",
      "3/3 [==============================] - 0s 155ms/step - loss: 0.3948 - categorical_accuracy: 0.7647\n",
      "Epoch 117/2000\n",
      "3/3 [==============================] - 0s 163ms/step - loss: 0.3814 - categorical_accuracy: 0.7647\n",
      "Epoch 118/2000\n",
      "3/3 [==============================] - 1s 171ms/step - loss: 0.3844 - categorical_accuracy: 0.7647\n",
      "Epoch 119/2000\n",
      "3/3 [==============================] - 0s 148ms/step - loss: 0.3826 - categorical_accuracy: 0.7647\n",
      "Epoch 120/2000\n",
      "3/3 [==============================] - 0s 134ms/step - loss: 0.3785 - categorical_accuracy: 0.7647\n",
      "Epoch 121/2000\n",
      "3/3 [==============================] - 0s 136ms/step - loss: 0.3797 - categorical_accuracy: 0.7647\n",
      "Epoch 122/2000\n",
      "3/3 [==============================] - 0s 149ms/step - loss: 0.3722 - categorical_accuracy: 0.7647\n",
      "Epoch 123/2000\n",
      "3/3 [==============================] - 0s 148ms/step - loss: 0.3749 - categorical_accuracy: 0.7647\n",
      "Epoch 124/2000\n",
      "3/3 [==============================] - 0s 143ms/step - loss: 0.3690 - categorical_accuracy: 0.7647\n",
      "Epoch 125/2000\n",
      "3/3 [==============================] - 0s 130ms/step - loss: 0.3689 - categorical_accuracy: 0.7647\n",
      "Epoch 126/2000\n",
      "3/3 [==============================] - 0s 160ms/step - loss: 0.3663 - categorical_accuracy: 0.7647\n",
      "Epoch 127/2000\n",
      "3/3 [==============================] - 0s 143ms/step - loss: 0.3625 - categorical_accuracy: 0.7647\n",
      "Epoch 128/2000\n",
      "3/3 [==============================] - 0s 153ms/step - loss: 0.3707 - categorical_accuracy: 0.7647\n",
      "Epoch 129/2000\n",
      "3/3 [==============================] - 0s 157ms/step - loss: 1.5326 - categorical_accuracy: 0.7529\n",
      "Epoch 130/2000\n",
      "3/3 [==============================] - 0s 147ms/step - loss: 0.4272 - categorical_accuracy: 0.9412\n",
      "Epoch 131/2000\n",
      "3/3 [==============================] - 0s 146ms/step - loss: 0.4416 - categorical_accuracy: 0.8118\n",
      "Epoch 132/2000\n",
      "3/3 [==============================] - 0s 153ms/step - loss: 0.4571 - categorical_accuracy: 0.9059\n",
      "Epoch 133/2000\n",
      "3/3 [==============================] - 0s 136ms/step - loss: 0.4610 - categorical_accuracy: 0.8235\n",
      "Epoch 134/2000\n",
      "3/3 [==============================] - 0s 150ms/step - loss: 0.4535 - categorical_accuracy: 0.8706\n",
      "Epoch 135/2000\n",
      "3/3 [==============================] - 0s 138ms/step - loss: 0.4582 - categorical_accuracy: 0.9412\n",
      "Epoch 136/2000\n",
      "3/3 [==============================] - 0s 155ms/step - loss: 0.4606 - categorical_accuracy: 0.8000\n",
      "Epoch 137/2000\n",
      "3/3 [==============================] - 0s 133ms/step - loss: 0.5155 - categorical_accuracy: 0.8941\n",
      "Epoch 138/2000\n",
      "3/3 [==============================] - 0s 138ms/step - loss: 0.5020 - categorical_accuracy: 0.9059\n",
      "Epoch 139/2000\n",
      "3/3 [==============================] - 0s 142ms/step - loss: 0.4712 - categorical_accuracy: 0.7647\n",
      "Epoch 140/2000\n",
      "3/3 [==============================] - 0s 151ms/step - loss: 0.4731 - categorical_accuracy: 0.9765\n",
      "Epoch 141/2000\n",
      "3/3 [==============================] - 0s 143ms/step - loss: 0.4577 - categorical_accuracy: 0.8000\n",
      "Epoch 142/2000\n",
      "3/3 [==============================] - 0s 135ms/step - loss: 0.4450 - categorical_accuracy: 0.7765\n",
      "Epoch 143/2000\n",
      "3/3 [==============================] - 0s 135ms/step - loss: 0.4264 - categorical_accuracy: 0.9412\n",
      "Epoch 144/2000\n",
      "3/3 [==============================] - 0s 142ms/step - loss: 0.4084 - categorical_accuracy: 0.8941\n",
      "Epoch 145/2000\n"
     ]
    },
    {
     "name": "stdout",
     "output_type": "stream",
     "text": [
      "3/3 [==============================] - 0s 150ms/step - loss: 0.3998 - categorical_accuracy: 0.9765\n",
      "Epoch 146/2000\n",
      "3/3 [==============================] - 0s 144ms/step - loss: 0.3962 - categorical_accuracy: 0.9176\n",
      "Epoch 147/2000\n",
      "3/3 [==============================] - 0s 148ms/step - loss: 0.3916 - categorical_accuracy: 0.9294\n",
      "Epoch 148/2000\n",
      "3/3 [==============================] - 0s 153ms/step - loss: 0.3853 - categorical_accuracy: 0.9529\n",
      "Epoch 149/2000\n",
      "3/3 [==============================] - 0s 140ms/step - loss: 0.3763 - categorical_accuracy: 0.9647\n",
      "Epoch 150/2000\n",
      "3/3 [==============================] - 0s 144ms/step - loss: 0.3799 - categorical_accuracy: 0.9765\n",
      "Epoch 151/2000\n",
      "3/3 [==============================] - 0s 137ms/step - loss: 0.3711 - categorical_accuracy: 0.9529\n",
      "Epoch 152/2000\n",
      "3/3 [==============================] - 0s 158ms/step - loss: 0.3675 - categorical_accuracy: 0.9647\n",
      "Epoch 153/2000\n",
      "3/3 [==============================] - 0s 147ms/step - loss: 0.3699 - categorical_accuracy: 0.9647\n",
      "Epoch 154/2000\n",
      "3/3 [==============================] - 0s 143ms/step - loss: 0.3689 - categorical_accuracy: 0.9765\n",
      "Epoch 155/2000\n",
      "3/3 [==============================] - 0s 151ms/step - loss: 0.3494 - categorical_accuracy: 0.9529\n",
      "Epoch 156/2000\n",
      "3/3 [==============================] - 0s 136ms/step - loss: 0.3404 - categorical_accuracy: 0.9765\n",
      "Epoch 157/2000\n",
      "3/3 [==============================] - 0s 149ms/step - loss: 0.3354 - categorical_accuracy: 0.9765\n",
      "Epoch 158/2000\n",
      "3/3 [==============================] - 0s 132ms/step - loss: 0.3325 - categorical_accuracy: 0.9647\n",
      "Epoch 159/2000\n",
      "3/3 [==============================] - 0s 133ms/step - loss: 0.3274 - categorical_accuracy: 0.9765\n",
      "Epoch 160/2000\n",
      "3/3 [==============================] - 0s 149ms/step - loss: 0.3267 - categorical_accuracy: 0.9765\n",
      "Epoch 161/2000\n",
      "3/3 [==============================] - 0s 159ms/step - loss: 0.3234 - categorical_accuracy: 0.9765\n",
      "Epoch 162/2000\n",
      "3/3 [==============================] - 0s 126ms/step - loss: 0.3205 - categorical_accuracy: 0.9647\n",
      "Epoch 163/2000\n",
      "3/3 [==============================] - 0s 154ms/step - loss: 0.3157 - categorical_accuracy: 0.9765\n",
      "Epoch 164/2000\n",
      "3/3 [==============================] - 0s 155ms/step - loss: 0.3133 - categorical_accuracy: 0.9647\n",
      "Epoch 165/2000\n",
      "3/3 [==============================] - 0s 149ms/step - loss: 0.3100 - categorical_accuracy: 0.9765\n",
      "Epoch 166/2000\n",
      "3/3 [==============================] - 0s 143ms/step - loss: 0.3069 - categorical_accuracy: 0.9765\n",
      "Epoch 167/2000\n",
      "3/3 [==============================] - 0s 143ms/step - loss: 0.3045 - categorical_accuracy: 0.9765\n",
      "Epoch 168/2000\n",
      "3/3 [==============================] - 0s 129ms/step - loss: 0.3018 - categorical_accuracy: 0.9765\n",
      "Epoch 169/2000\n",
      "3/3 [==============================] - 0s 145ms/step - loss: 0.3019 - categorical_accuracy: 0.9765\n",
      "Epoch 170/2000\n",
      "3/3 [==============================] - 0s 143ms/step - loss: 0.2981 - categorical_accuracy: 0.9765\n",
      "Epoch 171/2000\n",
      "3/3 [==============================] - 0s 155ms/step - loss: 0.2985 - categorical_accuracy: 0.9765\n",
      "Epoch 172/2000\n",
      "3/3 [==============================] - 0s 143ms/step - loss: 0.2981 - categorical_accuracy: 0.9647\n",
      "Epoch 173/2000\n",
      "3/3 [==============================] - 0s 149ms/step - loss: 0.2923 - categorical_accuracy: 0.9765\n",
      "Epoch 174/2000\n",
      "3/3 [==============================] - 0s 127ms/step - loss: 0.2898 - categorical_accuracy: 0.9765\n",
      "Epoch 175/2000\n",
      "3/3 [==============================] - 0s 130ms/step - loss: 0.2862 - categorical_accuracy: 0.9765\n",
      "Epoch 176/2000\n",
      "3/3 [==============================] - 0s 141ms/step - loss: 0.2832 - categorical_accuracy: 0.9765\n",
      "Epoch 177/2000\n",
      "3/3 [==============================] - 0s 145ms/step - loss: 0.2818 - categorical_accuracy: 0.9765\n",
      "Epoch 178/2000\n",
      "3/3 [==============================] - 0s 144ms/step - loss: 0.2816 - categorical_accuracy: 0.9765\n",
      "Epoch 179/2000\n",
      "3/3 [==============================] - 0s 146ms/step - loss: 0.2826 - categorical_accuracy: 0.9765\n",
      "Epoch 180/2000\n",
      "3/3 [==============================] - 0s 133ms/step - loss: 0.2767 - categorical_accuracy: 0.9765\n",
      "Epoch 181/2000\n",
      "3/3 [==============================] - 0s 158ms/step - loss: 0.2729 - categorical_accuracy: 0.9765\n",
      "Epoch 182/2000\n",
      "3/3 [==============================] - 0s 130ms/step - loss: 0.2709 - categorical_accuracy: 0.9765\n",
      "Epoch 183/2000\n",
      "3/3 [==============================] - 0s 152ms/step - loss: 0.2696 - categorical_accuracy: 0.9765\n",
      "Epoch 184/2000\n",
      "3/3 [==============================] - 0s 151ms/step - loss: 0.2697 - categorical_accuracy: 0.9765\n",
      "Epoch 185/2000\n",
      "3/3 [==============================] - 0s 134ms/step - loss: 0.2767 - categorical_accuracy: 0.9647\n",
      "Epoch 186/2000\n",
      "3/3 [==============================] - 0s 155ms/step - loss: 0.2753 - categorical_accuracy: 0.9765\n",
      "Epoch 187/2000\n",
      "3/3 [==============================] - 0s 128ms/step - loss: 0.2729 - categorical_accuracy: 0.9647\n",
      "Epoch 188/2000\n",
      "3/3 [==============================] - 0s 129ms/step - loss: 0.2798 - categorical_accuracy: 0.9765\n",
      "Epoch 189/2000\n",
      "3/3 [==============================] - 0s 138ms/step - loss: 0.2685 - categorical_accuracy: 0.9765\n",
      "Epoch 190/2000\n",
      "3/3 [==============================] - 0s 145ms/step - loss: 0.2805 - categorical_accuracy: 0.9647\n",
      "Epoch 191/2000\n",
      "3/3 [==============================] - 0s 141ms/step - loss: 0.2624 - categorical_accuracy: 0.9765\n",
      "Epoch 192/2000\n",
      "3/3 [==============================] - 0s 144ms/step - loss: 0.2857 - categorical_accuracy: 0.9647\n",
      "Epoch 193/2000\n",
      "3/3 [==============================] - 0s 127ms/step - loss: 0.2796 - categorical_accuracy: 0.9647\n",
      "Epoch 194/2000\n",
      "3/3 [==============================] - 0s 141ms/step - loss: 0.2723 - categorical_accuracy: 0.9765\n",
      "Epoch 195/2000\n",
      "3/3 [==============================] - 0s 151ms/step - loss: 0.2632 - categorical_accuracy: 0.9647\n",
      "Epoch 196/2000\n",
      "3/3 [==============================] - 0s 160ms/step - loss: 0.2633 - categorical_accuracy: 0.9647\n",
      "Epoch 197/2000\n",
      "3/3 [==============================] - 0s 148ms/step - loss: 0.2647 - categorical_accuracy: 0.9647\n",
      "Epoch 198/2000\n",
      "3/3 [==============================] - 0s 150ms/step - loss: 0.2608 - categorical_accuracy: 0.9647\n",
      "Epoch 199/2000\n",
      "3/3 [==============================] - 0s 146ms/step - loss: 0.2646 - categorical_accuracy: 0.9647\n",
      "Epoch 200/2000\n",
      "3/3 [==============================] - 0s 147ms/step - loss: 0.2478 - categorical_accuracy: 0.9765\n",
      "Epoch 201/2000\n",
      "3/3 [==============================] - 0s 131ms/step - loss: 0.2551 - categorical_accuracy: 0.9765\n",
      "Epoch 202/2000\n",
      "3/3 [==============================] - 0s 142ms/step - loss: 0.2659 - categorical_accuracy: 0.9647\n",
      "Epoch 203/2000\n",
      "3/3 [==============================] - 0s 176ms/step - loss: 0.2464 - categorical_accuracy: 0.9765\n",
      "Epoch 204/2000\n",
      "3/3 [==============================] - 0s 148ms/step - loss: 0.2469 - categorical_accuracy: 0.9647\n",
      "Epoch 205/2000\n",
      "3/3 [==============================] - 0s 137ms/step - loss: 0.2497 - categorical_accuracy: 0.9647\n",
      "Epoch 206/2000\n",
      "3/3 [==============================] - 0s 130ms/step - loss: 0.2377 - categorical_accuracy: 0.9765\n",
      "Epoch 207/2000\n",
      "3/3 [==============================] - 0s 133ms/step - loss: 0.2634 - categorical_accuracy: 0.9412\n",
      "Epoch 208/2000\n",
      "3/3 [==============================] - 0s 131ms/step - loss: 0.2374 - categorical_accuracy: 0.9647\n",
      "Epoch 209/2000\n",
      "3/3 [==============================] - 0s 154ms/step - loss: 0.2257 - categorical_accuracy: 0.9765\n",
      "Epoch 210/2000\n",
      "3/3 [==============================] - 0s 148ms/step - loss: 0.2279 - categorical_accuracy: 0.9765\n",
      "Epoch 211/2000\n",
      "3/3 [==============================] - 0s 145ms/step - loss: 0.2259 - categorical_accuracy: 0.9765\n",
      "Epoch 212/2000\n",
      "3/3 [==============================] - 0s 145ms/step - loss: 0.2231 - categorical_accuracy: 0.9765\n",
      "Epoch 213/2000\n",
      "3/3 [==============================] - 0s 150ms/step - loss: 0.2214 - categorical_accuracy: 0.9765\n",
      "Epoch 214/2000\n",
      "3/3 [==============================] - 0s 163ms/step - loss: 0.2339 - categorical_accuracy: 0.9765\n",
      "Epoch 215/2000\n",
      "3/3 [==============================] - 0s 126ms/step - loss: 0.2281 - categorical_accuracy: 0.9765\n",
      "Epoch 216/2000\n",
      "3/3 [==============================] - 0s 149ms/step - loss: 0.2365 - categorical_accuracy: 0.9765\n"
     ]
    },
    {
     "name": "stdout",
     "output_type": "stream",
     "text": [
      "Epoch 217/2000\n",
      "3/3 [==============================] - 0s 139ms/step - loss: 0.2357 - categorical_accuracy: 0.9765\n",
      "Epoch 218/2000\n",
      "3/3 [==============================] - 0s 151ms/step - loss: 0.2274 - categorical_accuracy: 0.9765\n",
      "Epoch 219/2000\n",
      "3/3 [==============================] - 0s 158ms/step - loss: 0.2217 - categorical_accuracy: 0.9765\n",
      "Epoch 220/2000\n",
      "3/3 [==============================] - 0s 140ms/step - loss: 0.2306 - categorical_accuracy: 0.9647\n",
      "Epoch 221/2000\n",
      "3/3 [==============================] - 0s 159ms/step - loss: 0.2119 - categorical_accuracy: 0.9765\n",
      "Epoch 222/2000\n",
      "3/3 [==============================] - 0s 179ms/step - loss: 0.2088 - categorical_accuracy: 0.9765\n",
      "Epoch 223/2000\n",
      "3/3 [==============================] - 0s 145ms/step - loss: 0.2091 - categorical_accuracy: 0.9765\n",
      "Epoch 224/2000\n",
      "3/3 [==============================] - 0s 140ms/step - loss: 0.2145 - categorical_accuracy: 0.9647\n",
      "Epoch 225/2000\n",
      "3/3 [==============================] - 0s 166ms/step - loss: 0.2140 - categorical_accuracy: 0.9765\n",
      "Epoch 226/2000\n",
      "3/3 [==============================] - 0s 138ms/step - loss: 0.1995 - categorical_accuracy: 0.9765\n",
      "Epoch 227/2000\n",
      "3/3 [==============================] - 0s 134ms/step - loss: 0.1929 - categorical_accuracy: 0.9765\n",
      "Epoch 228/2000\n",
      "3/3 [==============================] - 0s 146ms/step - loss: 0.2062 - categorical_accuracy: 0.9765\n",
      "Epoch 229/2000\n",
      "3/3 [==============================] - 0s 151ms/step - loss: 0.1981 - categorical_accuracy: 0.9765\n",
      "Epoch 230/2000\n",
      "3/3 [==============================] - 1s 171ms/step - loss: 0.1901 - categorical_accuracy: 0.9765\n",
      "Epoch 231/2000\n",
      "3/3 [==============================] - 0s 149ms/step - loss: 0.1879 - categorical_accuracy: 0.9765\n",
      "Epoch 232/2000\n",
      "3/3 [==============================] - 0s 139ms/step - loss: 0.1899 - categorical_accuracy: 0.9765\n",
      "Epoch 233/2000\n",
      "3/3 [==============================] - 0s 130ms/step - loss: 0.1880 - categorical_accuracy: 0.9765\n",
      "Epoch 234/2000\n",
      "3/3 [==============================] - 0s 156ms/step - loss: 0.1840 - categorical_accuracy: 0.9765\n",
      "Epoch 235/2000\n",
      "3/3 [==============================] - 0s 148ms/step - loss: 0.1848 - categorical_accuracy: 0.9765\n",
      "Epoch 236/2000\n",
      "3/3 [==============================] - 0s 123ms/step - loss: 0.1852 - categorical_accuracy: 0.9765\n",
      "Epoch 237/2000\n",
      "3/3 [==============================] - 0s 154ms/step - loss: 0.1822 - categorical_accuracy: 0.9765\n",
      "Epoch 238/2000\n",
      "3/3 [==============================] - 0s 150ms/step - loss: 0.1830 - categorical_accuracy: 0.9765\n",
      "Epoch 239/2000\n",
      "3/3 [==============================] - 0s 149ms/step - loss: 0.1808 - categorical_accuracy: 0.9765\n",
      "Epoch 240/2000\n",
      "3/3 [==============================] - 0s 158ms/step - loss: 0.1784 - categorical_accuracy: 0.9765\n",
      "Epoch 241/2000\n",
      "3/3 [==============================] - 0s 158ms/step - loss: 0.1741 - categorical_accuracy: 0.9765\n",
      "Epoch 242/2000\n",
      "3/3 [==============================] - 0s 148ms/step - loss: 0.1734 - categorical_accuracy: 0.9765\n",
      "Epoch 243/2000\n",
      "3/3 [==============================] - 0s 129ms/step - loss: 0.1720 - categorical_accuracy: 0.9765\n",
      "Epoch 244/2000\n",
      "3/3 [==============================] - 0s 145ms/step - loss: 0.1703 - categorical_accuracy: 0.9765\n",
      "Epoch 245/2000\n",
      "3/3 [==============================] - 0s 133ms/step - loss: 0.1688 - categorical_accuracy: 0.9765\n",
      "Epoch 246/2000\n",
      "3/3 [==============================] - 0s 135ms/step - loss: 0.1689 - categorical_accuracy: 0.9765\n",
      "Epoch 247/2000\n",
      "3/3 [==============================] - 0s 142ms/step - loss: 0.1666 - categorical_accuracy: 0.9765\n",
      "Epoch 248/2000\n",
      "3/3 [==============================] - 0s 135ms/step - loss: 0.1660 - categorical_accuracy: 0.9765\n",
      "Epoch 249/2000\n",
      "3/3 [==============================] - 0s 139ms/step - loss: 0.1663 - categorical_accuracy: 0.9765\n",
      "Epoch 250/2000\n",
      "3/3 [==============================] - 0s 128ms/step - loss: 0.1641 - categorical_accuracy: 0.9765\n",
      "Epoch 251/2000\n",
      "3/3 [==============================] - 0s 125ms/step - loss: 0.1639 - categorical_accuracy: 0.9765\n",
      "Epoch 252/2000\n",
      "3/3 [==============================] - 0s 156ms/step - loss: 0.1617 - categorical_accuracy: 0.9765\n",
      "Epoch 253/2000\n",
      "3/3 [==============================] - 0s 158ms/step - loss: 0.1613 - categorical_accuracy: 0.9765\n",
      "Epoch 254/2000\n",
      "3/3 [==============================] - 0s 152ms/step - loss: 0.1603 - categorical_accuracy: 0.9765\n",
      "Epoch 255/2000\n",
      "3/3 [==============================] - 0s 145ms/step - loss: 0.1602 - categorical_accuracy: 0.9765\n",
      "Epoch 256/2000\n",
      "3/3 [==============================] - 0s 142ms/step - loss: 0.1584 - categorical_accuracy: 0.9765\n",
      "Epoch 257/2000\n",
      "3/3 [==============================] - 0s 142ms/step - loss: 0.1578 - categorical_accuracy: 0.9765\n",
      "Epoch 258/2000\n",
      "3/3 [==============================] - 0s 150ms/step - loss: 0.1559 - categorical_accuracy: 0.9765\n",
      "Epoch 259/2000\n",
      "3/3 [==============================] - 0s 138ms/step - loss: 0.1555 - categorical_accuracy: 0.9765\n",
      "Epoch 260/2000\n"
     ]
    },
    {
     "ename": "KeyboardInterrupt",
     "evalue": "",
     "output_type": "error",
     "traceback": [
      "\u001b[1;31m---------------------------------------------------------------------------\u001b[0m",
      "\u001b[1;31mKeyboardInterrupt\u001b[0m                         Traceback (most recent call last)",
      "\u001b[1;32m<ipython-input-25-610fed43f9e2>\u001b[0m in \u001b[0;36m<module>\u001b[1;34m\u001b[0m\n\u001b[1;32m----> 1\u001b[1;33m \u001b[0mmodel\u001b[0m\u001b[1;33m.\u001b[0m\u001b[0mfit\u001b[0m\u001b[1;33m(\u001b[0m\u001b[0mX_train\u001b[0m\u001b[1;33m,\u001b[0m \u001b[0my_train\u001b[0m\u001b[1;33m,\u001b[0m \u001b[0mepochs\u001b[0m\u001b[1;33m=\u001b[0m\u001b[1;36m2000\u001b[0m\u001b[1;33m,\u001b[0m \u001b[0mcallbacks\u001b[0m\u001b[1;33m=\u001b[0m\u001b[1;33m[\u001b[0m\u001b[0mtb_callback\u001b[0m\u001b[1;33m]\u001b[0m\u001b[1;33m)\u001b[0m\u001b[1;33m\u001b[0m\u001b[1;33m\u001b[0m\u001b[0m\n\u001b[0m",
      "\u001b[1;32m~\\AppData\\Roaming\\Python\\Python37\\site-packages\\keras\\utils\\traceback_utils.py\u001b[0m in \u001b[0;36merror_handler\u001b[1;34m(*args, **kwargs)\u001b[0m\n\u001b[0;32m     62\u001b[0m     \u001b[0mfiltered_tb\u001b[0m \u001b[1;33m=\u001b[0m \u001b[1;32mNone\u001b[0m\u001b[1;33m\u001b[0m\u001b[1;33m\u001b[0m\u001b[0m\n\u001b[0;32m     63\u001b[0m     \u001b[1;32mtry\u001b[0m\u001b[1;33m:\u001b[0m\u001b[1;33m\u001b[0m\u001b[1;33m\u001b[0m\u001b[0m\n\u001b[1;32m---> 64\u001b[1;33m       \u001b[1;32mreturn\u001b[0m \u001b[0mfn\u001b[0m\u001b[1;33m(\u001b[0m\u001b[1;33m*\u001b[0m\u001b[0margs\u001b[0m\u001b[1;33m,\u001b[0m \u001b[1;33m**\u001b[0m\u001b[0mkwargs\u001b[0m\u001b[1;33m)\u001b[0m\u001b[1;33m\u001b[0m\u001b[1;33m\u001b[0m\u001b[0m\n\u001b[0m\u001b[0;32m     65\u001b[0m     \u001b[1;32mexcept\u001b[0m \u001b[0mException\u001b[0m \u001b[1;32mas\u001b[0m \u001b[0me\u001b[0m\u001b[1;33m:\u001b[0m  \u001b[1;31m# pylint: disable=broad-except\u001b[0m\u001b[1;33m\u001b[0m\u001b[1;33m\u001b[0m\u001b[0m\n\u001b[0;32m     66\u001b[0m       \u001b[0mfiltered_tb\u001b[0m \u001b[1;33m=\u001b[0m \u001b[0m_process_traceback_frames\u001b[0m\u001b[1;33m(\u001b[0m\u001b[0me\u001b[0m\u001b[1;33m.\u001b[0m\u001b[0m__traceback__\u001b[0m\u001b[1;33m)\u001b[0m\u001b[1;33m\u001b[0m\u001b[1;33m\u001b[0m\u001b[0m\n",
      "\u001b[1;32m~\\AppData\\Roaming\\Python\\Python37\\site-packages\\keras\\engine\\training.py\u001b[0m in \u001b[0;36mfit\u001b[1;34m(self, x, y, batch_size, epochs, verbose, callbacks, validation_split, validation_data, shuffle, class_weight, sample_weight, initial_epoch, steps_per_epoch, validation_steps, validation_batch_size, validation_freq, max_queue_size, workers, use_multiprocessing)\u001b[0m\n\u001b[0;32m   1407\u001b[0m                 _r=1):\n\u001b[0;32m   1408\u001b[0m               \u001b[0mcallbacks\u001b[0m\u001b[1;33m.\u001b[0m\u001b[0mon_train_batch_begin\u001b[0m\u001b[1;33m(\u001b[0m\u001b[0mstep\u001b[0m\u001b[1;33m)\u001b[0m\u001b[1;33m\u001b[0m\u001b[1;33m\u001b[0m\u001b[0m\n\u001b[1;32m-> 1409\u001b[1;33m               \u001b[0mtmp_logs\u001b[0m \u001b[1;33m=\u001b[0m \u001b[0mself\u001b[0m\u001b[1;33m.\u001b[0m\u001b[0mtrain_function\u001b[0m\u001b[1;33m(\u001b[0m\u001b[0miterator\u001b[0m\u001b[1;33m)\u001b[0m\u001b[1;33m\u001b[0m\u001b[1;33m\u001b[0m\u001b[0m\n\u001b[0m\u001b[0;32m   1410\u001b[0m               \u001b[1;32mif\u001b[0m \u001b[0mdata_handler\u001b[0m\u001b[1;33m.\u001b[0m\u001b[0mshould_sync\u001b[0m\u001b[1;33m:\u001b[0m\u001b[1;33m\u001b[0m\u001b[1;33m\u001b[0m\u001b[0m\n\u001b[0;32m   1411\u001b[0m                 \u001b[0mcontext\u001b[0m\u001b[1;33m.\u001b[0m\u001b[0masync_wait\u001b[0m\u001b[1;33m(\u001b[0m\u001b[1;33m)\u001b[0m\u001b[1;33m\u001b[0m\u001b[1;33m\u001b[0m\u001b[0m\n",
      "\u001b[1;32m~\\AppData\\Roaming\\Python\\Python37\\site-packages\\tensorflow\\python\\util\\traceback_utils.py\u001b[0m in \u001b[0;36merror_handler\u001b[1;34m(*args, **kwargs)\u001b[0m\n\u001b[0;32m    148\u001b[0m     \u001b[0mfiltered_tb\u001b[0m \u001b[1;33m=\u001b[0m \u001b[1;32mNone\u001b[0m\u001b[1;33m\u001b[0m\u001b[1;33m\u001b[0m\u001b[0m\n\u001b[0;32m    149\u001b[0m     \u001b[1;32mtry\u001b[0m\u001b[1;33m:\u001b[0m\u001b[1;33m\u001b[0m\u001b[1;33m\u001b[0m\u001b[0m\n\u001b[1;32m--> 150\u001b[1;33m       \u001b[1;32mreturn\u001b[0m \u001b[0mfn\u001b[0m\u001b[1;33m(\u001b[0m\u001b[1;33m*\u001b[0m\u001b[0margs\u001b[0m\u001b[1;33m,\u001b[0m \u001b[1;33m**\u001b[0m\u001b[0mkwargs\u001b[0m\u001b[1;33m)\u001b[0m\u001b[1;33m\u001b[0m\u001b[1;33m\u001b[0m\u001b[0m\n\u001b[0m\u001b[0;32m    151\u001b[0m     \u001b[1;32mexcept\u001b[0m \u001b[0mException\u001b[0m \u001b[1;32mas\u001b[0m \u001b[0me\u001b[0m\u001b[1;33m:\u001b[0m\u001b[1;33m\u001b[0m\u001b[1;33m\u001b[0m\u001b[0m\n\u001b[0;32m    152\u001b[0m       \u001b[0mfiltered_tb\u001b[0m \u001b[1;33m=\u001b[0m \u001b[0m_process_traceback_frames\u001b[0m\u001b[1;33m(\u001b[0m\u001b[0me\u001b[0m\u001b[1;33m.\u001b[0m\u001b[0m__traceback__\u001b[0m\u001b[1;33m)\u001b[0m\u001b[1;33m\u001b[0m\u001b[1;33m\u001b[0m\u001b[0m\n",
      "\u001b[1;32m~\\AppData\\Roaming\\Python\\Python37\\site-packages\\tensorflow\\python\\eager\\def_function.py\u001b[0m in \u001b[0;36m__call__\u001b[1;34m(self, *args, **kwds)\u001b[0m\n\u001b[0;32m    913\u001b[0m \u001b[1;33m\u001b[0m\u001b[0m\n\u001b[0;32m    914\u001b[0m       \u001b[1;32mwith\u001b[0m \u001b[0mOptionalXlaContext\u001b[0m\u001b[1;33m(\u001b[0m\u001b[0mself\u001b[0m\u001b[1;33m.\u001b[0m\u001b[0m_jit_compile\u001b[0m\u001b[1;33m)\u001b[0m\u001b[1;33m:\u001b[0m\u001b[1;33m\u001b[0m\u001b[1;33m\u001b[0m\u001b[0m\n\u001b[1;32m--> 915\u001b[1;33m         \u001b[0mresult\u001b[0m \u001b[1;33m=\u001b[0m \u001b[0mself\u001b[0m\u001b[1;33m.\u001b[0m\u001b[0m_call\u001b[0m\u001b[1;33m(\u001b[0m\u001b[1;33m*\u001b[0m\u001b[0margs\u001b[0m\u001b[1;33m,\u001b[0m \u001b[1;33m**\u001b[0m\u001b[0mkwds\u001b[0m\u001b[1;33m)\u001b[0m\u001b[1;33m\u001b[0m\u001b[1;33m\u001b[0m\u001b[0m\n\u001b[0m\u001b[0;32m    916\u001b[0m \u001b[1;33m\u001b[0m\u001b[0m\n\u001b[0;32m    917\u001b[0m       \u001b[0mnew_tracing_count\u001b[0m \u001b[1;33m=\u001b[0m \u001b[0mself\u001b[0m\u001b[1;33m.\u001b[0m\u001b[0mexperimental_get_tracing_count\u001b[0m\u001b[1;33m(\u001b[0m\u001b[1;33m)\u001b[0m\u001b[1;33m\u001b[0m\u001b[1;33m\u001b[0m\u001b[0m\n",
      "\u001b[1;32m~\\AppData\\Roaming\\Python\\Python37\\site-packages\\tensorflow\\python\\eager\\def_function.py\u001b[0m in \u001b[0;36m_call\u001b[1;34m(self, *args, **kwds)\u001b[0m\n\u001b[0;32m    945\u001b[0m       \u001b[1;31m# In this case we have created variables on the first call, so we run the\u001b[0m\u001b[1;33m\u001b[0m\u001b[1;33m\u001b[0m\u001b[1;33m\u001b[0m\u001b[0m\n\u001b[0;32m    946\u001b[0m       \u001b[1;31m# defunned version which is guaranteed to never create variables.\u001b[0m\u001b[1;33m\u001b[0m\u001b[1;33m\u001b[0m\u001b[1;33m\u001b[0m\u001b[0m\n\u001b[1;32m--> 947\u001b[1;33m       \u001b[1;32mreturn\u001b[0m \u001b[0mself\u001b[0m\u001b[1;33m.\u001b[0m\u001b[0m_stateless_fn\u001b[0m\u001b[1;33m(\u001b[0m\u001b[1;33m*\u001b[0m\u001b[0margs\u001b[0m\u001b[1;33m,\u001b[0m \u001b[1;33m**\u001b[0m\u001b[0mkwds\u001b[0m\u001b[1;33m)\u001b[0m  \u001b[1;31m# pylint: disable=not-callable\u001b[0m\u001b[1;33m\u001b[0m\u001b[1;33m\u001b[0m\u001b[0m\n\u001b[0m\u001b[0;32m    948\u001b[0m     \u001b[1;32melif\u001b[0m \u001b[0mself\u001b[0m\u001b[1;33m.\u001b[0m\u001b[0m_stateful_fn\u001b[0m \u001b[1;32mis\u001b[0m \u001b[1;32mnot\u001b[0m \u001b[1;32mNone\u001b[0m\u001b[1;33m:\u001b[0m\u001b[1;33m\u001b[0m\u001b[1;33m\u001b[0m\u001b[0m\n\u001b[0;32m    949\u001b[0m       \u001b[1;31m# Release the lock early so that multiple threads can perform the call\u001b[0m\u001b[1;33m\u001b[0m\u001b[1;33m\u001b[0m\u001b[1;33m\u001b[0m\u001b[0m\n",
      "\u001b[1;32m~\\AppData\\Roaming\\Python\\Python37\\site-packages\\tensorflow\\python\\eager\\function.py\u001b[0m in \u001b[0;36m__call__\u001b[1;34m(self, *args, **kwargs)\u001b[0m\n\u001b[0;32m   2452\u001b[0m        filtered_flat_args) = self._maybe_define_function(args, kwargs)\n\u001b[0;32m   2453\u001b[0m     return graph_function._call_flat(\n\u001b[1;32m-> 2454\u001b[1;33m         filtered_flat_args, captured_inputs=graph_function.captured_inputs)  # pylint: disable=protected-access\n\u001b[0m\u001b[0;32m   2455\u001b[0m \u001b[1;33m\u001b[0m\u001b[0m\n\u001b[0;32m   2456\u001b[0m   \u001b[1;33m@\u001b[0m\u001b[0mproperty\u001b[0m\u001b[1;33m\u001b[0m\u001b[1;33m\u001b[0m\u001b[0m\n",
      "\u001b[1;32m~\\AppData\\Roaming\\Python\\Python37\\site-packages\\tensorflow\\python\\eager\\function.py\u001b[0m in \u001b[0;36m_call_flat\u001b[1;34m(self, args, captured_inputs, cancellation_manager)\u001b[0m\n\u001b[0;32m   1859\u001b[0m       \u001b[1;31m# No tape is watching; skip to running the function.\u001b[0m\u001b[1;33m\u001b[0m\u001b[1;33m\u001b[0m\u001b[1;33m\u001b[0m\u001b[0m\n\u001b[0;32m   1860\u001b[0m       return self._build_call_outputs(self._inference_function.call(\n\u001b[1;32m-> 1861\u001b[1;33m           ctx, args, cancellation_manager=cancellation_manager))\n\u001b[0m\u001b[0;32m   1862\u001b[0m     forward_backward = self._select_forward_and_backward_functions(\n\u001b[0;32m   1863\u001b[0m         \u001b[0margs\u001b[0m\u001b[1;33m,\u001b[0m\u001b[1;33m\u001b[0m\u001b[1;33m\u001b[0m\u001b[0m\n",
      "\u001b[1;32m~\\AppData\\Roaming\\Python\\Python37\\site-packages\\tensorflow\\python\\eager\\function.py\u001b[0m in \u001b[0;36mcall\u001b[1;34m(self, ctx, args, cancellation_manager)\u001b[0m\n\u001b[0;32m    500\u001b[0m               \u001b[0minputs\u001b[0m\u001b[1;33m=\u001b[0m\u001b[0margs\u001b[0m\u001b[1;33m,\u001b[0m\u001b[1;33m\u001b[0m\u001b[1;33m\u001b[0m\u001b[0m\n\u001b[0;32m    501\u001b[0m               \u001b[0mattrs\u001b[0m\u001b[1;33m=\u001b[0m\u001b[0mattrs\u001b[0m\u001b[1;33m,\u001b[0m\u001b[1;33m\u001b[0m\u001b[1;33m\u001b[0m\u001b[0m\n\u001b[1;32m--> 502\u001b[1;33m               ctx=ctx)\n\u001b[0m\u001b[0;32m    503\u001b[0m         \u001b[1;32melse\u001b[0m\u001b[1;33m:\u001b[0m\u001b[1;33m\u001b[0m\u001b[1;33m\u001b[0m\u001b[0m\n\u001b[0;32m    504\u001b[0m           outputs = execute.execute_with_cancellation(\n",
      "\u001b[1;32m~\\AppData\\Roaming\\Python\\Python37\\site-packages\\tensorflow\\python\\eager\\execute.py\u001b[0m in \u001b[0;36mquick_execute\u001b[1;34m(op_name, num_outputs, inputs, attrs, ctx, name)\u001b[0m\n\u001b[0;32m     53\u001b[0m     \u001b[0mctx\u001b[0m\u001b[1;33m.\u001b[0m\u001b[0mensure_initialized\u001b[0m\u001b[1;33m(\u001b[0m\u001b[1;33m)\u001b[0m\u001b[1;33m\u001b[0m\u001b[1;33m\u001b[0m\u001b[0m\n\u001b[0;32m     54\u001b[0m     tensors = pywrap_tfe.TFE_Py_Execute(ctx._handle, device_name, op_name,\n\u001b[1;32m---> 55\u001b[1;33m                                         inputs, attrs, num_outputs)\n\u001b[0m\u001b[0;32m     56\u001b[0m   \u001b[1;32mexcept\u001b[0m \u001b[0mcore\u001b[0m\u001b[1;33m.\u001b[0m\u001b[0m_NotOkStatusException\u001b[0m \u001b[1;32mas\u001b[0m \u001b[0me\u001b[0m\u001b[1;33m:\u001b[0m\u001b[1;33m\u001b[0m\u001b[1;33m\u001b[0m\u001b[0m\n\u001b[0;32m     57\u001b[0m     \u001b[1;32mif\u001b[0m \u001b[0mname\u001b[0m \u001b[1;32mis\u001b[0m \u001b[1;32mnot\u001b[0m \u001b[1;32mNone\u001b[0m\u001b[1;33m:\u001b[0m\u001b[1;33m\u001b[0m\u001b[1;33m\u001b[0m\u001b[0m\n",
      "\u001b[1;31mKeyboardInterrupt\u001b[0m: "
     ]
    }
   ],
   "source": [
    "model.fit(X_train, y_train, epochs=2000, callbacks=[tb_callback])"
   ]
  },
  {
   "cell_type": "code",
   "execution_count": 26,
   "metadata": {
    "scrolled": true
   },
   "outputs": [
    {
     "name": "stdout",
     "output_type": "stream",
     "text": [
      "Model: \"sequential\"\n",
      "_________________________________________________________________\n",
      " Layer (type)                Output Shape              Param #   \n",
      "=================================================================\n",
      " lstm (LSTM)                 (None, 30, 64)            442112    \n",
      "                                                                 \n",
      " lstm_1 (LSTM)               (None, 30, 128)           98816     \n",
      "                                                                 \n",
      " lstm_2 (LSTM)               (None, 64)                49408     \n",
      "                                                                 \n",
      " dense (Dense)               (None, 64)                4160      \n",
      "                                                                 \n",
      " dense_1 (Dense)             (None, 32)                2080      \n",
      "                                                                 \n",
      " dense_2 (Dense)             (None, 3)                 99        \n",
      "                                                                 \n",
      "=================================================================\n",
      "Total params: 596,675\n",
      "Trainable params: 596,675\n",
      "Non-trainable params: 0\n",
      "_________________________________________________________________\n"
     ]
    }
   ],
   "source": [
    "model.summary()"
   ]
  },
  {
   "cell_type": "markdown",
   "metadata": {},
   "source": [
    "# 8. Make Predictions"
   ]
  },
  {
   "cell_type": "code",
   "execution_count": 24,
   "metadata": {},
   "outputs": [
    {
     "name": "stdout",
     "output_type": "stream",
     "text": [
      "1/1 [==============================] - 3s 3s/step\n"
     ]
    }
   ],
   "source": [
    "res = model.predict(X_test)"
   ]
  },
  {
   "cell_type": "code",
   "execution_count": 25,
   "metadata": {},
   "outputs": [
    {
     "data": {
      "text/plain": [
       "'thanks'"
      ]
     },
     "execution_count": 25,
     "metadata": {},
     "output_type": "execute_result"
    }
   ],
   "source": [
    "actions[np.argmax(res[3])]"
   ]
  },
  {
   "cell_type": "code",
   "execution_count": 26,
   "metadata": {},
   "outputs": [
    {
     "data": {
      "text/plain": [
       "'thanks'"
      ]
     },
     "execution_count": 26,
     "metadata": {},
     "output_type": "execute_result"
    }
   ],
   "source": [
    "actions[np.argmax(y_test[3])]"
   ]
  },
  {
   "cell_type": "markdown",
   "metadata": {},
   "source": [
    "# 9. Save Weights"
   ]
  },
  {
   "cell_type": "code",
   "execution_count": 30,
   "metadata": {},
   "outputs": [],
   "source": [
    "model.save('action.h5')"
   ]
  },
  {
   "cell_type": "code",
   "execution_count": 23,
   "metadata": {},
   "outputs": [],
   "source": [
    "model.load_weights('action.h5')"
   ]
  },
  {
   "cell_type": "markdown",
   "metadata": {},
   "source": [
    "# 10. Evaluation using Confusion Matrix and Accuracy"
   ]
  },
  {
   "cell_type": "code",
   "execution_count": 27,
   "metadata": {},
   "outputs": [],
   "source": [
    "from sklearn.metrics import multilabel_confusion_matrix, accuracy_score"
   ]
  },
  {
   "cell_type": "code",
   "execution_count": 28,
   "metadata": {},
   "outputs": [
    {
     "name": "stdout",
     "output_type": "stream",
     "text": [
      "1/1 [==============================] - 0s 75ms/step\n"
     ]
    }
   ],
   "source": [
    "yhat = model.predict(X_test)"
   ]
  },
  {
   "cell_type": "code",
   "execution_count": 29,
   "metadata": {},
   "outputs": [],
   "source": [
    "ytrue = np.argmax(y_test, axis=1).tolist()\n",
    "yhat = np.argmax(yhat, axis=1).tolist()"
   ]
  },
  {
   "cell_type": "code",
   "execution_count": 30,
   "metadata": {},
   "outputs": [
    {
     "data": {
      "text/plain": [
       "array([[[4, 0],\n",
       "        [0, 1]],\n",
       "\n",
       "       [[1, 0],\n",
       "        [0, 4]]], dtype=int64)"
      ]
     },
     "execution_count": 30,
     "metadata": {},
     "output_type": "execute_result"
    }
   ],
   "source": [
    "multilabel_confusion_matrix(ytrue, yhat)"
   ]
  },
  {
   "cell_type": "code",
   "execution_count": 31,
   "metadata": {},
   "outputs": [
    {
     "data": {
      "text/plain": [
       "1.0"
      ]
     },
     "execution_count": 31,
     "metadata": {},
     "output_type": "execute_result"
    }
   ],
   "source": [
    "accuracy_score(ytrue, yhat)"
   ]
  },
  {
   "cell_type": "markdown",
   "metadata": {},
   "source": [
    "# 11. Test in Real Time"
   ]
  },
  {
   "cell_type": "code",
   "execution_count": 32,
   "metadata": {},
   "outputs": [],
   "source": [
    "colors = [(245,117,16), (117,245,16), (16,117,245)]\n",
    "def prob_viz(res, actions, input_frame, colors):\n",
    "    output_frame = input_frame.copy()\n",
    "    for num, prob in enumerate(res):\n",
    "        cv2.rectangle(output_frame, (0,60+num*40), (int(prob*100), 90+num*40), colors[num], -1)\n",
    "        cv2.putText(output_frame, actions[num], (0, 85+num*40), cv2.FONT_HERSHEY_SIMPLEX, 1, (255,255,255), 2, cv2.LINE_AA)\n",
    "        \n",
    "    return output_frame"
   ]
  },
  {
   "cell_type": "code",
   "execution_count": 33,
   "metadata": {},
   "outputs": [
    {
     "ename": "NameError",
     "evalue": "name 'image' is not defined",
     "output_type": "error",
     "traceback": [
      "\u001b[1;31m---------------------------------------------------------------------------\u001b[0m",
      "\u001b[1;31mNameError\u001b[0m                                 Traceback (most recent call last)",
      "\u001b[1;32m<ipython-input-33-0248883a8ffa>\u001b[0m in \u001b[0;36m<module>\u001b[1;34m\u001b[0m\n\u001b[0;32m      1\u001b[0m \u001b[0mplt\u001b[0m\u001b[1;33m.\u001b[0m\u001b[0mfigure\u001b[0m\u001b[1;33m(\u001b[0m\u001b[0mfigsize\u001b[0m\u001b[1;33m=\u001b[0m\u001b[1;33m(\u001b[0m\u001b[1;36m18\u001b[0m\u001b[1;33m,\u001b[0m\u001b[1;36m18\u001b[0m\u001b[1;33m)\u001b[0m\u001b[1;33m)\u001b[0m\u001b[1;33m\u001b[0m\u001b[1;33m\u001b[0m\u001b[0m\n\u001b[1;32m----> 2\u001b[1;33m \u001b[0mplt\u001b[0m\u001b[1;33m.\u001b[0m\u001b[0mimshow\u001b[0m\u001b[1;33m(\u001b[0m\u001b[0mprob_viz\u001b[0m\u001b[1;33m(\u001b[0m\u001b[0mres\u001b[0m\u001b[1;33m,\u001b[0m \u001b[0mactions\u001b[0m\u001b[1;33m,\u001b[0m \u001b[0mimage\u001b[0m\u001b[1;33m,\u001b[0m \u001b[0mcolors\u001b[0m\u001b[1;33m)\u001b[0m\u001b[1;33m)\u001b[0m\u001b[1;33m\u001b[0m\u001b[1;33m\u001b[0m\u001b[0m\n\u001b[0m",
      "\u001b[1;31mNameError\u001b[0m: name 'image' is not defined"
     ]
    },
    {
     "data": {
      "text/plain": [
       "<Figure size 1296x1296 with 0 Axes>"
      ]
     },
     "metadata": {},
     "output_type": "display_data"
    }
   ],
   "source": [
    "plt.figure(figsize=(18,18))\n",
    "plt.imshow(prob_viz(res, actions, image, colors))"
   ]
  },
  {
   "cell_type": "code",
   "execution_count": 37,
   "metadata": {},
   "outputs": [],
   "source": [
    "sequence.reverse()"
   ]
  },
  {
   "cell_type": "code",
   "execution_count": 38,
   "metadata": {},
   "outputs": [
    {
     "data": {
      "text/plain": [
       "30"
      ]
     },
     "execution_count": 38,
     "metadata": {},
     "output_type": "execute_result"
    }
   ],
   "source": [
    "len(sequence)"
   ]
  },
  {
   "cell_type": "code",
   "execution_count": 39,
   "metadata": {},
   "outputs": [],
   "source": [
    "sequence.append('def')"
   ]
  },
  {
   "cell_type": "code",
   "execution_count": 47,
   "metadata": {},
   "outputs": [],
   "source": [
    "sequence.reverse()"
   ]
  },
  {
   "cell_type": "code",
   "execution_count": 48,
   "metadata": {
    "scrolled": true
   },
   "outputs": [
    {
     "data": {
      "text/plain": [
       "[array([ 0.48560697,  0.58165687, -0.52004284, ...,  0.11912338,\n",
       "         0.28032336, -0.02414318]),\n",
       " array([ 0.48545107,  0.58155739, -0.52019185, ...,  0.11916006,\n",
       "         0.27982163, -0.02449355]),\n",
       " array([ 0.48463449,  0.58138001, -0.5003565 , ...,  0.19196239,\n",
       "         0.47680232, -0.03413213]),\n",
       " array([ 0.4796617 ,  0.57994497, -0.55744439, ...,  0.        ,\n",
       "         0.        ,  0.        ]),\n",
       " array([ 0.47989392,  0.57827485, -0.54888678, ...,  0.        ,\n",
       "         0.        ,  0.        ]),\n",
       " array([ 0.4803912 ,  0.57790095, -0.47977796, ...,  0.        ,\n",
       "         0.        ,  0.        ]),\n",
       " array([ 0.48175129,  0.57782125, -0.62748134, ...,  0.        ,\n",
       "         0.        ,  0.        ]),\n",
       " array([ 0.4817844 ,  0.57698357, -0.59246916, ...,  0.        ,\n",
       "         0.        ,  0.        ]),\n",
       " array([ 0.47755522,  0.57709354, -0.5420779 , ...,  0.        ,\n",
       "         0.        ,  0.        ]),\n",
       " array([ 0.46494928,  0.57705313, -0.5735513 , ...,  0.        ,\n",
       "         0.        ,  0.        ]),\n",
       " array([ 0.44671291,  0.57719314, -0.58708858, ...,  0.        ,\n",
       "         0.        ,  0.        ]),\n",
       " array([ 0.43640438,  0.58422518, -0.48355937, ...,  0.        ,\n",
       "         0.        ,  0.        ]),\n",
       " array([ 0.42827582,  0.59589177, -0.48589644, ...,  0.        ,\n",
       "         0.        ,  0.        ]),\n",
       " array([ 0.41333684,  0.60588044, -0.47975025, ...,  0.        ,\n",
       "         0.        ,  0.        ]),\n",
       " array([ 0.41064468,  0.61076224, -0.47921014, ...,  0.        ,\n",
       "         0.        ,  0.        ]),\n",
       " array([ 0.40887684,  0.61178362, -0.48194671, ...,  0.        ,\n",
       "         0.        ,  0.        ]),\n",
       " array([ 0.40825051,  0.61086702, -0.47471768, ...,  0.        ,\n",
       "         0.        ,  0.        ]),\n",
       " array([ 0.40809655,  0.60984671, -0.48092851, ...,  0.        ,\n",
       "         0.        ,  0.        ]),\n",
       " array([ 0.40784425,  0.61087811, -0.45949507, ...,  0.        ,\n",
       "         0.        ,  0.        ]),\n",
       " array([ 0.4075529 ,  0.61260229, -0.45968142, ...,  0.        ,\n",
       "         0.        ,  0.        ]),\n",
       " array([ 0.40764681,  0.61348212, -0.44327801, ...,  0.        ,\n",
       "         0.        ,  0.        ]),\n",
       " array([ 0.40659437,  0.61322719, -0.41012874, ...,  0.        ,\n",
       "         0.        ,  0.        ]),\n",
       " array([ 0.40734607,  0.60925728, -0.34285852, ...,  0.        ,\n",
       "         0.        ,  0.        ]),\n",
       " array([ 0.4077391 ,  0.60835171, -0.28884113, ...,  0.        ,\n",
       "         0.        ,  0.        ]),\n",
       " array([ 0.40826982,  0.60824621, -0.34662047, ...,  0.        ,\n",
       "         0.        ,  0.        ]),\n",
       " array([ 0.40840212,  0.60557073, -0.4092803 , ...,  0.        ,\n",
       "         0.        ,  0.        ]),\n",
       " array([ 0.41170964,  0.60148627, -0.45218128, ...,  0.        ,\n",
       "         0.        ,  0.        ]),\n",
       " array([ 0.41218728,  0.60146379, -0.45232162, ...,  0.        ,\n",
       "         0.        ,  0.        ]),\n",
       " array([ 0.412404  ,  0.60158342, -0.48524657, ...,  0.        ,\n",
       "         0.        ,  0.        ]),\n",
       " array([ 0.41171256,  0.60280907, -0.48230869, ...,  0.        ,\n",
       "         0.        ,  0.        ])]"
      ]
     },
     "execution_count": 48,
     "metadata": {},
     "output_type": "execute_result"
    }
   ],
   "source": [
    "sequence[-30:]"
   ]
  },
  {
   "cell_type": "code",
   "execution_count": 34,
   "metadata": {},
   "outputs": [
    {
     "name": "stdout",
     "output_type": "stream",
     "text": [
      "<class 'mediapipe.python.solution_base.SolutionOutputs'>\n",
      "<class 'mediapipe.python.solution_base.SolutionOutputs'>\n",
      "<class 'mediapipe.python.solution_base.SolutionOutputs'>\n",
      "<class 'mediapipe.python.solution_base.SolutionOutputs'>\n",
      "<class 'mediapipe.python.solution_base.SolutionOutputs'>\n",
      "<class 'mediapipe.python.solution_base.SolutionOutputs'>\n",
      "<class 'mediapipe.python.solution_base.SolutionOutputs'>\n",
      "<class 'mediapipe.python.solution_base.SolutionOutputs'>\n",
      "<class 'mediapipe.python.solution_base.SolutionOutputs'>\n",
      "<class 'mediapipe.python.solution_base.SolutionOutputs'>\n",
      "<class 'mediapipe.python.solution_base.SolutionOutputs'>\n",
      "<class 'mediapipe.python.solution_base.SolutionOutputs'>\n",
      "<class 'mediapipe.python.solution_base.SolutionOutputs'>\n",
      "<class 'mediapipe.python.solution_base.SolutionOutputs'>\n",
      "<class 'mediapipe.python.solution_base.SolutionOutputs'>\n",
      "<class 'mediapipe.python.solution_base.SolutionOutputs'>\n",
      "<class 'mediapipe.python.solution_base.SolutionOutputs'>\n",
      "<class 'mediapipe.python.solution_base.SolutionOutputs'>\n",
      "<class 'mediapipe.python.solution_base.SolutionOutputs'>\n",
      "<class 'mediapipe.python.solution_base.SolutionOutputs'>\n",
      "<class 'mediapipe.python.solution_base.SolutionOutputs'>\n",
      "<class 'mediapipe.python.solution_base.SolutionOutputs'>\n",
      "<class 'mediapipe.python.solution_base.SolutionOutputs'>\n",
      "<class 'mediapipe.python.solution_base.SolutionOutputs'>\n",
      "<class 'mediapipe.python.solution_base.SolutionOutputs'>\n",
      "<class 'mediapipe.python.solution_base.SolutionOutputs'>\n",
      "<class 'mediapipe.python.solution_base.SolutionOutputs'>\n",
      "<class 'mediapipe.python.solution_base.SolutionOutputs'>\n",
      "<class 'mediapipe.python.solution_base.SolutionOutputs'>\n",
      "<class 'mediapipe.python.solution_base.SolutionOutputs'>\n",
      "1/1 [==============================] - 0s 108ms/step\n",
      "<class 'mediapipe.python.solution_base.SolutionOutputs'>\n",
      "1/1 [==============================] - 0s 67ms/step\n",
      "<class 'mediapipe.python.solution_base.SolutionOutputs'>\n",
      "1/1 [==============================] - 0s 66ms/step\n",
      "<class 'mediapipe.python.solution_base.SolutionOutputs'>\n",
      "1/1 [==============================] - 0s 65ms/step\n",
      "<class 'mediapipe.python.solution_base.SolutionOutputs'>\n",
      "1/1 [==============================] - 0s 73ms/step\n",
      "<class 'mediapipe.python.solution_base.SolutionOutputs'>\n",
      "1/1 [==============================] - 0s 76ms/step\n",
      "<class 'mediapipe.python.solution_base.SolutionOutputs'>\n",
      "1/1 [==============================] - 0s 66ms/step\n",
      "<class 'mediapipe.python.solution_base.SolutionOutputs'>\n",
      "1/1 [==============================] - 0s 70ms/step\n",
      "<class 'mediapipe.python.solution_base.SolutionOutputs'>\n",
      "1/1 [==============================] - 0s 65ms/step\n",
      "<class 'mediapipe.python.solution_base.SolutionOutputs'>\n",
      "1/1 [==============================] - 0s 71ms/step\n",
      "<class 'mediapipe.python.solution_base.SolutionOutputs'>\n",
      "1/1 [==============================] - 0s 64ms/step\n",
      "<class 'mediapipe.python.solution_base.SolutionOutputs'>\n",
      "1/1 [==============================] - 0s 70ms/step\n",
      "<class 'mediapipe.python.solution_base.SolutionOutputs'>\n",
      "1/1 [==============================] - 0s 67ms/step\n",
      "<class 'mediapipe.python.solution_base.SolutionOutputs'>\n",
      "1/1 [==============================] - 0s 68ms/step\n",
      "<class 'mediapipe.python.solution_base.SolutionOutputs'>\n",
      "1/1 [==============================] - 0s 66ms/step\n",
      "<class 'mediapipe.python.solution_base.SolutionOutputs'>\n",
      "1/1 [==============================] - 0s 70ms/step\n",
      "<class 'mediapipe.python.solution_base.SolutionOutputs'>\n",
      "1/1 [==============================] - 0s 73ms/step\n",
      "<class 'mediapipe.python.solution_base.SolutionOutputs'>\n",
      "1/1 [==============================] - 0s 71ms/step\n",
      "<class 'mediapipe.python.solution_base.SolutionOutputs'>\n",
      "1/1 [==============================] - 0s 70ms/step\n",
      "<class 'mediapipe.python.solution_base.SolutionOutputs'>\n",
      "1/1 [==============================] - 0s 74ms/step\n",
      "<class 'mediapipe.python.solution_base.SolutionOutputs'>\n",
      "1/1 [==============================] - 0s 80ms/step\n",
      "<class 'mediapipe.python.solution_base.SolutionOutputs'>\n",
      "1/1 [==============================] - 0s 67ms/step\n",
      "<class 'mediapipe.python.solution_base.SolutionOutputs'>\n",
      "1/1 [==============================] - 0s 78ms/step\n",
      "<class 'mediapipe.python.solution_base.SolutionOutputs'>\n",
      "1/1 [==============================] - 0s 66ms/step\n",
      "<class 'mediapipe.python.solution_base.SolutionOutputs'>\n",
      "1/1 [==============================] - 0s 71ms/step\n",
      "<class 'mediapipe.python.solution_base.SolutionOutputs'>\n",
      "1/1 [==============================] - 0s 77ms/step\n",
      "<class 'mediapipe.python.solution_base.SolutionOutputs'>\n",
      "1/1 [==============================] - 0s 73ms/step\n",
      "<class 'mediapipe.python.solution_base.SolutionOutputs'>\n",
      "1/1 [==============================] - 0s 86ms/step\n",
      "<class 'mediapipe.python.solution_base.SolutionOutputs'>\n",
      "1/1 [==============================] - 0s 69ms/step\n",
      "<class 'mediapipe.python.solution_base.SolutionOutputs'>\n",
      "1/1 [==============================] - 0s 91ms/step\n",
      "<class 'mediapipe.python.solution_base.SolutionOutputs'>\n",
      "1/1 [==============================] - 0s 66ms/step\n",
      "<class 'mediapipe.python.solution_base.SolutionOutputs'>\n",
      "1/1 [==============================] - 0s 71ms/step\n",
      "<class 'mediapipe.python.solution_base.SolutionOutputs'>\n",
      "1/1 [==============================] - 0s 73ms/step\n",
      "<class 'mediapipe.python.solution_base.SolutionOutputs'>\n",
      "1/1 [==============================] - 0s 69ms/step\n",
      "<class 'mediapipe.python.solution_base.SolutionOutputs'>\n",
      "1/1 [==============================] - 0s 70ms/step\n",
      "<class 'mediapipe.python.solution_base.SolutionOutputs'>\n",
      "1/1 [==============================] - 0s 75ms/step\n",
      "<class 'mediapipe.python.solution_base.SolutionOutputs'>\n",
      "1/1 [==============================] - 0s 70ms/step\n",
      "<class 'mediapipe.python.solution_base.SolutionOutputs'>\n",
      "1/1 [==============================] - 0s 73ms/step\n",
      "<class 'mediapipe.python.solution_base.SolutionOutputs'>\n",
      "1/1 [==============================] - 0s 78ms/step\n",
      "<class 'mediapipe.python.solution_base.SolutionOutputs'>\n",
      "1/1 [==============================] - 0s 78ms/step\n",
      "<class 'mediapipe.python.solution_base.SolutionOutputs'>\n",
      "1/1 [==============================] - 0s 73ms/step\n",
      "<class 'mediapipe.python.solution_base.SolutionOutputs'>\n",
      "1/1 [==============================] - 0s 72ms/step\n",
      "<class 'mediapipe.python.solution_base.SolutionOutputs'>\n",
      "1/1 [==============================] - 0s 72ms/step\n",
      "<class 'mediapipe.python.solution_base.SolutionOutputs'>\n",
      "1/1 [==============================] - 0s 66ms/step\n",
      "<class 'mediapipe.python.solution_base.SolutionOutputs'>\n",
      "1/1 [==============================] - 0s 74ms/step\n",
      "<class 'mediapipe.python.solution_base.SolutionOutputs'>\n",
      "1/1 [==============================] - 0s 63ms/step\n",
      "<class 'mediapipe.python.solution_base.SolutionOutputs'>\n",
      "1/1 [==============================] - 0s 73ms/step\n",
      "<class 'mediapipe.python.solution_base.SolutionOutputs'>\n",
      "1/1 [==============================] - 0s 68ms/step\n",
      "<class 'mediapipe.python.solution_base.SolutionOutputs'>\n",
      "1/1 [==============================] - 0s 72ms/step\n",
      "<class 'mediapipe.python.solution_base.SolutionOutputs'>\n",
      "1/1 [==============================] - 0s 71ms/step\n",
      "<class 'mediapipe.python.solution_base.SolutionOutputs'>\n",
      "1/1 [==============================] - 0s 71ms/step\n",
      "<class 'mediapipe.python.solution_base.SolutionOutputs'>\n",
      "1/1 [==============================] - 0s 67ms/step\n",
      "<class 'mediapipe.python.solution_base.SolutionOutputs'>\n",
      "1/1 [==============================] - 0s 79ms/step\n",
      "<class 'mediapipe.python.solution_base.SolutionOutputs'>\n",
      "1/1 [==============================] - 0s 69ms/step\n",
      "<class 'mediapipe.python.solution_base.SolutionOutputs'>\n",
      "1/1 [==============================] - 0s 97ms/step\n",
      "<class 'mediapipe.python.solution_base.SolutionOutputs'>\n",
      "1/1 [==============================] - 0s 69ms/step\n",
      "<class 'mediapipe.python.solution_base.SolutionOutputs'>\n",
      "1/1 [==============================] - 0s 69ms/step\n"
     ]
    }
   ],
   "source": [
    "# 1. New detection variables\n",
    "sequence = []\n",
    "sentence = []\n",
    "threshold = 0.8\n",
    "\n",
    "cap = cv2.VideoCapture(0)\n",
    "cap.set(cv2.CAP_PROP_FRAME_WIDTH, 2000);\n",
    "cap.set(cv2.CAP_PROP_FRAME_HEIGHT, 1000);\n",
    "# Set mediapipe model \n",
    "with mp_holistic.Holistic(min_detection_confidence=0.5, min_tracking_confidence=0.5) as holistic:\n",
    "    while cap.isOpened():\n",
    "\n",
    "        # Read feed\n",
    "        ret, frame = cap.read()\n",
    "\n",
    "        # Make detections\n",
    "        image, results = mediapipe_detection(frame, holistic)\n",
    "#         print(results)\n",
    "        \n",
    "        # Draw landmarks\n",
    "        draw_styled_landmarks(image, results)\n",
    "        \n",
    "        # 2. Prediction logic\n",
    "        keypoints = extract_keypoints(results)\n",
    "#         sequence.insert(0,keypoints)\n",
    "#         sequence = sequence[:30]\n",
    "        sequence.append(keypoints)\n",
    "        sequence = sequence[-30:]\n",
    "        \n",
    "        if len(sequence) == 30:\n",
    "            res = model.predict(np.expand_dims(sequence, axis=0))[0]\n",
    "#             print(actions[np.argmax(res)])\n",
    "            \n",
    "            \n",
    "        #3. Viz logic\n",
    "            if res[np.argmax(res)] > threshold: \n",
    "                if len(sentence) > 0: \n",
    "                    if actions[np.argmax(res)] != sentence[-1]:\n",
    "                        sentence.append(actions[np.argmax(res)])\n",
    "                else:\n",
    "                    sentence.append(actions[np.argmax(res)])\n",
    "\n",
    "            if len(sentence) > 5: \n",
    "                sentence = sentence[-5:]\n",
    "\n",
    "            # Viz probabilities\n",
    "            image = prob_viz(res, actions, image, colors)\n",
    "            \n",
    "        cv2.rectangle(image, (0,0), (640, 40), (245, 117, 16), -1)\n",
    "        cv2.putText(image, ' '.join(sentence), (3,30), \n",
    "                       cv2.FONT_HERSHEY_SIMPLEX, 1, (255, 255, 255), 2, cv2.LINE_AA)\n",
    "        \n",
    "        # Show to screen\n",
    "        cv2.imshow('OpenCV Feed', image)\n",
    "\n",
    "        # Break gracefully\n",
    "        if cv2.waitKey(10) & 0xFF == ord('q'):\n",
    "            break\n",
    "    cap.release()\n",
    "    cv2.destroyAllWindows()"
   ]
  },
  {
   "cell_type": "code",
   "execution_count": null,
   "metadata": {},
   "outputs": [],
   "source": [
    "cap.release()\n",
    "cv2.destroyAllWindows()"
   ]
  },
  {
   "cell_type": "code",
   "execution_count": null,
   "metadata": {},
   "outputs": [],
   "source": [
    "res[np.argmax(res)] > threshold"
   ]
  },
  {
   "cell_type": "code",
   "execution_count": null,
   "metadata": {},
   "outputs": [],
   "source": [
    "(num_sequences,30,1662)"
   ]
  },
  {
   "cell_type": "code",
   "execution_count": null,
   "metadata": {},
   "outputs": [],
   "source": [
    "model.predict(np.expand_dims(X_test[0], axis=0))"
   ]
  }
 ],
 "metadata": {
  "kernelspec": {
   "display_name": "Python 3",
   "language": "python",
   "name": "python3"
  },
  "language_info": {
   "codemirror_mode": {
    "name": "ipython",
    "version": 3
   },
   "file_extension": ".py",
   "mimetype": "text/x-python",
   "name": "python",
   "nbconvert_exporter": "python",
   "pygments_lexer": "ipython3",
   "version": "3.7.3"
  }
 },
 "nbformat": 4,
 "nbformat_minor": 2
}
