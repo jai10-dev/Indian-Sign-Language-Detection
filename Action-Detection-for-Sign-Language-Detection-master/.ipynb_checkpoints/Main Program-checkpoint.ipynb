{
 "cells": [
  {
   "cell_type": "markdown",
   "metadata": {},
   "source": [
    "# 1. Import and Install Dependencies"
   ]
  },
  {
   "cell_type": "code",
   "execution_count": null,
   "metadata": {},
   "outputs": [],
   "source": [
    "!pip install tensorflow==2.9.1 tensorflow-gpu==2.9.1 opencv-python mediapipe sklearn matplotlib"
   ]
  },
  {
   "cell_type": "code",
   "execution_count": 1,
   "metadata": {},
   "outputs": [],
   "source": [
    "import cv2\n",
    "import numpy as np\n",
    "import os\n",
    "from matplotlib import pyplot as plt\n",
    "import time\n",
    "import mediapipe as mp\n",
    "import imutils\n",
    "import joblib\n",
    "import pickle"
   ]
  },
  {
   "cell_type": "markdown",
   "metadata": {},
   "source": [
    "# 2. Keypoints using MP Holistic"
   ]
  },
  {
   "cell_type": "code",
   "execution_count": 2,
   "metadata": {},
   "outputs": [],
   "source": [
    "mp_holistic = mp.solutions.holistic # Holistic model\n",
    "mp_drawing = mp.solutions.drawing_utils # Drawing utilities"
   ]
  },
  {
   "cell_type": "code",
   "execution_count": 3,
   "metadata": {},
   "outputs": [],
   "source": [
    "def mediapipe_detection(image, model):\n",
    "    image = cv2.cvtColor(image, cv2.COLOR_BGR2RGB) # COLOR CONVERSION BGR 2 RGB\n",
    "    image.flags.writeable = False                  # Image is no longer writeable\n",
    "    results = model.process(image)                 # Make prediction\n",
    "    image.flags.writeable = True                   # Image is now writeable \n",
    "    image = cv2.cvtColor(image, cv2.COLOR_RGB2BGR) # COLOR COVERSION RGB 2 BGR\n",
    "    return image, results"
   ]
  },
  {
   "cell_type": "code",
   "execution_count": 4,
   "metadata": {},
   "outputs": [],
   "source": [
    "def draw_landmarks(image, results):\n",
    "    mp_drawing.draw_landmarks(image, results.face_landmarks, mp_holistic.FACEMESH_TESSELATION) # Draw face connections\n",
    "    mp_drawing.draw_landmarks(image, results.pose_landmarks, mp_holistic.POSE_CONNECTIONS) # Draw pose connections\n",
    "    mp_drawing.draw_landmarks(image, results.left_hand_landmarks, mp_holistic.HAND_CONNECTIONS) # Draw left hand connections\n",
    "    mp_drawing.draw_landmarks(image, results.right_hand_landmarks, mp_holistic.HAND_CONNECTIONS) # Draw right hand connections"
   ]
  },
  {
   "cell_type": "code",
   "execution_count": 5,
   "metadata": {},
   "outputs": [],
   "source": [
    "def draw_styled_landmarks(image, results):\n",
    "    # Draw face connections\n",
    "    mp_drawing.draw_landmarks(image, results.face_landmarks, mp_holistic.FACEMESH_TESSELATION, \n",
    "                             mp_drawing.DrawingSpec(color=(80,110,10), thickness=1, circle_radius=1), \n",
    "                             mp_drawing.DrawingSpec(color=(80,256,121), thickness=1, circle_radius=1)\n",
    "                             ) \n",
    "    # Draw pose connections\n",
    "    mp_drawing.draw_landmarks(image, results.pose_landmarks, mp_holistic.POSE_CONNECTIONS,\n",
    "                             mp_drawing.DrawingSpec(color=(80,22,10), thickness=2, circle_radius=4), \n",
    "                             mp_drawing.DrawingSpec(color=(80,44,121), thickness=2, circle_radius=2)\n",
    "                             ) \n",
    "    # Draw left hand connections\n",
    "    mp_drawing.draw_landmarks(image, results.left_hand_landmarks, mp_holistic.HAND_CONNECTIONS, \n",
    "                             mp_drawing.DrawingSpec(color=(121,22,76), thickness=2, circle_radius=4), \n",
    "                             mp_drawing.DrawingSpec(color=(121,44,250), thickness=2, circle_radius=2)\n",
    "                             ) \n",
    "    # Draw right hand connections  \n",
    "    mp_drawing.draw_landmarks(image, results.right_hand_landmarks, mp_holistic.HAND_CONNECTIONS, \n",
    "                             mp_drawing.DrawingSpec(color=(245,117,66), thickness=2, circle_radius=4), \n",
    "                             mp_drawing.DrawingSpec(color=(245,66,230), thickness=2, circle_radius=2)\n",
    "                             ) "
   ]
  },
  {
   "cell_type": "code",
   "execution_count": 6,
   "metadata": {},
   "outputs": [],
   "source": [
    "def frame_read(file):\n",
    "    cap = cv2.VideoCapture(file)\n",
    "    # Set mediapipe model \n",
    "    with mp_holistic.Holistic(min_detection_confidence=0.5, min_tracking_confidence=0.5) as holistic:\n",
    "        while cap.isOpened():\n",
    "    \n",
    "           # Read feed\n",
    "            ret, frame = cap.read()\n",
    "    \n",
    "            if ret==True:\n",
    "                frame = imutils.resize(frame, width=600)\n",
    "                # Make detections\n",
    "                image, results = mediapipe_detection(frame, holistic)\n",
    "        #         print(results)q\n",
    "                \n",
    "                # Draw landmarks\n",
    "                draw_styled_landmarks(image, results)\n",
    "        \n",
    "                # Show to screen\n",
    "                cv2.imshow('OpenCV Feed', image)\n",
    "        \n",
    "                # Break gracefully\n",
    "                if cv2.waitKey(10) & 0xFF == ord('q'):\n",
    "                    break\n",
    "            else:\n",
    "                cap.release()\n",
    "                cv2.destroyAllWindows()\n",
    "    cap.release()\n",
    "    cv2.destroyAllWindows()"
   ]
  },
  {
   "cell_type": "code",
   "execution_count": 12,
   "metadata": {
    "scrolled": true
   },
   "outputs": [
    {
     "name": "stdout",
     "output_type": "stream",
     "text": [
      "0.MOV\n",
      "1.MOV\n",
      "10.MOV\n"
     ]
    },
    {
     "ename": "KeyboardInterrupt",
     "evalue": "",
     "output_type": "error",
     "traceback": [
      "\u001b[1;31m---------------------------------------------------------------------------\u001b[0m",
      "\u001b[1;31mKeyboardInterrupt\u001b[0m                         Traceback (most recent call last)",
      "\u001b[1;32m~\\AppData\\Local\\Temp\\ipykernel_10076\\946507724.py\u001b[0m in \u001b[0;36m<module>\u001b[1;34m\u001b[0m\n\u001b[0;32m      3\u001b[0m     \u001b[1;32mif\u001b[0m \u001b[0mfile\u001b[0m\u001b[1;33m.\u001b[0m\u001b[0mendswith\u001b[0m\u001b[1;33m(\u001b[0m\u001b[1;34m\".MOV\"\u001b[0m\u001b[1;33m)\u001b[0m\u001b[1;33m:\u001b[0m\u001b[1;33m\u001b[0m\u001b[1;33m\u001b[0m\u001b[0m\n\u001b[0;32m      4\u001b[0m         \u001b[0mpath\u001b[0m\u001b[1;33m=\u001b[0m\u001b[0mos\u001b[0m\u001b[1;33m.\u001b[0m\u001b[0mpath\u001b[0m\u001b[1;33m.\u001b[0m\u001b[0mjoin\u001b[0m\u001b[1;33m(\u001b[0m\u001b[1;34m\"sample/dry\"\u001b[0m\u001b[1;33m,\u001b[0m\u001b[0mfile\u001b[0m\u001b[1;33m)\u001b[0m\u001b[1;33m\u001b[0m\u001b[1;33m\u001b[0m\u001b[0m\n\u001b[1;32m----> 5\u001b[1;33m         \u001b[0mframe_read\u001b[0m\u001b[1;33m(\u001b[0m\u001b[0mpath\u001b[0m\u001b[1;33m)\u001b[0m\u001b[1;33m\u001b[0m\u001b[1;33m\u001b[0m\u001b[0m\n\u001b[0m",
      "\u001b[1;32m~\\AppData\\Local\\Temp\\ipykernel_10076\\1100906471.py\u001b[0m in \u001b[0;36mframe_read\u001b[1;34m(file)\u001b[0m\n\u001b[0;32m     15\u001b[0m \u001b[1;33m\u001b[0m\u001b[0m\n\u001b[0;32m     16\u001b[0m                 \u001b[1;31m# Draw landmarks\u001b[0m\u001b[1;33m\u001b[0m\u001b[1;33m\u001b[0m\u001b[1;33m\u001b[0m\u001b[0m\n\u001b[1;32m---> 17\u001b[1;33m                 \u001b[0mdraw_styled_landmarks\u001b[0m\u001b[1;33m(\u001b[0m\u001b[0mimage\u001b[0m\u001b[1;33m,\u001b[0m \u001b[0mresults\u001b[0m\u001b[1;33m)\u001b[0m\u001b[1;33m\u001b[0m\u001b[1;33m\u001b[0m\u001b[0m\n\u001b[0m\u001b[0;32m     18\u001b[0m \u001b[1;33m\u001b[0m\u001b[0m\n\u001b[0;32m     19\u001b[0m                 \u001b[1;31m# Show to screen\u001b[0m\u001b[1;33m\u001b[0m\u001b[1;33m\u001b[0m\u001b[1;33m\u001b[0m\u001b[0m\n",
      "\u001b[1;32m~\\AppData\\Local\\Temp\\ipykernel_10076\\3589546495.py\u001b[0m in \u001b[0;36mdraw_styled_landmarks\u001b[1;34m(image, results)\u001b[0m\n\u001b[0;32m      3\u001b[0m     mp_drawing.draw_landmarks(image, results.face_landmarks, mp_holistic.FACEMESH_TESSELATION, \n\u001b[0;32m      4\u001b[0m                              \u001b[0mmp_drawing\u001b[0m\u001b[1;33m.\u001b[0m\u001b[0mDrawingSpec\u001b[0m\u001b[1;33m(\u001b[0m\u001b[0mcolor\u001b[0m\u001b[1;33m=\u001b[0m\u001b[1;33m(\u001b[0m\u001b[1;36m80\u001b[0m\u001b[1;33m,\u001b[0m\u001b[1;36m110\u001b[0m\u001b[1;33m,\u001b[0m\u001b[1;36m10\u001b[0m\u001b[1;33m)\u001b[0m\u001b[1;33m,\u001b[0m \u001b[0mthickness\u001b[0m\u001b[1;33m=\u001b[0m\u001b[1;36m1\u001b[0m\u001b[1;33m,\u001b[0m \u001b[0mcircle_radius\u001b[0m\u001b[1;33m=\u001b[0m\u001b[1;36m1\u001b[0m\u001b[1;33m)\u001b[0m\u001b[1;33m,\u001b[0m\u001b[1;33m\u001b[0m\u001b[1;33m\u001b[0m\u001b[0m\n\u001b[1;32m----> 5\u001b[1;33m                              \u001b[0mmp_drawing\u001b[0m\u001b[1;33m.\u001b[0m\u001b[0mDrawingSpec\u001b[0m\u001b[1;33m(\u001b[0m\u001b[0mcolor\u001b[0m\u001b[1;33m=\u001b[0m\u001b[1;33m(\u001b[0m\u001b[1;36m80\u001b[0m\u001b[1;33m,\u001b[0m\u001b[1;36m256\u001b[0m\u001b[1;33m,\u001b[0m\u001b[1;36m121\u001b[0m\u001b[1;33m)\u001b[0m\u001b[1;33m,\u001b[0m \u001b[0mthickness\u001b[0m\u001b[1;33m=\u001b[0m\u001b[1;36m1\u001b[0m\u001b[1;33m,\u001b[0m \u001b[0mcircle_radius\u001b[0m\u001b[1;33m=\u001b[0m\u001b[1;36m1\u001b[0m\u001b[1;33m)\u001b[0m\u001b[1;33m\u001b[0m\u001b[1;33m\u001b[0m\u001b[0m\n\u001b[0m\u001b[0;32m      6\u001b[0m                              ) \n\u001b[0;32m      7\u001b[0m     \u001b[1;31m# Draw pose connections\u001b[0m\u001b[1;33m\u001b[0m\u001b[1;33m\u001b[0m\u001b[1;33m\u001b[0m\u001b[0m\n",
      "\u001b[1;32m~\\AppData\\Roaming\\Python\\Python37\\site-packages\\mediapipe\\python\\solutions\\drawing_utils.py\u001b[0m in \u001b[0;36mdraw_landmarks\u001b[1;34m(image, landmark_list, connections, landmark_drawing_spec, connection_drawing_spec)\u001b[0m\n\u001b[0;32m    181\u001b[0m         cv2.line(image, idx_to_coordinates[start_idx],\n\u001b[0;32m    182\u001b[0m                  \u001b[0midx_to_coordinates\u001b[0m\u001b[1;33m[\u001b[0m\u001b[0mend_idx\u001b[0m\u001b[1;33m]\u001b[0m\u001b[1;33m,\u001b[0m \u001b[0mdrawing_spec\u001b[0m\u001b[1;33m.\u001b[0m\u001b[0mcolor\u001b[0m\u001b[1;33m,\u001b[0m\u001b[1;33m\u001b[0m\u001b[1;33m\u001b[0m\u001b[0m\n\u001b[1;32m--> 183\u001b[1;33m                  drawing_spec.thickness)\n\u001b[0m\u001b[0;32m    184\u001b[0m   \u001b[1;31m# Draws landmark points after finishing the connection lines, which is\u001b[0m\u001b[1;33m\u001b[0m\u001b[1;33m\u001b[0m\u001b[1;33m\u001b[0m\u001b[0m\n\u001b[0;32m    185\u001b[0m   \u001b[1;31m# aesthetically better.\u001b[0m\u001b[1;33m\u001b[0m\u001b[1;33m\u001b[0m\u001b[1;33m\u001b[0m\u001b[0m\n",
      "\u001b[1;31mKeyboardInterrupt\u001b[0m: "
     ]
    }
   ],
   "source": [
    "for file in os.listdir(\"sample/dry\"):\n",
    "    print(file)\n",
    "    if file.endswith(\".MOV\"):\n",
    "        path=os.path.join(\"sample/dry\",file)\n",
    "        frame_read(path)"
   ]
  },
  {
   "cell_type": "code",
   "execution_count": 13,
   "metadata": {},
   "outputs": [],
   "source": [
    "cv2.destroyAllWindows()"
   ]
  },
  {
   "cell_type": "code",
   "execution_count": 6,
   "metadata": {},
   "outputs": [],
   "source": [
    "cap = cv2.VideoCapture('0.MOV')\n",
    "# Set mediapipe model \n",
    "with mp_holistic.Holistic(min_detection_confidence=0.5, min_tracking_confidence=0.5) as holistic:\n",
    "    while cap.isOpened():\n",
    "        # Read feed\n",
    "        ret, frame = cap.read()\n",
    "        \n",
    "        if ret==True:\n",
    "            frame = imutils.resize(frame, width=600)\n",
    "            # Make detections\n",
    "            image, results = mediapipe_detection(frame, holistic)\n",
    "    #         print(results)q\n",
    "            \n",
    "            # Draw landmarks\n",
    "            draw_styled_landmarks(image, results)\n",
    "    \n",
    "            # Show to screen\n",
    "            cv2.imshow('OpenCV Feed', image)\n",
    "    \n",
    "            # Break gracefully\n",
    "            if cv2.waitKey(10) & 0xFF == ord('q'):\n",
    "                break\n",
    "        else:\n",
    "            cap.release()\n",
    "            cv2.destroyAllWindows()"
   ]
  },
  {
   "cell_type": "code",
   "execution_count": 17,
   "metadata": {
    "scrolled": true
   },
   "outputs": [
    {
     "ename": "NameError",
     "evalue": "name 'results' is not defined",
     "output_type": "error",
     "traceback": [
      "\u001b[1;31m---------------------------------------------------------------------------\u001b[0m",
      "\u001b[1;31mNameError\u001b[0m                                 Traceback (most recent call last)",
      "\u001b[1;32m~\\AppData\\Local\\Temp\\ipykernel_10076\\1858948676.py\u001b[0m in \u001b[0;36m<module>\u001b[1;34m\u001b[0m\n\u001b[1;32m----> 1\u001b[1;33m \u001b[0mlen\u001b[0m\u001b[1;33m(\u001b[0m\u001b[0mresults\u001b[0m\u001b[1;33m.\u001b[0m\u001b[0mleft_hand_landmarks\u001b[0m\u001b[1;33m.\u001b[0m\u001b[0mlandmark\u001b[0m\u001b[1;33m)\u001b[0m\u001b[1;33m\u001b[0m\u001b[1;33m\u001b[0m\u001b[0m\n\u001b[0m",
      "\u001b[1;31mNameError\u001b[0m: name 'results' is not defined"
     ]
    }
   ],
   "source": [
    "len(results.left_hand_landmarks.landmark)"
   ]
  },
  {
   "cell_type": "code",
   "execution_count": 16,
   "metadata": {},
   "outputs": [
    {
     "ename": "NameError",
     "evalue": "name 'results' is not defined",
     "output_type": "error",
     "traceback": [
      "\u001b[1;31m---------------------------------------------------------------------------\u001b[0m",
      "\u001b[1;31mNameError\u001b[0m                                 Traceback (most recent call last)",
      "\u001b[1;32m~\\AppData\\Local\\Temp\\ipykernel_10076\\962467392.py\u001b[0m in \u001b[0;36m<module>\u001b[1;34m\u001b[0m\n\u001b[1;32m----> 1\u001b[1;33m \u001b[0mresults\u001b[0m\u001b[1;33m\u001b[0m\u001b[1;33m\u001b[0m\u001b[0m\n\u001b[0m",
      "\u001b[1;31mNameError\u001b[0m: name 'results' is not defined"
     ]
    }
   ],
   "source": [
    "results"
   ]
  },
  {
   "cell_type": "code",
   "execution_count": null,
   "metadata": {},
   "outputs": [],
   "source": [
    "draw_landmarks(frame, results)"
   ]
  },
  {
   "cell_type": "code",
   "execution_count": null,
   "metadata": {},
   "outputs": [],
   "source": [
    "plt.imshow(cv2.cvtColor(frame, cv2.COLOR_BGR2RGB))"
   ]
  },
  {
   "cell_type": "markdown",
   "metadata": {},
   "source": [
    "# 3. Extract Keypoint Values"
   ]
  },
  {
   "cell_type": "code",
   "execution_count": null,
   "metadata": {},
   "outputs": [],
   "source": [
    "len(results.right_hand_landmarks.landmark)"
   ]
  },
  {
   "cell_type": "code",
   "execution_count": null,
   "metadata": {},
   "outputs": [],
   "source": [
    "pose = []\n",
    "for res in results.pose_landmarks.landmark:\n",
    "    test = np.array([res.x, res.y, res.z, res.visibility])\n",
    "    pose.append(test)"
   ]
  },
  {
   "cell_type": "code",
   "execution_count": null,
   "metadata": {},
   "outputs": [],
   "source": [
    "pose = np.array([[res.x, res.y, res.z, res.visibility] for res in results.pose_landmarks.landmark]).flatten() if results.pose_landmarks else np.zeros(132)\n",
    "face = np.array([[res.x, res.y, res.z] for res in results.face_landmarks.landmark]).flatten() if results.face_landmarks else np.zeros(1404)\n",
    "lh = np.array([[res.x, res.y, res.z] for res in results.left_hand_landmarks.landmark]).flatten() if results.left_hand_landmarks else np.zeros(21*3)\n",
    "rh = np.array([[res.x, res.y, res.z] for res in results.right_hand_landmarks.landmark]).flatten() if results.right_hand_landmarks else np.zeros(21*3)"
   ]
  },
  {
   "cell_type": "code",
   "execution_count": null,
   "metadata": {},
   "outputs": [],
   "source": [
    "face = np.array([[res.x, res.y, res.z] for res in results.face_landmarks.landmark]).flatten() if results.face_landmarks else np.zeros(1404)\n"
   ]
  },
  {
   "cell_type": "code",
   "execution_count": 6,
   "metadata": {},
   "outputs": [],
   "source": [
    "def extract_keypoints(results):\n",
    "    pose = np.array([[res.x, res.y, res.z, res.visibility] for res in results.pose_landmarks.landmark]).flatten() if results.pose_landmarks else np.zeros(33*4)\n",
    "    face = np.array([[res.x, res.y, res.z] for res in results.face_landmarks.landmark]).flatten() if results.face_landmarks else np.zeros(468*3)\n",
    "    lh = np.array([[res.x, res.y, res.z] for res in results.left_hand_landmarks.landmark]).flatten() if results.left_hand_landmarks else np.zeros(21*3)\n",
    "    rh = np.array([[res.x, res.y, res.z] for res in results.right_hand_landmarks.landmark]).flatten() if results.right_hand_landmarks else np.zeros(21*3)\n",
    "    return np.concatenate([pose, face, lh, rh])"
   ]
  },
  {
   "cell_type": "code",
   "execution_count": 8,
   "metadata": {
    "scrolled": true
   },
   "outputs": [
    {
     "ename": "NameError",
     "evalue": "name 'results' is not defined",
     "output_type": "error",
     "traceback": [
      "\u001b[1;31m---------------------------------------------------------------------------\u001b[0m",
      "\u001b[1;31mNameError\u001b[0m                                 Traceback (most recent call last)",
      "\u001b[1;32m~\\AppData\\Local\\Temp\\ipykernel_16204\\4141068261.py\u001b[0m in \u001b[0;36m<module>\u001b[1;34m\u001b[0m\n\u001b[1;32m----> 1\u001b[1;33m \u001b[0mresult_test\u001b[0m \u001b[1;33m=\u001b[0m \u001b[0mextract_keypoints\u001b[0m\u001b[1;33m(\u001b[0m\u001b[0mresults\u001b[0m\u001b[1;33m)\u001b[0m\u001b[1;33m\u001b[0m\u001b[1;33m\u001b[0m\u001b[0m\n\u001b[0m",
      "\u001b[1;31mNameError\u001b[0m: name 'results' is not defined"
     ]
    }
   ],
   "source": [
    "result_test = extract_keypoints(results)"
   ]
  },
  {
   "cell_type": "code",
   "execution_count": null,
   "metadata": {
    "scrolled": false
   },
   "outputs": [],
   "source": [
    "result_test[:10]"
   ]
  },
  {
   "cell_type": "code",
   "execution_count": null,
   "metadata": {},
   "outputs": [],
   "source": [
    "468*3+33*4+21*3+21*3"
   ]
  },
  {
   "cell_type": "code",
   "execution_count": null,
   "metadata": {},
   "outputs": [],
   "source": [
    "np.save('0', result_test)"
   ]
  },
  {
   "cell_type": "code",
   "execution_count": null,
   "metadata": {},
   "outputs": [],
   "source": [
    "np.load('0.npy')"
   ]
  },
  {
   "cell_type": "code",
   "execution_count": null,
   "metadata": {},
   "outputs": [],
   "source": [
    "print(len(result_test))"
   ]
  },
  {
   "cell_type": "markdown",
   "metadata": {},
   "source": [
    "# 4. Setup Folders for Collection"
   ]
  },
  {
   "cell_type": "code",
   "execution_count": 7,
   "metadata": {},
   "outputs": [],
   "source": [
    "# Path for exported data, numpy arrays\n",
    "DATA_PATH = os.path.join('Test_Data') \n",
    "\n",
    "# Actions that we try to detect\n",
    "actions = np.array(['dry','healthy'])\n",
    "\n",
    "# Thirty videos worth of data\n",
    "no_sequences = 30\n",
    "\n",
    "# Videos are going to be 60 frames in length\n",
    "sequence_length = 60"
   ]
  },
  {
   "cell_type": "code",
   "execution_count": 8,
   "metadata": {},
   "outputs": [],
   "source": [
    "# hello\n",
    "## 0\n",
    "## 1\n",
    "## 2\n",
    "## ...\n",
    "## 29\n",
    "# thanks\n",
    "\n",
    "# I love you"
   ]
  },
  {
   "cell_type": "code",
   "execution_count": 9,
   "metadata": {},
   "outputs": [],
   "source": [
    "for action in actions: \n",
    "    for sequence in range(no_sequences):\n",
    "        try: \n",
    "            os.makedirs(os.path.join(DATA_PATH, action, str(sequence)))\n",
    "        except:\n",
    "            pass"
   ]
  },
  {
   "cell_type": "markdown",
   "metadata": {},
   "source": [
    "# 5. Collect Keypoint Values for Training and Testing"
   ]
  },
  {
   "cell_type": "code",
   "execution_count": 8,
   "metadata": {},
   "outputs": [],
   "source": [
    "def frame_read(file,seq,action):\n",
    "    # Set mediapipe model \n",
    "    with mp_holistic.Holistic(min_detection_confidence=0.5, min_tracking_confidence=0.5) as holistic:\n",
    "        cap = cv2.VideoCapture(file)\n",
    "        # NEW LOOP\n",
    "        # Loop through actions\n",
    "        if seq<no_sequences: \n",
    "            # Loop through video length aka sequence length\n",
    "            for frame_num in range(sequence_length):\n",
    "\n",
    "                # Read feed\n",
    "                ret, frame = cap.read()\n",
    "                if ret==True:\n",
    "                    # Make detections\n",
    "                    image, results = mediapipe_detection(frame, holistic)\n",
    "    #                    print(results)\n",
    "    \n",
    "                    # Draw landmarks\n",
    "                    draw_styled_landmarks(image, results)\n",
    "                \n",
    "                    # NEW Apply wait logic\n",
    "                    if frame_num == 0: \n",
    "                        cv2.putText(image, 'STARTING COLLECTION', (120,200), \n",
    "                                   cv2.FONT_HERSHEY_SIMPLEX, 1, (0,255, 0), 4, cv2.LINE_AA)\n",
    "                        cv2.putText(image, 'Collecting frames for {} Video Number {}'.format(action, seq), (15,12), \n",
    "                                   cv2.FONT_HERSHEY_SIMPLEX, 0.5, (0, 0, 255), 1, cv2.LINE_AA)\n",
    "                        # Show to screen\n",
    "                        cv2.imshow('OpenCV Feed', image)\n",
    "                        cv2.waitKey(1000)\n",
    "                    else: \n",
    "                        cv2.putText(image, 'Collecting frames for {} Video Number {}'.format(action, seq), (15,12), \n",
    "                                   cv2.FONT_HERSHEY_SIMPLEX, 0.5, (0, 0, 255), 1, cv2.LINE_AA)\n",
    "                        # Show to screen\n",
    "                        cv2.imshow('OpenCV Feed', image)\n",
    "                    \n",
    "                    # NEW Export keypoints\n",
    "                    keypoints = extract_keypoints(results)\n",
    "                    npy_path = os.path.join(DATA_PATH, action, str(seq), str(frame_num))\n",
    "                    np.save(npy_path, keypoints)\n",
    "                    # Break gracefully\n",
    "                    if cv2.waitKey(10) & 0xFF == ord('q'):\n",
    "                        break\n",
    "                if frame_num==60:\n",
    "                    break;\n",
    "            print(seq)\n",
    "        cap.release()\n",
    "        cv2.destroyAllWindows()"
   ]
  },
  {
   "cell_type": "code",
   "execution_count": null,
   "metadata": {
    "scrolled": true
   },
   "outputs": [
    {
     "name": "stdout",
     "output_type": "stream",
     "text": [
      "0.MOV\n",
      "0\n",
      "1.MOV\n",
      "1\n",
      "10.MOV\n",
      "2\n",
      "11.MOV\n",
      "3\n",
      "12.MOV\n",
      "4\n",
      "13.MOV\n",
      "5\n",
      "14.MOV\n",
      "6\n",
      "15.MOV\n",
      "7\n",
      "16.MOV\n",
      "8\n",
      "17.MOV\n",
      "9\n",
      "18.MOV\n",
      "10\n",
      "19.MOV\n",
      "11\n",
      "2.MOV\n",
      "12\n",
      "20.MOV\n",
      "13\n",
      "21.MOV\n",
      "14\n",
      "22.MOV\n",
      "15\n",
      "23.MOV\n",
      "16\n",
      "24.MOV\n",
      "17\n",
      "25.MOV\n",
      "18\n",
      "26.MOV\n",
      "19\n",
      "27.MOV\n",
      "20\n",
      "28.MOV\n",
      "21\n",
      "29.MOV\n",
      "22\n",
      "3.MOV\n",
      "23\n",
      "4.MOV\n",
      "24\n",
      "5.MOV\n",
      "25\n",
      "6.MOV\n",
      "26\n",
      "7.MOV\n",
      "27\n",
      "8.MOV\n",
      "28\n",
      "9.MOV\n"
     ]
    }
   ],
   "source": [
    "seq=0;\n",
    "for action in actions:\n",
    "    dir_path=\"sample/{}\".format(action)\n",
    "    for file in os.listdir(dir_path):\n",
    "        print(file)\n",
    "        if file.endswith(\".MOV\"):\n",
    "            path=os.path.join(dir_path,file)\n",
    "            frame_read(path,seq,action)\n",
    "            seq=seq+1"
   ]
  },
  {
   "cell_type": "code",
   "execution_count": null,
   "metadata": {},
   "outputs": [],
   "source": [
    "cv2.destroyAllWindows()"
   ]
  },
  {
   "cell_type": "code",
   "execution_count": null,
   "metadata": {},
   "outputs": [],
   "source": [
    "# Set mediapipe model \n",
    "with mp_holistic.Holistic(min_detection_confidence=0.5, min_tracking_confidence=0.5) as holistic:\n",
    "    # NEW LOOP\n",
    "    # Loop through actions\n",
    "    for action in actions:\n",
    "        # Loop through sequences aka videos\n",
    "        for sequence in range(no_sequences):\n",
    "            cap = cv2.VideoCapture('0.MOV')\n",
    "            # Loop through video length aka sequence length\n",
    "            for frame_num in range(sequence_length):\n",
    "\n",
    "                # Read feed\n",
    "                ret, frame = cap.read()\n",
    "                if ret==True:\n",
    "                    # Make detections\n",
    "                    image, results = mediapipe_detection(frame, holistic)\n",
    "#                     print(results)\n",
    "    \n",
    "                    # Draw landmarks\n",
    "                    draw_styled_landmarks(image, results)\n",
    "                \n",
    "                    # NEW Apply wait logic\n",
    "                    if frame_num == 0: \n",
    "                        cv2.putText(image, 'STARTING COLLECTION', (120,200), \n",
    "                                   cv2.FONT_HERSHEY_SIMPLEX, 1, (0,255, 0), 4, cv2.LINE_AA)\n",
    "                        cv2.putText(image, 'Collecting frames for {} Video Number {}'.format(action, sequence), (15,12), \n",
    "                                   cv2.FONT_HERSHEY_SIMPLEX, 0.5, (0, 0, 255), 1, cv2.LINE_AA)\n",
    "                        # Show to screen\n",
    "                        cv2.imshow('OpenCV Feed', image)\n",
    "                        cv2.waitKey(1000)\n",
    "                    else: \n",
    "                        cv2.putText(image, 'Collecting frames for {} Video Number {}'.format(action, sequence), (15,12), \n",
    "                                   cv2.FONT_HERSHEY_SIMPLEX, 0.5, (0, 0, 255), 1, cv2.LINE_AA)\n",
    "                        # Show to screen\n",
    "                        cv2.imshow('OpenCV Feed', image)\n",
    "                    \n",
    "                    # NEW Export keypoints\n",
    "                    keypoints = extract_keypoints(results)\n",
    "                    npy_path = os.path.join(DATA_PATH, action, str(sequence), str(frame_num))\n",
    "                    np.save(npy_path, keypoints)\n",
    "                    # Break gracefully\n",
    "                    if cv2.waitKey(10) & 0xFF == ord('q'):\n",
    "                        break\n",
    "                if frame_num==60:\n",
    "                    cap.release()\n",
    "                    cv2.destroyAllWindows()\n",
    "                    break;\n",
    "        cap.release()\n",
    "        cv2.destroyAllWindows()"
   ]
  },
  {
   "cell_type": "code",
   "execution_count": 28,
   "metadata": {},
   "outputs": [],
   "source": [
    "cap.release()\n",
    "cv2.destroyAllWindows()"
   ]
  },
  {
   "cell_type": "markdown",
   "metadata": {},
   "source": [
    "# 6. Preprocess Data and Create Labels and Features"
   ]
  },
  {
   "cell_type": "code",
   "execution_count": 12,
   "metadata": {},
   "outputs": [],
   "source": [
    "from sklearn.model_selection import train_test_split\n",
    "from tensorflow.keras.utils import to_categorical"
   ]
  },
  {
   "cell_type": "code",
   "execution_count": 13,
   "metadata": {},
   "outputs": [],
   "source": [
    "label_map = {label:num for num, label in enumerate(actions)}"
   ]
  },
  {
   "cell_type": "code",
   "execution_count": 40,
   "metadata": {},
   "outputs": [
    {
     "data": {
      "text/plain": [
       "{'dry': 0, 'healthy': 1}"
      ]
     },
     "execution_count": 40,
     "metadata": {},
     "output_type": "execute_result"
    }
   ],
   "source": [
    "label_map"
   ]
  },
  {
   "cell_type": "code",
   "execution_count": 14,
   "metadata": {},
   "outputs": [],
   "source": [
    "sequences, labels = [], []\n",
    "for action in actions:\n",
    "    for sequence in range(no_sequences):\n",
    "        window = []\n",
    "        for frame_num in range(sequence_length-10):\n",
    "            res = np.load(os.path.join(DATA_PATH, action, str(sequence), \"{}.npy\".format(frame_num)))\n",
    "            window.append(res)\n",
    "        sequences.append(window)\n",
    "        labels.append(label_map[action])"
   ]
  },
  {
   "cell_type": "code",
   "execution_count": 42,
   "metadata": {
    "scrolled": true
   },
   "outputs": [
    {
     "data": {
      "text/plain": [
       "array([[[ 5.09093106e-01,  1.65133834e-01, -6.47407353e-01, ...,\n",
       "          4.05558705e-01,  9.08884585e-01,  6.84193161e-04],\n",
       "        [ 5.09112060e-01,  1.65633574e-01, -6.03945315e-01, ...,\n",
       "          4.03919876e-01,  9.09582555e-01,  1.92343257e-03],\n",
       "        [ 5.09084523e-01,  1.66298315e-01, -6.16634488e-01, ...,\n",
       "          4.04715359e-01,  9.07815635e-01,  1.07293902e-03],\n",
       "        ...,\n",
       "        [ 5.12077749e-01,  1.71289310e-01, -3.27443779e-01, ...,\n",
       "          0.00000000e+00,  0.00000000e+00,  0.00000000e+00],\n",
       "        [ 5.12094617e-01,  1.71198025e-01, -4.63642418e-01, ...,\n",
       "          0.00000000e+00,  0.00000000e+00,  0.00000000e+00],\n",
       "        [ 5.12334049e-01,  1.71102121e-01, -5.20838261e-01, ...,\n",
       "          4.03509408e-01,  8.84871781e-01, -9.36258584e-04]],\n",
       "\n",
       "       [[ 5.06798983e-01,  1.75842345e-01, -6.70145333e-01, ...,\n",
       "          4.08481598e-01,  9.06611264e-01,  4.18719603e-03],\n",
       "        [ 5.06742179e-01,  1.75581411e-01, -6.30222678e-01, ...,\n",
       "          4.09413785e-01,  9.09274936e-01,  2.71166116e-03],\n",
       "        [ 5.06641388e-01,  1.75420031e-01, -6.32698476e-01, ...,\n",
       "          4.08476233e-01,  9.09308255e-01,  9.38752142e-04],\n",
       "        ...,\n",
       "        [ 5.05450428e-01,  1.92474052e-01, -4.16325927e-01, ...,\n",
       "          4.61666971e-01,  4.29985523e-01, -2.41367538e-02],\n",
       "        [ 5.05453527e-01,  1.91164583e-01, -4.38566238e-01, ...,\n",
       "          4.59078699e-01,  4.21980500e-01, -2.75244154e-02],\n",
       "        [ 5.05472243e-01,  1.90495804e-01, -4.37238812e-01, ...,\n",
       "          4.43941712e-01,  4.24811512e-01, -2.84568686e-02]],\n",
       "\n",
       "       [[ 4.89359438e-01,  3.50750059e-01, -5.95357656e-01, ...,\n",
       "          4.05011296e-01,  9.89518344e-01,  2.10028421e-02],\n",
       "        [ 4.89361137e-01,  3.52420539e-01, -5.45244217e-01, ...,\n",
       "          4.03744847e-01,  9.92770076e-01,  1.39452377e-02],\n",
       "        [ 4.89379615e-01,  3.53701800e-01, -5.35872459e-01, ...,\n",
       "          4.02401745e-01,  9.88533437e-01,  1.69923510e-02],\n",
       "        ...,\n",
       "        [ 4.87859219e-01,  3.62884849e-01, -4.55942571e-01, ...,\n",
       "          0.00000000e+00,  0.00000000e+00,  0.00000000e+00],\n",
       "        [ 4.88357484e-01,  3.61631274e-01, -4.60502297e-01, ...,\n",
       "          3.79695922e-01,  9.13467050e-01, -6.16045715e-03],\n",
       "        [ 4.89003837e-01,  3.59280139e-01, -4.67672199e-01, ...,\n",
       "          3.98054957e-01,  9.57153916e-01, -7.48381205e-03]],\n",
       "\n",
       "       ...,\n",
       "\n",
       "       [[ 5.29377103e-01,  1.43637776e-01, -4.81360406e-01, ...,\n",
       "          4.41936970e-01,  9.06832576e-01, -4.09329962e-03],\n",
       "        [ 5.29019058e-01,  1.45041242e-01, -5.41941106e-01, ...,\n",
       "          4.39176142e-01,  8.99948895e-01, -6.36168988e-03],\n",
       "        [ 5.28713167e-01,  1.45211354e-01, -5.69742799e-01, ...,\n",
       "          0.00000000e+00,  0.00000000e+00,  0.00000000e+00],\n",
       "        ...,\n",
       "        [ 5.25426984e-01,  1.44981325e-01, -5.50544620e-01, ...,\n",
       "          4.42241192e-01,  9.18994665e-01,  5.57554413e-05],\n",
       "        [ 5.25380194e-01,  1.45056292e-01, -5.45983195e-01, ...,\n",
       "          4.44421887e-01,  9.19391751e-01,  1.76824036e-03],\n",
       "        [ 5.25292039e-01,  1.45142898e-01, -5.43917418e-01, ...,\n",
       "          4.45285827e-01,  9.21604931e-01, -6.23679138e-04]],\n",
       "\n",
       "       [[ 5.20013571e-01,  1.45079374e-01, -4.76083726e-01, ...,\n",
       "          4.42445993e-01,  9.12446320e-01, -7.74950779e-04],\n",
       "        [ 5.19884706e-01,  1.45329863e-01, -5.64361155e-01, ...,\n",
       "          4.37776119e-01,  9.08940554e-01, -6.20083651e-03],\n",
       "        [ 5.19695163e-01,  1.45322397e-01, -5.88437378e-01, ...,\n",
       "          0.00000000e+00,  0.00000000e+00,  0.00000000e+00],\n",
       "        ...,\n",
       "        [ 5.21176457e-01,  1.43685892e-01, -5.21261513e-01, ...,\n",
       "          4.37032193e-01,  9.20365036e-01, -2.60089012e-03],\n",
       "        [ 5.21206081e-01,  1.43681809e-01, -5.20565450e-01, ...,\n",
       "          4.38165575e-01,  9.20676470e-01, -1.82461878e-03],\n",
       "        [ 5.21209717e-01,  1.43678322e-01, -5.31504571e-01, ...,\n",
       "          4.39038157e-01,  9.20156300e-01,  2.05309902e-04]],\n",
       "\n",
       "       [[ 5.19668877e-01,  1.45379424e-01, -4.94770557e-01, ...,\n",
       "          4.42170233e-01,  9.16533947e-01,  3.78683698e-03],\n",
       "        [ 5.19664049e-01,  1.45958319e-01, -5.32011926e-01, ...,\n",
       "          4.40412730e-01,  9.18627739e-01, -5.10273455e-03],\n",
       "        [ 5.19706547e-01,  1.46381065e-01, -5.32916665e-01, ...,\n",
       "          4.31978941e-01,  9.16301906e-01, -1.12261530e-02],\n",
       "        ...,\n",
       "        [ 5.22062659e-01,  1.46041289e-01, -5.20339787e-01, ...,\n",
       "          4.38158572e-01,  9.21460390e-01, -1.48903916e-03],\n",
       "        [ 5.21978736e-01,  1.45787984e-01, -5.15300095e-01, ...,\n",
       "          4.38264698e-01,  9.19464886e-01, -1.97217730e-03],\n",
       "        [ 5.21908581e-01,  1.45691991e-01, -5.14247477e-01, ...,\n",
       "          4.38724250e-01,  9.22190547e-01, -1.46788417e-03]]])"
      ]
     },
     "execution_count": 42,
     "metadata": {},
     "output_type": "execute_result"
    }
   ],
   "source": [
    "np.array(sequences)"
   ]
  },
  {
   "cell_type": "code",
   "execution_count": 18,
   "metadata": {
    "scrolled": true
   },
   "outputs": [
    {
     "data": {
      "text/plain": [
       "(60,)"
      ]
     },
     "execution_count": 18,
     "metadata": {},
     "output_type": "execute_result"
    }
   ],
   "source": [
    "np.array(labels).shape"
   ]
  },
  {
   "cell_type": "code",
   "execution_count": 19,
   "metadata": {},
   "outputs": [],
   "source": [
    "X = np.array(sequences)"
   ]
  },
  {
   "cell_type": "code",
   "execution_count": 20,
   "metadata": {},
   "outputs": [
    {
     "data": {
      "text/plain": [
       "(60, 50, 1662)"
      ]
     },
     "execution_count": 20,
     "metadata": {},
     "output_type": "execute_result"
    }
   ],
   "source": [
    "X.shape"
   ]
  },
  {
   "cell_type": "code",
   "execution_count": 21,
   "metadata": {},
   "outputs": [],
   "source": [
    "y = to_categorical(labels).astype(int)"
   ]
  },
  {
   "cell_type": "code",
   "execution_count": 47,
   "metadata": {},
   "outputs": [
    {
     "data": {
      "text/plain": [
       "array([[1, 0],\n",
       "       [1, 0],\n",
       "       [1, 0],\n",
       "       [1, 0],\n",
       "       [1, 0],\n",
       "       [1, 0],\n",
       "       [1, 0],\n",
       "       [1, 0],\n",
       "       [1, 0],\n",
       "       [1, 0],\n",
       "       [1, 0],\n",
       "       [1, 0],\n",
       "       [1, 0],\n",
       "       [1, 0],\n",
       "       [1, 0],\n",
       "       [1, 0],\n",
       "       [1, 0],\n",
       "       [1, 0],\n",
       "       [1, 0],\n",
       "       [1, 0],\n",
       "       [1, 0],\n",
       "       [1, 0],\n",
       "       [1, 0],\n",
       "       [1, 0],\n",
       "       [1, 0],\n",
       "       [1, 0],\n",
       "       [1, 0],\n",
       "       [1, 0],\n",
       "       [1, 0],\n",
       "       [1, 0],\n",
       "       [0, 1],\n",
       "       [0, 1],\n",
       "       [0, 1],\n",
       "       [0, 1],\n",
       "       [0, 1],\n",
       "       [0, 1],\n",
       "       [0, 1],\n",
       "       [0, 1],\n",
       "       [0, 1],\n",
       "       [0, 1],\n",
       "       [0, 1],\n",
       "       [0, 1],\n",
       "       [0, 1],\n",
       "       [0, 1],\n",
       "       [0, 1],\n",
       "       [0, 1],\n",
       "       [0, 1],\n",
       "       [0, 1],\n",
       "       [0, 1],\n",
       "       [0, 1],\n",
       "       [0, 1],\n",
       "       [0, 1],\n",
       "       [0, 1],\n",
       "       [0, 1],\n",
       "       [0, 1],\n",
       "       [0, 1],\n",
       "       [0, 1],\n",
       "       [0, 1],\n",
       "       [0, 1],\n",
       "       [0, 1]])"
      ]
     },
     "execution_count": 47,
     "metadata": {},
     "output_type": "execute_result"
    }
   ],
   "source": [
    "y"
   ]
  },
  {
   "cell_type": "code",
   "execution_count": 22,
   "metadata": {
    "scrolled": true
   },
   "outputs": [],
   "source": [
    "X_train, X_test, y_train, y_test = train_test_split(X, y, test_size=0.05)"
   ]
  },
  {
   "cell_type": "code",
   "execution_count": 23,
   "metadata": {},
   "outputs": [
    {
     "data": {
      "text/plain": [
       "(3, 2)"
      ]
     },
     "execution_count": 23,
     "metadata": {},
     "output_type": "execute_result"
    }
   ],
   "source": [
    "y_test.shape"
   ]
  },
  {
   "cell_type": "markdown",
   "metadata": {},
   "source": [
    "# 7. Build and Train LSTM Neural Network"
   ]
  },
  {
   "cell_type": "code",
   "execution_count": 24,
   "metadata": {
    "scrolled": false
   },
   "outputs": [],
   "source": [
    "from tensorflow.keras.models import Sequential\n",
    "from tensorflow.keras.layers import LSTM, Dense\n",
    "from tensorflow.keras.callbacks import TensorBoard"
   ]
  },
  {
   "cell_type": "code",
   "execution_count": 25,
   "metadata": {},
   "outputs": [],
   "source": [
    "log_dir = os.path.join('Logs')\n",
    "tb_callback = TensorBoard(log_dir=log_dir)"
   ]
  },
  {
   "cell_type": "code",
   "execution_count": 26,
   "metadata": {},
   "outputs": [
    {
     "name": "stdout",
     "output_type": "stream",
     "text": [
      "WARNING:tensorflow:Layer lstm will not use cuDNN kernels since it doesn't meet the criteria. It will use a generic GPU kernel as fallback when running on GPU.\n",
      "WARNING:tensorflow:Layer lstm_1 will not use cuDNN kernels since it doesn't meet the criteria. It will use a generic GPU kernel as fallback when running on GPU.\n",
      "WARNING:tensorflow:Layer lstm_2 will not use cuDNN kernels since it doesn't meet the criteria. It will use a generic GPU kernel as fallback when running on GPU.\n"
     ]
    }
   ],
   "source": [
    "model = Sequential()\n",
    "model.add(LSTM(64, return_sequences=True, activation='relu', input_shape=(50,1662)))\n",
    "model.add(LSTM(128, return_sequences=True, activation='relu'))\n",
    "model.add(LSTM(64, return_sequences=False, activation='relu'))\n",
    "model.add(Dense(64, activation='relu'))\n",
    "model.add(Dense(32, activation='relu'))\n",
    "model.add(Dense(actions.shape[0], activation='softmax'))"
   ]
  },
  {
   "cell_type": "code",
   "execution_count": 53,
   "metadata": {},
   "outputs": [],
   "source": [
    "res = [.7, 0.2, 0.1]"
   ]
  },
  {
   "cell_type": "code",
   "execution_count": 54,
   "metadata": {},
   "outputs": [
    {
     "data": {
      "text/plain": [
       "'dry'"
      ]
     },
     "execution_count": 54,
     "metadata": {},
     "output_type": "execute_result"
    }
   ],
   "source": [
    "actions[np.argmax(res)]"
   ]
  },
  {
   "cell_type": "code",
   "execution_count": 55,
   "metadata": {},
   "outputs": [],
   "source": [
    "model.compile(optimizer='Adam', loss='categorical_crossentropy', metrics=['categorical_accuracy'])"
   ]
  },
  {
   "cell_type": "code",
   "execution_count": 56,
   "metadata": {
    "scrolled": true
   },
   "outputs": [
    {
     "name": "stdout",
     "output_type": "stream",
     "text": [
      "Epoch 1/2000\n",
      "2/2 [==============================] - 9s 703ms/step - loss: 0.6988 - categorical_accuracy: 0.4561\n",
      "Epoch 2/2000\n",
      "2/2 [==============================] - 1s 559ms/step - loss: 9.8305 - categorical_accuracy: 0.4912\n",
      "Epoch 3/2000\n",
      "2/2 [==============================] - 1s 625ms/step - loss: 0.6736 - categorical_accuracy: 0.5439\n",
      "Epoch 4/2000\n",
      "2/2 [==============================] - 1s 521ms/step - loss: 1.6253 - categorical_accuracy: 0.4561\n",
      "Epoch 5/2000\n",
      "2/2 [==============================] - 1s 582ms/step - loss: 0.7129 - categorical_accuracy: 0.4737\n",
      "Epoch 6/2000\n",
      "2/2 [==============================] - 1s 551ms/step - loss: 1.0976 - categorical_accuracy: 0.5263\n",
      "Epoch 7/2000\n",
      "2/2 [==============================] - 1s 589ms/step - loss: 3.0385 - categorical_accuracy: 0.4035\n",
      "Epoch 8/2000\n",
      "2/2 [==============================] - 1s 550ms/step - loss: 4.1620 - categorical_accuracy: 0.5263\n",
      "Epoch 9/2000\n",
      "2/2 [==============================] - 1s 575ms/step - loss: 4.6673 - categorical_accuracy: 0.6316\n",
      "Epoch 10/2000\n",
      "2/2 [==============================] - 1s 570ms/step - loss: 4.6732 - categorical_accuracy: 0.5965\n",
      "Epoch 11/2000\n",
      "2/2 [==============================] - 1s 692ms/step - loss: 1.8780 - categorical_accuracy: 0.5965\n",
      "Epoch 12/2000\n",
      "2/2 [==============================] - 1s 560ms/step - loss: 14.8198 - categorical_accuracy: 0.4912\n",
      "Epoch 13/2000\n",
      "2/2 [==============================] - 1s 613ms/step - loss: 39.3616 - categorical_accuracy: 0.3860\n",
      "Epoch 14/2000\n",
      "2/2 [==============================] - 1s 592ms/step - loss: 8.6401 - categorical_accuracy: 0.5088\n",
      "Epoch 15/2000\n",
      "2/2 [==============================] - 1s 601ms/step - loss: 7.6804 - categorical_accuracy: 0.5088\n",
      "Epoch 16/2000\n",
      "2/2 [==============================] - 1s 539ms/step - loss: 30.7475 - categorical_accuracy: 0.3860\n",
      "Epoch 17/2000\n",
      "2/2 [==============================] - 1s 633ms/step - loss: 32.1213 - categorical_accuracy: 0.4211\n",
      "Epoch 18/2000\n",
      "2/2 [==============================] - 1s 528ms/step - loss: 45.0488 - categorical_accuracy: 0.4737\n",
      "Epoch 19/2000\n",
      "2/2 [==============================] - 1s 609ms/step - loss: 40.3242 - categorical_accuracy: 0.4912\n",
      "Epoch 20/2000\n",
      "2/2 [==============================] - 1s 642ms/step - loss: 11.7995 - categorical_accuracy: 0.4737\n",
      "Epoch 21/2000\n",
      "2/2 [==============================] - 1s 564ms/step - loss: 14.9388 - categorical_accuracy: 0.4386\n",
      "Epoch 22/2000\n",
      "2/2 [==============================] - 1s 612ms/step - loss: 10.2443 - categorical_accuracy: 0.5439\n",
      "Epoch 23/2000\n",
      "2/2 [==============================] - 1s 575ms/step - loss: 12.8644 - categorical_accuracy: 0.5088\n",
      "Epoch 24/2000\n",
      "2/2 [==============================] - 1s 679ms/step - loss: 24.4158 - categorical_accuracy: 0.5088\n",
      "Epoch 25/2000\n",
      "2/2 [==============================] - 1s 531ms/step - loss: 14.8144 - categorical_accuracy: 0.4912\n",
      "Epoch 26/2000\n",
      "2/2 [==============================] - 1s 563ms/step - loss: 33.5603 - categorical_accuracy: 0.5439\n",
      "Epoch 27/2000\n",
      "2/2 [==============================] - 1s 529ms/step - loss: 16.7493 - categorical_accuracy: 0.4737\n",
      "Epoch 28/2000\n",
      "2/2 [==============================] - 1s 628ms/step - loss: 7.9776 - categorical_accuracy: 0.4035\n",
      "Epoch 29/2000\n",
      "2/2 [==============================] - 1s 610ms/step - loss: 5.9672 - categorical_accuracy: 0.6316\n",
      "Epoch 30/2000\n",
      "2/2 [==============================] - 1s 615ms/step - loss: 20.4734 - categorical_accuracy: 0.5439\n",
      "Epoch 31/2000\n",
      "2/2 [==============================] - 1s 670ms/step - loss: 31.8733 - categorical_accuracy: 0.5263\n",
      "Epoch 32/2000\n",
      "2/2 [==============================] - 1s 672ms/step - loss: 63.8287 - categorical_accuracy: 0.4561\n",
      "Epoch 33/2000\n",
      "2/2 [==============================] - 1s 597ms/step - loss: 99.4268 - categorical_accuracy: 0.5088\n",
      "Epoch 34/2000\n",
      "2/2 [==============================] - 1s 739ms/step - loss: 88.9510 - categorical_accuracy: 0.4912\n",
      "Epoch 35/2000\n",
      "2/2 [==============================] - 1s 572ms/step - loss: 119.0716 - categorical_accuracy: 0.5614\n",
      "Epoch 36/2000\n",
      "2/2 [==============================] - 1s 579ms/step - loss: 95.7796 - categorical_accuracy: 0.5965\n",
      "Epoch 37/2000\n",
      "2/2 [==============================] - 1s 623ms/step - loss: 255.7556 - categorical_accuracy: 0.5263\n",
      "Epoch 38/2000\n",
      "2/2 [==============================] - 1s 570ms/step - loss: 856.1400 - categorical_accuracy: 0.4912\n",
      "Epoch 39/2000\n",
      "2/2 [==============================] - 1s 696ms/step - loss: 712.8486 - categorical_accuracy: 0.3158\n",
      "Epoch 40/2000\n",
      "2/2 [==============================] - 1s 540ms/step - loss: 668.5444 - categorical_accuracy: 0.5439\n",
      "Epoch 41/2000\n",
      "2/2 [==============================] - 1s 597ms/step - loss: 299.7127 - categorical_accuracy: 0.5263\n",
      "Epoch 42/2000\n",
      "2/2 [==============================] - 1s 512ms/step - loss: 98.8348 - categorical_accuracy: 0.4912\n",
      "Epoch 43/2000\n",
      "2/2 [==============================] - 1s 517ms/step - loss: 94.4799 - categorical_accuracy: 0.4737\n",
      "Epoch 44/2000\n",
      "2/2 [==============================] - 1s 540ms/step - loss: 81.8074 - categorical_accuracy: 0.5614\n",
      "Epoch 45/2000\n",
      "2/2 [==============================] - 1s 711ms/step - loss: 680.2496 - categorical_accuracy: 0.5088\n",
      "Epoch 46/2000\n",
      "2/2 [==============================] - 1s 560ms/step - loss: 381.2065 - categorical_accuracy: 0.4912\n",
      "Epoch 47/2000\n",
      "2/2 [==============================] - 1s 569ms/step - loss: 168.2410 - categorical_accuracy: 0.4386\n",
      "Epoch 48/2000\n",
      "2/2 [==============================] - 1s 676ms/step - loss: 167.3973 - categorical_accuracy: 0.5263\n",
      "Epoch 49/2000\n",
      "2/2 [==============================] - 1s 536ms/step - loss: 49.4097 - categorical_accuracy: 0.4561\n",
      "Epoch 50/2000\n",
      "2/2 [==============================] - 1s 543ms/step - loss: 59.2194 - categorical_accuracy: 0.5088\n",
      "Epoch 51/2000\n",
      "2/2 [==============================] - 1s 661ms/step - loss: 206.8931 - categorical_accuracy: 0.5614\n",
      "Epoch 52/2000\n",
      "2/2 [==============================] - 1s 640ms/step - loss: 210.9334 - categorical_accuracy: 0.3860\n",
      "Epoch 53/2000\n",
      "2/2 [==============================] - 1s 561ms/step - loss: 116.8451 - categorical_accuracy: 0.4912\n",
      "Epoch 54/2000\n",
      "2/2 [==============================] - 1s 528ms/step - loss: 156.4457 - categorical_accuracy: 0.4737\n",
      "Epoch 55/2000\n",
      "2/2 [==============================] - 1s 543ms/step - loss: 188.2568 - categorical_accuracy: 0.4035\n",
      "Epoch 56/2000\n",
      "2/2 [==============================] - 1s 527ms/step - loss: 48.5288 - categorical_accuracy: 0.4737\n",
      "Epoch 57/2000\n",
      "2/2 [==============================] - 1s 545ms/step - loss: 75.1608 - categorical_accuracy: 0.6140\n",
      "Epoch 58/2000\n",
      "2/2 [==============================] - 1s 552ms/step - loss: 279.4304 - categorical_accuracy: 0.5614\n",
      "Epoch 59/2000\n",
      "2/2 [==============================] - 1s 644ms/step - loss: 483.0061 - categorical_accuracy: 0.5439\n",
      "Epoch 60/2000\n",
      "2/2 [==============================] - 1s 587ms/step - loss: 1217.9800 - categorical_accuracy: 0.5263\n",
      "Epoch 61/2000\n",
      "2/2 [==============================] - 1s 561ms/step - loss: 2345.2302 - categorical_accuracy: 0.5088\n",
      "Epoch 62/2000\n",
      "2/2 [==============================] - 1s 649ms/step - loss: 2179.9573 - categorical_accuracy: 0.5614\n",
      "Epoch 63/2000\n",
      "2/2 [==============================] - 1s 693ms/step - loss: 1266.1282 - categorical_accuracy: 0.6316\n",
      "Epoch 64/2000\n",
      "2/2 [==============================] - 1s 693ms/step - loss: 2285.9595 - categorical_accuracy: 0.4035\n",
      "Epoch 65/2000\n",
      "2/2 [==============================] - 1s 569ms/step - loss: 2504.1179 - categorical_accuracy: 0.5439\n",
      "Epoch 66/2000\n",
      "2/2 [==============================] - 1s 656ms/step - loss: 5278.2954 - categorical_accuracy: 0.4912\n",
      "Epoch 67/2000\n",
      "2/2 [==============================] - 1s 452ms/step - loss: 866.4102 - categorical_accuracy: 0.7018\n",
      "Epoch 68/2000\n",
      "2/2 [==============================] - 1s 502ms/step - loss: 417.7971 - categorical_accuracy: 0.5965\n",
      "Epoch 69/2000\n",
      "2/2 [==============================] - 1s 750ms/step - loss: 696.3517 - categorical_accuracy: 0.4561\n",
      "Epoch 70/2000\n",
      "2/2 [==============================] - 1s 553ms/step - loss: 844.6533 - categorical_accuracy: 0.6140\n",
      "Epoch 71/2000\n",
      "2/2 [==============================] - 1s 554ms/step - loss: 1256.2155 - categorical_accuracy: 0.5614\n",
      "Epoch 72/2000\n",
      "2/2 [==============================] - 1s 524ms/step - loss: 1985.5922 - categorical_accuracy: 0.4211\n",
      "Epoch 73/2000\n",
      "2/2 [==============================] - 1s 585ms/step - loss: 1186.1533 - categorical_accuracy: 0.5439\n",
      "Epoch 74/2000\n",
      "2/2 [==============================] - 1s 577ms/step - loss: 1597.4290 - categorical_accuracy: 0.5263\n",
      "Epoch 75/2000\n",
      "2/2 [==============================] - 1s 581ms/step - loss: 1307.7130 - categorical_accuracy: 0.5614\n",
      "Epoch 76/2000\n",
      "2/2 [==============================] - 1s 545ms/step - loss: 2742.6733 - categorical_accuracy: 0.5614\n",
      "Epoch 77/2000\n",
      "2/2 [==============================] - 1s 535ms/step - loss: 3660.8750 - categorical_accuracy: 0.3860\n",
      "Epoch 78/2000\n",
      "2/2 [==============================] - 1s 574ms/step - loss: 3132.1636 - categorical_accuracy: 0.5965\n",
      "Epoch 79/2000\n",
      "2/2 [==============================] - 1s 644ms/step - loss: 5048.9678 - categorical_accuracy: 0.4737\n",
      "Epoch 80/2000\n",
      "2/2 [==============================] - 1s 667ms/step - loss: 9154.1465 - categorical_accuracy: 0.4561\n",
      "Epoch 81/2000\n",
      "2/2 [==============================] - 1s 638ms/step - loss: 7945.5747 - categorical_accuracy: 0.4561\n",
      "Epoch 82/2000\n",
      "2/2 [==============================] - 1s 645ms/step - loss: 5086.0332 - categorical_accuracy: 0.4912\n",
      "Epoch 83/2000\n",
      "2/2 [==============================] - 1s 618ms/step - loss: 10392.4434 - categorical_accuracy: 0.5088\n",
      "Epoch 84/2000\n",
      "2/2 [==============================] - 1s 640ms/step - loss: 7133.5547 - categorical_accuracy: 0.4211\n",
      "Epoch 85/2000\n",
      "2/2 [==============================] - 1s 525ms/step - loss: 6384.3228 - categorical_accuracy: 0.4211\n",
      "Epoch 86/2000\n",
      "2/2 [==============================] - 1s 640ms/step - loss: 9126.5752 - categorical_accuracy: 0.5088\n",
      "Epoch 87/2000\n",
      "2/2 [==============================] - 1s 550ms/step - loss: 6235.5366 - categorical_accuracy: 0.4386\n",
      "Epoch 88/2000\n",
      "2/2 [==============================] - 1s 515ms/step - loss: 8939.8652 - categorical_accuracy: 0.5088\n",
      "Epoch 89/2000\n",
      "2/2 [==============================] - 1s 583ms/step - loss: 8155.6558 - categorical_accuracy: 0.4211\n",
      "Epoch 90/2000\n",
      "2/2 [==============================] - 1s 592ms/step - loss: 4501.6904 - categorical_accuracy: 0.4561\n",
      "Epoch 91/2000\n",
      "2/2 [==============================] - 1s 578ms/step - loss: 3360.4595 - categorical_accuracy: 0.6316\n",
      "Epoch 92/2000\n",
      "2/2 [==============================] - 1s 574ms/step - loss: 5687.9854 - categorical_accuracy: 0.4912\n",
      "Epoch 93/2000\n",
      "2/2 [==============================] - 1s 592ms/step - loss: 2637.4827 - categorical_accuracy: 0.4912\n",
      "Epoch 94/2000\n",
      "2/2 [==============================] - 1s 571ms/step - loss: 4263.3599 - categorical_accuracy: 0.4211\n",
      "Epoch 95/2000\n",
      "2/2 [==============================] - 1s 547ms/step - loss: 4975.1655 - categorical_accuracy: 0.5614\n",
      "Epoch 96/2000\n",
      "2/2 [==============================] - 1s 531ms/step - loss: 2886.3884 - categorical_accuracy: 0.5263\n",
      "Epoch 97/2000\n",
      "2/2 [==============================] - 1s 533ms/step - loss: 1984.4205 - categorical_accuracy: 0.4912\n",
      "Epoch 98/2000\n",
      "2/2 [==============================] - 1s 593ms/step - loss: 1863.8124 - categorical_accuracy: 0.5088\n",
      "Epoch 99/2000\n",
      "2/2 [==============================] - 1s 543ms/step - loss: 1990.2911 - categorical_accuracy: 0.4737\n",
      "Epoch 100/2000\n",
      "2/2 [==============================] - 1s 555ms/step - loss: 1773.0543 - categorical_accuracy: 0.5789\n",
      "Epoch 101/2000\n",
      "2/2 [==============================] - 1s 619ms/step - loss: 2113.4524 - categorical_accuracy: 0.4211\n",
      "Epoch 102/2000\n",
      "2/2 [==============================] - 1s 599ms/step - loss: 1235.5885 - categorical_accuracy: 0.5088\n",
      "Epoch 103/2000\n",
      "2/2 [==============================] - 1s 570ms/step - loss: 1278.2366 - categorical_accuracy: 0.6842\n",
      "Epoch 104/2000\n",
      "2/2 [==============================] - 1s 613ms/step - loss: 1362.1781 - categorical_accuracy: 0.4211\n",
      "Epoch 105/2000\n",
      "2/2 [==============================] - 1s 531ms/step - loss: 1223.8771 - categorical_accuracy: 0.5439\n",
      "Epoch 106/2000\n",
      "2/2 [==============================] - 1s 565ms/step - loss: 914.0648 - categorical_accuracy: 0.5439\n",
      "Epoch 107/2000\n",
      "2/2 [==============================] - 1s 576ms/step - loss: 1092.4613 - categorical_accuracy: 0.5088\n",
      "Epoch 108/2000\n",
      "2/2 [==============================] - 1s 659ms/step - loss: 482.8611 - categorical_accuracy: 0.5789\n",
      "Epoch 109/2000\n",
      "2/2 [==============================] - 1s 701ms/step - loss: 517.3591 - categorical_accuracy: 0.7368\n",
      "Epoch 110/2000\n",
      "2/2 [==============================] - 1s 643ms/step - loss: 1376.7682 - categorical_accuracy: 0.4561\n",
      "Epoch 111/2000\n",
      "2/2 [==============================] - 1s 558ms/step - loss: 913.7389 - categorical_accuracy: 0.4386\n",
      "Epoch 112/2000\n",
      "2/2 [==============================] - 1s 510ms/step - loss: 1354.1329 - categorical_accuracy: 0.4035\n",
      "Epoch 113/2000\n",
      "2/2 [==============================] - 1s 657ms/step - loss: 453.1461 - categorical_accuracy: 0.7018\n",
      "Epoch 114/2000\n",
      "2/2 [==============================] - 1s 506ms/step - loss: 1670.9657 - categorical_accuracy: 0.4912\n",
      "Epoch 115/2000\n",
      "2/2 [==============================] - 1s 586ms/step - loss: 1021.4024 - categorical_accuracy: 0.5263\n",
      "Epoch 116/2000\n",
      "2/2 [==============================] - 1s 545ms/step - loss: 1305.7196 - categorical_accuracy: 0.4561\n",
      "Epoch 117/2000\n",
      "2/2 [==============================] - 1s 545ms/step - loss: 1381.9579 - categorical_accuracy: 0.5789\n",
      "Epoch 118/2000\n",
      "2/2 [==============================] - 1s 556ms/step - loss: 1203.4791 - categorical_accuracy: 0.4211\n",
      "Epoch 119/2000\n",
      "2/2 [==============================] - 1s 578ms/step - loss: 1612.5096 - categorical_accuracy: 0.5965\n",
      "Epoch 120/2000\n",
      "2/2 [==============================] - 1s 547ms/step - loss: 1585.3673 - categorical_accuracy: 0.6140\n",
      "Epoch 121/2000\n",
      "2/2 [==============================] - 1s 529ms/step - loss: 820.1945 - categorical_accuracy: 0.7895\n",
      "Epoch 122/2000\n",
      "2/2 [==============================] - 1s 519ms/step - loss: 1962.6091 - categorical_accuracy: 0.4211\n",
      "Epoch 123/2000\n",
      "2/2 [==============================] - 1s 556ms/step - loss: 1220.2764 - categorical_accuracy: 0.4211\n",
      "Epoch 124/2000\n",
      "2/2 [==============================] - 1s 565ms/step - loss: 1145.8438 - categorical_accuracy: 0.4912\n",
      "Epoch 125/2000\n",
      "2/2 [==============================] - 1s 521ms/step - loss: 562.4235 - categorical_accuracy: 0.5439\n",
      "Epoch 126/2000\n",
      "2/2 [==============================] - 1s 545ms/step - loss: 822.3982 - categorical_accuracy: 0.5614\n",
      "Epoch 127/2000\n",
      "2/2 [==============================] - 1s 556ms/step - loss: 1504.9109 - categorical_accuracy: 0.5263\n",
      "Epoch 128/2000\n",
      "2/2 [==============================] - 1s 563ms/step - loss: 871.9592 - categorical_accuracy: 0.4737\n",
      "Epoch 129/2000\n",
      "2/2 [==============================] - 1s 563ms/step - loss: 1681.0156 - categorical_accuracy: 0.4737\n",
      "Epoch 130/2000\n",
      "2/2 [==============================] - 1s 544ms/step - loss: 850.3794 - categorical_accuracy: 0.6842\n",
      "Epoch 131/2000\n",
      "2/2 [==============================] - 1s 541ms/step - loss: 2077.7295 - categorical_accuracy: 0.5263\n",
      "Epoch 132/2000\n",
      "2/2 [==============================] - 1s 581ms/step - loss: 1841.7146 - categorical_accuracy: 0.2807\n",
      "Epoch 133/2000\n",
      "2/2 [==============================] - 1s 657ms/step - loss: 1480.0938 - categorical_accuracy: 0.3860\n",
      "Epoch 134/2000\n",
      "2/2 [==============================] - 1s 562ms/step - loss: 1322.4111 - categorical_accuracy: 0.4912\n",
      "Epoch 135/2000\n",
      "2/2 [==============================] - 1s 676ms/step - loss: 1047.5535 - categorical_accuracy: 0.6842\n",
      "Epoch 136/2000\n",
      "2/2 [==============================] - 1s 556ms/step - loss: 856.6736 - categorical_accuracy: 0.4912\n",
      "Epoch 137/2000\n",
      "2/2 [==============================] - 1s 516ms/step - loss: 2260.2576 - categorical_accuracy: 0.4561\n",
      "Epoch 138/2000\n",
      "2/2 [==============================] - 1s 542ms/step - loss: 1259.9003 - categorical_accuracy: 0.5439\n",
      "Epoch 139/2000\n",
      "2/2 [==============================] - 1s 528ms/step - loss: 945.3945 - categorical_accuracy: 0.4561\n",
      "Epoch 140/2000\n",
      "2/2 [==============================] - 1s 544ms/step - loss: 1570.5055 - categorical_accuracy: 0.4386\n",
      "Epoch 141/2000\n",
      "2/2 [==============================] - 1s 588ms/step - loss: 1813.3621 - categorical_accuracy: 0.5263\n",
      "Epoch 142/2000\n"
     ]
    },
    {
     "name": "stdout",
     "output_type": "stream",
     "text": [
      "2/2 [==============================] - 1s 614ms/step - loss: 3337.0645 - categorical_accuracy: 0.4035\n",
      "Epoch 143/2000\n",
      "2/2 [==============================] - 1s 596ms/step - loss: 3819.3240 - categorical_accuracy: 0.5614\n",
      "Epoch 144/2000\n",
      "2/2 [==============================] - 1s 547ms/step - loss: 4648.9180 - categorical_accuracy: 0.5439\n",
      "Epoch 145/2000\n",
      "2/2 [==============================] - 1s 594ms/step - loss: 2900.1978 - categorical_accuracy: 0.4386\n",
      "Epoch 146/2000\n",
      "2/2 [==============================] - 1s 598ms/step - loss: 4354.9907 - categorical_accuracy: 0.4912\n",
      "Epoch 147/2000\n",
      "2/2 [==============================] - 1s 600ms/step - loss: 5442.7368 - categorical_accuracy: 0.5614\n",
      "Epoch 148/2000\n",
      "2/2 [==============================] - 1s 586ms/step - loss: 2827.1245 - categorical_accuracy: 0.4912\n",
      "Epoch 149/2000\n",
      "2/2 [==============================] - 1s 590ms/step - loss: 9228.8564 - categorical_accuracy: 0.5789\n",
      "Epoch 150/2000\n",
      "2/2 [==============================] - 1s 564ms/step - loss: 2190.1130 - categorical_accuracy: 0.4211\n",
      "Epoch 151/2000\n",
      "2/2 [==============================] - 1s 601ms/step - loss: 4533.0508 - categorical_accuracy: 0.4737\n",
      "Epoch 152/2000\n",
      "2/2 [==============================] - 1s 653ms/step - loss: 2277.8704 - categorical_accuracy: 0.4386\n",
      "Epoch 153/2000\n",
      "2/2 [==============================] - 1s 589ms/step - loss: 2464.7976 - categorical_accuracy: 0.5789\n",
      "Epoch 154/2000\n",
      "2/2 [==============================] - 1s 419ms/step - loss: 1806.9471 - categorical_accuracy: 0.5439\n",
      "Epoch 155/2000\n",
      "2/2 [==============================] - 1s 451ms/step - loss: 1372.3625 - categorical_accuracy: 0.5263\n",
      "Epoch 156/2000\n",
      "2/2 [==============================] - 1s 517ms/step - loss: 1560.9619 - categorical_accuracy: 0.4211\n",
      "Epoch 157/2000\n",
      "2/2 [==============================] - 1s 585ms/step - loss: 1593.4438 - categorical_accuracy: 0.5263\n",
      "Epoch 158/2000\n",
      "2/2 [==============================] - 1s 636ms/step - loss: 1768.8057 - categorical_accuracy: 0.4035\n",
      "Epoch 159/2000\n",
      "2/2 [==============================] - 1s 602ms/step - loss: 1421.3783 - categorical_accuracy: 0.5614\n",
      "Epoch 160/2000\n",
      "2/2 [==============================] - 1s 607ms/step - loss: 1351.3535 - categorical_accuracy: 0.4737\n",
      "Epoch 161/2000\n",
      "2/2 [==============================] - 1s 610ms/step - loss: 1778.3296 - categorical_accuracy: 0.5088\n",
      "Epoch 162/2000\n",
      "2/2 [==============================] - 1s 519ms/step - loss: 1177.8589 - categorical_accuracy: 0.5263\n",
      "Epoch 163/2000\n",
      "2/2 [==============================] - 1s 665ms/step - loss: 2971.1572 - categorical_accuracy: 0.4386\n",
      "Epoch 164/2000\n",
      "2/2 [==============================] - 1s 648ms/step - loss: 1292.2004 - categorical_accuracy: 0.6316\n",
      "Epoch 165/2000\n",
      "2/2 [==============================] - 1s 599ms/step - loss: 1218.9033 - categorical_accuracy: 0.5614\n",
      "Epoch 166/2000\n",
      "2/2 [==============================] - 1s 563ms/step - loss: 1470.6862 - categorical_accuracy: 0.4386\n",
      "Epoch 167/2000\n",
      "2/2 [==============================] - 1s 567ms/step - loss: 994.8304 - categorical_accuracy: 0.5789\n",
      "Epoch 168/2000\n",
      "2/2 [==============================] - 1s 602ms/step - loss: 997.7049 - categorical_accuracy: 0.5965\n",
      "Epoch 169/2000\n",
      "2/2 [==============================] - 1s 591ms/step - loss: 1264.2661 - categorical_accuracy: 0.4737\n",
      "Epoch 170/2000\n",
      "2/2 [==============================] - 1s 573ms/step - loss: 854.7786 - categorical_accuracy: 0.5088\n",
      "Epoch 171/2000\n",
      "2/2 [==============================] - 1s 525ms/step - loss: 663.6896 - categorical_accuracy: 0.6491\n",
      "Epoch 172/2000\n",
      "2/2 [==============================] - 1s 577ms/step - loss: 868.1944 - categorical_accuracy: 0.4561\n",
      "Epoch 173/2000\n",
      "2/2 [==============================] - 1s 524ms/step - loss: 1078.0519 - categorical_accuracy: 0.4561\n",
      "Epoch 174/2000\n",
      "2/2 [==============================] - 1s 595ms/step - loss: 1561.9052 - categorical_accuracy: 0.2632\n",
      "Epoch 175/2000\n",
      "2/2 [==============================] - 1s 804ms/step - loss: 622.8461 - categorical_accuracy: 0.4211\n",
      "Epoch 176/2000\n",
      "2/2 [==============================] - 1s 619ms/step - loss: 505.3777 - categorical_accuracy: 0.5965\n",
      "Epoch 177/2000\n",
      "2/2 [==============================] - 1s 580ms/step - loss: 843.0099 - categorical_accuracy: 0.4035\n",
      "Epoch 178/2000\n",
      "2/2 [==============================] - 1s 639ms/step - loss: 938.7943 - categorical_accuracy: 0.5439\n",
      "Epoch 179/2000\n",
      "2/2 [==============================] - 1s 534ms/step - loss: 1005.2355 - categorical_accuracy: 0.4035\n",
      "Epoch 180/2000\n",
      "2/2 [==============================] - 1s 566ms/step - loss: 458.9072 - categorical_accuracy: 0.7018\n",
      "Epoch 181/2000\n",
      "2/2 [==============================] - 1s 595ms/step - loss: 1118.7474 - categorical_accuracy: 0.4737\n",
      "Epoch 182/2000\n",
      "2/2 [==============================] - 1s 620ms/step - loss: 973.9597 - categorical_accuracy: 0.5088\n",
      "Epoch 183/2000\n",
      "2/2 [==============================] - 1s 700ms/step - loss: 505.1429 - categorical_accuracy: 0.3684\n",
      "Epoch 184/2000\n",
      "2/2 [==============================] - 1s 615ms/step - loss: 485.6683 - categorical_accuracy: 0.5789\n",
      "Epoch 185/2000\n",
      "2/2 [==============================] - 1s 832ms/step - loss: 619.6345 - categorical_accuracy: 0.6842\n",
      "Epoch 186/2000\n",
      "2/2 [==============================] - 1s 563ms/step - loss: 825.1677 - categorical_accuracy: 0.5614\n",
      "Epoch 187/2000\n",
      "2/2 [==============================] - 1s 670ms/step - loss: 725.1899 - categorical_accuracy: 0.4386\n",
      "Epoch 188/2000\n",
      "2/2 [==============================] - 1s 643ms/step - loss: 726.0161 - categorical_accuracy: 0.4035\n",
      "Epoch 189/2000\n",
      "2/2 [==============================] - 1s 618ms/step - loss: 618.7645 - categorical_accuracy: 0.5789\n",
      "Epoch 190/2000\n",
      "2/2 [==============================] - 1s 556ms/step - loss: 784.2115 - categorical_accuracy: 0.5263\n",
      "Epoch 191/2000\n",
      "2/2 [==============================] - 1s 496ms/step - loss: 902.1971 - categorical_accuracy: 0.4737\n",
      "Epoch 192/2000\n",
      "2/2 [==============================] - 1s 543ms/step - loss: 778.1725 - categorical_accuracy: 0.6316\n",
      "Epoch 193/2000\n",
      "2/2 [==============================] - 1s 488ms/step - loss: 670.2589 - categorical_accuracy: 0.6491\n",
      "Epoch 194/2000\n",
      "2/2 [==============================] - 1s 644ms/step - loss: 911.3428 - categorical_accuracy: 0.5614\n",
      "Epoch 195/2000\n",
      "2/2 [==============================] - 1s 527ms/step - loss: 599.5980 - categorical_accuracy: 0.5439\n",
      "Epoch 196/2000\n",
      "2/2 [==============================] - 1s 512ms/step - loss: 831.8624 - categorical_accuracy: 0.4912\n",
      "Epoch 197/2000\n",
      "2/2 [==============================] - 1s 538ms/step - loss: 542.4529 - categorical_accuracy: 0.6491\n",
      "Epoch 198/2000\n",
      "2/2 [==============================] - 1s 609ms/step - loss: 390.7949 - categorical_accuracy: 0.4386\n",
      "Epoch 199/2000\n",
      "2/2 [==============================] - 1s 569ms/step - loss: 279.8727 - categorical_accuracy: 0.5789\n",
      "Epoch 200/2000\n",
      "2/2 [==============================] - 1s 564ms/step - loss: 695.5688 - categorical_accuracy: 0.4035\n",
      "Epoch 201/2000\n",
      "2/2 [==============================] - 1s 738ms/step - loss: 298.4235 - categorical_accuracy: 0.7544\n",
      "Epoch 202/2000\n",
      "2/2 [==============================] - 1s 496ms/step - loss: 459.7453 - categorical_accuracy: 0.6667\n",
      "Epoch 203/2000\n",
      "2/2 [==============================] - 1s 573ms/step - loss: 291.0489 - categorical_accuracy: 0.6667\n",
      "Epoch 204/2000\n",
      "2/2 [==============================] - 1s 529ms/step - loss: 379.6314 - categorical_accuracy: 0.6667\n",
      "Epoch 205/2000\n",
      "2/2 [==============================] - 1s 628ms/step - loss: 664.0806 - categorical_accuracy: 0.5439\n",
      "Epoch 206/2000\n",
      "2/2 [==============================] - 1s 553ms/step - loss: 542.2148 - categorical_accuracy: 0.6316\n",
      "Epoch 207/2000\n",
      "2/2 [==============================] - 1s 520ms/step - loss: 579.8551 - categorical_accuracy: 0.5439\n",
      "Epoch 208/2000\n",
      "2/2 [==============================] - 1s 637ms/step - loss: 703.4697 - categorical_accuracy: 0.4561\n",
      "Epoch 209/2000\n",
      "2/2 [==============================] - 1s 532ms/step - loss: 936.9578 - categorical_accuracy: 0.4035\n",
      "Epoch 210/2000\n",
      "2/2 [==============================] - 1s 667ms/step - loss: 889.3645 - categorical_accuracy: 0.5263\n",
      "Epoch 211/2000\n",
      "2/2 [==============================] - 1s 562ms/step - loss: 1182.1039 - categorical_accuracy: 0.2807\n",
      "Epoch 212/2000\n",
      "2/2 [==============================] - 1s 575ms/step - loss: 1193.1012 - categorical_accuracy: 0.4386\n",
      "Epoch 213/2000\n",
      "2/2 [==============================] - 1s 574ms/step - loss: 1498.1793 - categorical_accuracy: 0.5263\n",
      "Epoch 214/2000\n",
      "2/2 [==============================] - 1s 663ms/step - loss: 1931.0914 - categorical_accuracy: 0.3158\n",
      "Epoch 215/2000\n",
      "2/2 [==============================] - 1s 522ms/step - loss: 1143.1592 - categorical_accuracy: 0.3158\n",
      "Epoch 216/2000\n",
      "2/2 [==============================] - 1s 616ms/step - loss: 940.5559 - categorical_accuracy: 0.2632\n",
      "Epoch 217/2000\n",
      "2/2 [==============================] - 1s 515ms/step - loss: 235.1843 - categorical_accuracy: 0.4386\n",
      "Epoch 218/2000\n",
      "2/2 [==============================] - 1s 656ms/step - loss: 332.9276 - categorical_accuracy: 0.5965\n",
      "Epoch 219/2000\n",
      "2/2 [==============================] - 1s 559ms/step - loss: 356.7502 - categorical_accuracy: 0.4211\n",
      "Epoch 220/2000\n",
      "2/2 [==============================] - 1s 589ms/step - loss: 623.6428 - categorical_accuracy: 0.4912\n",
      "Epoch 221/2000\n",
      "2/2 [==============================] - 1s 608ms/step - loss: 364.9310 - categorical_accuracy: 0.4035\n",
      "Epoch 222/2000\n",
      "2/2 [==============================] - 1s 565ms/step - loss: 659.5230 - categorical_accuracy: 0.6140\n",
      "Epoch 223/2000\n",
      "2/2 [==============================] - 1s 531ms/step - loss: 401.4659 - categorical_accuracy: 0.4561\n",
      "Epoch 224/2000\n",
      "2/2 [==============================] - 1s 615ms/step - loss: 1920.5154 - categorical_accuracy: 0.4737\n",
      "Epoch 225/2000\n",
      "2/2 [==============================] - 1s 687ms/step - loss: 2360.8877 - categorical_accuracy: 0.4912\n",
      "Epoch 226/2000\n",
      "2/2 [==============================] - 1s 592ms/step - loss: 2248.1858 - categorical_accuracy: 0.5088\n",
      "Epoch 227/2000\n",
      "2/2 [==============================] - 1s 587ms/step - loss: 3035.1118 - categorical_accuracy: 0.5088\n",
      "Epoch 228/2000\n",
      "2/2 [==============================] - 1s 572ms/step - loss: 1375.8284 - categorical_accuracy: 0.4386\n",
      "Epoch 229/2000\n",
      "2/2 [==============================] - 1s 620ms/step - loss: 1682.2715 - categorical_accuracy: 0.4912\n",
      "Epoch 230/2000\n",
      "2/2 [==============================] - 1s 637ms/step - loss: 921.4919 - categorical_accuracy: 0.5088\n",
      "Epoch 231/2000\n",
      "2/2 [==============================] - 1s 715ms/step - loss: 820.8679 - categorical_accuracy: 0.5263\n",
      "Epoch 232/2000\n",
      "2/2 [==============================] - 1s 579ms/step - loss: 1096.8333 - categorical_accuracy: 0.4211\n",
      "Epoch 233/2000\n",
      "2/2 [==============================] - 1s 644ms/step - loss: 654.0283 - categorical_accuracy: 0.3509\n",
      "Epoch 234/2000\n",
      "2/2 [==============================] - 1s 540ms/step - loss: 461.7262 - categorical_accuracy: 0.5789\n",
      "Epoch 235/2000\n",
      "2/2 [==============================] - 1s 597ms/step - loss: 2146.1536 - categorical_accuracy: 0.4737\n",
      "Epoch 236/2000\n",
      "2/2 [==============================] - 1s 626ms/step - loss: 1787.2167 - categorical_accuracy: 0.5088\n",
      "Epoch 237/2000\n",
      "2/2 [==============================] - 1s 587ms/step - loss: 1772.1719 - categorical_accuracy: 0.4035\n",
      "Epoch 238/2000\n",
      "2/2 [==============================] - 1s 567ms/step - loss: 2194.5618 - categorical_accuracy: 0.5088\n",
      "Epoch 239/2000\n",
      "2/2 [==============================] - 1s 587ms/step - loss: 828.8718 - categorical_accuracy: 0.5088\n",
      "Epoch 240/2000\n",
      "2/2 [==============================] - 1s 545ms/step - loss: 1103.2720 - categorical_accuracy: 0.5088\n",
      "Epoch 241/2000\n",
      "2/2 [==============================] - 1s 691ms/step - loss: 731.2426 - categorical_accuracy: 0.5088\n",
      "Epoch 242/2000\n",
      "2/2 [==============================] - 1s 525ms/step - loss: 951.6511 - categorical_accuracy: 0.3333\n",
      "Epoch 243/2000\n",
      "2/2 [==============================] - 1s 528ms/step - loss: 1541.4729 - categorical_accuracy: 0.4912\n",
      "Epoch 244/2000\n",
      "2/2 [==============================] - 1s 512ms/step - loss: 1017.5871 - categorical_accuracy: 0.5789\n",
      "Epoch 245/2000\n",
      "2/2 [==============================] - 1s 608ms/step - loss: 558.0519 - categorical_accuracy: 0.5088\n",
      "Epoch 246/2000\n",
      "2/2 [==============================] - 1s 485ms/step - loss: 631.5663 - categorical_accuracy: 0.5789\n",
      "Epoch 247/2000\n",
      "2/2 [==============================] - 1s 565ms/step - loss: 434.5137 - categorical_accuracy: 0.5263\n",
      "Epoch 248/2000\n",
      "2/2 [==============================] - 1s 503ms/step - loss: 179.5765 - categorical_accuracy: 0.5965\n",
      "Epoch 249/2000\n",
      "2/2 [==============================] - 1s 541ms/step - loss: 136.8596 - categorical_accuracy: 0.5614\n",
      "Epoch 250/2000\n",
      "2/2 [==============================] - 1s 539ms/step - loss: 132.3360 - categorical_accuracy: 0.6667\n",
      "Epoch 251/2000\n",
      "2/2 [==============================] - 1s 633ms/step - loss: 238.5611 - categorical_accuracy: 0.4737\n",
      "Epoch 252/2000\n",
      "2/2 [==============================] - 1s 515ms/step - loss: 810.3366 - categorical_accuracy: 0.5263\n",
      "Epoch 253/2000\n",
      "2/2 [==============================] - 1s 578ms/step - loss: 505.0647 - categorical_accuracy: 0.4561\n",
      "Epoch 254/2000\n",
      "2/2 [==============================] - 1s 532ms/step - loss: 1137.7034 - categorical_accuracy: 0.5088\n",
      "Epoch 255/2000\n",
      "2/2 [==============================] - 1s 607ms/step - loss: 676.9549 - categorical_accuracy: 0.5088\n",
      "Epoch 256/2000\n",
      "2/2 [==============================] - 1s 548ms/step - loss: 780.3475 - categorical_accuracy: 0.4912\n",
      "Epoch 257/2000\n",
      "2/2 [==============================] - 1s 505ms/step - loss: 825.3543 - categorical_accuracy: 0.4912\n",
      "Epoch 258/2000\n",
      "2/2 [==============================] - 1s 590ms/step - loss: 340.3259 - categorical_accuracy: 0.4912\n",
      "Epoch 259/2000\n",
      "2/2 [==============================] - 1s 517ms/step - loss: 341.3264 - categorical_accuracy: 0.6316\n",
      "Epoch 260/2000\n",
      "2/2 [==============================] - 1s 606ms/step - loss: 408.2687 - categorical_accuracy: 0.4912\n",
      "Epoch 261/2000\n",
      "2/2 [==============================] - 1s 594ms/step - loss: 289.5753 - categorical_accuracy: 0.5088\n",
      "Epoch 262/2000\n",
      "2/2 [==============================] - 1s 593ms/step - loss: 270.9764 - categorical_accuracy: 0.4386\n",
      "Epoch 263/2000\n",
      "2/2 [==============================] - 1s 517ms/step - loss: 242.3578 - categorical_accuracy: 0.3684\n",
      "Epoch 264/2000\n",
      "2/2 [==============================] - 1s 559ms/step - loss: 275.0483 - categorical_accuracy: 0.4386\n",
      "Epoch 265/2000\n",
      "2/2 [==============================] - 1s 560ms/step - loss: 231.2546 - categorical_accuracy: 0.5263\n",
      "Epoch 266/2000\n",
      "2/2 [==============================] - 1s 538ms/step - loss: 126.4569 - categorical_accuracy: 0.3860\n",
      "Epoch 267/2000\n",
      "2/2 [==============================] - 1s 684ms/step - loss: 294.2508 - categorical_accuracy: 0.4912\n",
      "Epoch 268/2000\n",
      "2/2 [==============================] - 1s 562ms/step - loss: 570.0530 - categorical_accuracy: 0.5088\n",
      "Epoch 269/2000\n",
      "2/2 [==============================] - 1s 552ms/step - loss: 489.4156 - categorical_accuracy: 0.4211\n",
      "Epoch 270/2000\n",
      "2/2 [==============================] - 1s 585ms/step - loss: 688.8326 - categorical_accuracy: 0.4912\n",
      "Epoch 271/2000\n",
      "2/2 [==============================] - 1s 558ms/step - loss: 256.1020 - categorical_accuracy: 0.5088\n",
      "Epoch 272/2000\n",
      "2/2 [==============================] - 1s 552ms/step - loss: 263.2334 - categorical_accuracy: 0.4912\n",
      "Epoch 273/2000\n",
      "2/2 [==============================] - 1s 587ms/step - loss: 450.2103 - categorical_accuracy: 0.4912\n",
      "Epoch 274/2000\n",
      "2/2 [==============================] - 1s 826ms/step - loss: 650.5073 - categorical_accuracy: 0.5088\n",
      "Epoch 275/2000\n",
      "2/2 [==============================] - 1s 582ms/step - loss: 338.9353 - categorical_accuracy: 0.4912\n",
      "Epoch 276/2000\n",
      "2/2 [==============================] - 1s 650ms/step - loss: 1078.8329 - categorical_accuracy: 0.4912\n",
      "Epoch 277/2000\n",
      "2/2 [==============================] - 1s 616ms/step - loss: 980.9396 - categorical_accuracy: 0.4912\n",
      "Epoch 278/2000\n",
      "2/2 [==============================] - 1s 623ms/step - loss: 338.3319 - categorical_accuracy: 0.5439\n",
      "Epoch 279/2000\n",
      "2/2 [==============================] - 1s 558ms/step - loss: 682.5118 - categorical_accuracy: 0.5263\n",
      "Epoch 280/2000\n",
      "2/2 [==============================] - 1s 657ms/step - loss: 314.9349 - categorical_accuracy: 0.5965\n",
      "Epoch 281/2000\n",
      "2/2 [==============================] - 1s 591ms/step - loss: 340.1371 - categorical_accuracy: 0.5263\n",
      "Epoch 282/2000\n"
     ]
    },
    {
     "name": "stdout",
     "output_type": "stream",
     "text": [
      "2/2 [==============================] - 1s 657ms/step - loss: 582.2327 - categorical_accuracy: 0.4737\n",
      "Epoch 283/2000\n",
      "2/2 [==============================] - 1s 639ms/step - loss: 421.9273 - categorical_accuracy: 0.4737\n",
      "Epoch 284/2000\n",
      "2/2 [==============================] - 1s 671ms/step - loss: 334.5872 - categorical_accuracy: 0.4912\n",
      "Epoch 285/2000\n",
      "2/2 [==============================] - 1s 528ms/step - loss: 168.6233 - categorical_accuracy: 0.5789\n",
      "Epoch 286/2000\n",
      "2/2 [==============================] - 1s 682ms/step - loss: 246.8648 - categorical_accuracy: 0.4561\n",
      "Epoch 287/2000\n",
      "2/2 [==============================] - 1s 587ms/step - loss: 309.3649 - categorical_accuracy: 0.4912\n",
      "Epoch 288/2000\n",
      "2/2 [==============================] - 1s 591ms/step - loss: 128.9743 - categorical_accuracy: 0.5263\n",
      "Epoch 289/2000\n",
      "2/2 [==============================] - 1s 536ms/step - loss: 161.8707 - categorical_accuracy: 0.5263\n",
      "Epoch 290/2000\n",
      "2/2 [==============================] - 1s 671ms/step - loss: 138.8840 - categorical_accuracy: 0.5789\n",
      "Epoch 291/2000\n",
      "2/2 [==============================] - 1s 583ms/step - loss: 91.4213 - categorical_accuracy: 0.6140\n",
      "Epoch 292/2000\n",
      "2/2 [==============================] - 1s 646ms/step - loss: 57.9818 - categorical_accuracy: 0.6667\n",
      "Epoch 293/2000\n",
      "2/2 [==============================] - 1s 577ms/step - loss: 159.1609 - categorical_accuracy: 0.6140\n",
      "Epoch 294/2000\n",
      "2/2 [==============================] - 1s 595ms/step - loss: 175.2813 - categorical_accuracy: 0.5965\n",
      "Epoch 295/2000\n",
      "2/2 [==============================] - 1s 563ms/step - loss: 170.0528 - categorical_accuracy: 0.6316\n",
      "Epoch 296/2000\n",
      "2/2 [==============================] - 1s 520ms/step - loss: 376.6304 - categorical_accuracy: 0.5088\n",
      "Epoch 297/2000\n",
      "2/2 [==============================] - 1s 583ms/step - loss: 172.6993 - categorical_accuracy: 0.5789\n",
      "Epoch 298/2000\n",
      "2/2 [==============================] - 1s 574ms/step - loss: 343.9797 - categorical_accuracy: 0.6491\n",
      "Epoch 299/2000\n",
      "2/2 [==============================] - 1s 538ms/step - loss: 193.3879 - categorical_accuracy: 0.4912\n",
      "Epoch 300/2000\n",
      "2/2 [==============================] - 1s 833ms/step - loss: 383.8908 - categorical_accuracy: 0.4035\n",
      "Epoch 301/2000\n",
      "2/2 [==============================] - 1s 590ms/step - loss: 598.7876 - categorical_accuracy: 0.4737\n",
      "Epoch 302/2000\n",
      "2/2 [==============================] - 1s 599ms/step - loss: 397.8301 - categorical_accuracy: 0.5263\n",
      "Epoch 303/2000\n",
      "2/2 [==============================] - 1s 565ms/step - loss: 355.1054 - categorical_accuracy: 0.5965\n",
      "Epoch 304/2000\n",
      "2/2 [==============================] - 1s 698ms/step - loss: 308.1147 - categorical_accuracy: 0.4737\n",
      "Epoch 305/2000\n",
      "2/2 [==============================] - 1s 622ms/step - loss: 245.3096 - categorical_accuracy: 0.6491\n",
      "Epoch 306/2000\n",
      "2/2 [==============================] - 1s 581ms/step - loss: 175.5072 - categorical_accuracy: 0.4737\n",
      "Epoch 307/2000\n",
      "2/2 [==============================] - 1s 632ms/step - loss: 244.5216 - categorical_accuracy: 0.4386\n",
      "Epoch 308/2000\n",
      "2/2 [==============================] - 1s 581ms/step - loss: 186.8669 - categorical_accuracy: 0.5439\n",
      "Epoch 309/2000\n",
      "2/2 [==============================] - 1s 567ms/step - loss: 245.0385 - categorical_accuracy: 0.5614\n",
      "Epoch 310/2000\n",
      "2/2 [==============================] - 1s 630ms/step - loss: 397.6317 - categorical_accuracy: 0.4211\n",
      "Epoch 311/2000\n",
      "2/2 [==============================] - 1s 529ms/step - loss: 313.4084 - categorical_accuracy: 0.5263\n",
      "Epoch 312/2000\n",
      "2/2 [==============================] - 1s 724ms/step - loss: 256.9973 - categorical_accuracy: 0.4912\n",
      "Epoch 313/2000\n",
      "2/2 [==============================] - 1s 542ms/step - loss: 228.3261 - categorical_accuracy: 0.6140\n",
      "Epoch 314/2000\n",
      "2/2 [==============================] - 1s 642ms/step - loss: 184.2637 - categorical_accuracy: 0.4912\n",
      "Epoch 315/2000\n",
      "2/2 [==============================] - 1s 581ms/step - loss: 214.9690 - categorical_accuracy: 0.4912\n",
      "Epoch 316/2000\n",
      "2/2 [==============================] - 1s 598ms/step - loss: 195.4620 - categorical_accuracy: 0.5439\n",
      "Epoch 317/2000\n",
      "2/2 [==============================] - 1s 493ms/step - loss: 149.9243 - categorical_accuracy: 0.4561\n",
      "Epoch 318/2000\n",
      "2/2 [==============================] - 1s 514ms/step - loss: 120.4213 - categorical_accuracy: 0.3860\n",
      "Epoch 319/2000\n",
      "2/2 [==============================] - 1s 558ms/step - loss: 51.9016 - categorical_accuracy: 0.4561\n",
      "Epoch 320/2000\n",
      "2/2 [==============================] - 1s 541ms/step - loss: 64.3841 - categorical_accuracy: 0.4737\n",
      "Epoch 321/2000\n",
      "2/2 [==============================] - 1s 577ms/step - loss: 54.2436 - categorical_accuracy: 0.6140\n",
      "Epoch 322/2000\n",
      "2/2 [==============================] - 1s 581ms/step - loss: 32.8394 - categorical_accuracy: 0.5965\n",
      "Epoch 323/2000\n",
      "2/2 [==============================] - 1s 606ms/step - loss: 127.3525 - categorical_accuracy: 0.4912\n",
      "Epoch 324/2000\n",
      "2/2 [==============================] - 1s 641ms/step - loss: 114.8092 - categorical_accuracy: 0.5439\n",
      "Epoch 325/2000\n",
      "2/2 [==============================] - 1s 542ms/step - loss: 183.6822 - categorical_accuracy: 0.5088\n",
      "Epoch 326/2000\n",
      "2/2 [==============================] - 1s 602ms/step - loss: 113.3292 - categorical_accuracy: 0.5789\n",
      "Epoch 327/2000\n",
      "2/2 [==============================] - 1s 590ms/step - loss: 106.1403 - categorical_accuracy: 0.6491\n",
      "Epoch 328/2000\n",
      "2/2 [==============================] - 1s 631ms/step - loss: 133.2974 - categorical_accuracy: 0.6491\n",
      "Epoch 329/2000\n",
      "2/2 [==============================] - 1s 661ms/step - loss: 136.0243 - categorical_accuracy: 0.5439\n",
      "Epoch 330/2000\n",
      "2/2 [==============================] - 1s 560ms/step - loss: 106.7859 - categorical_accuracy: 0.5789\n",
      "Epoch 331/2000\n",
      "2/2 [==============================] - 1s 565ms/step - loss: 114.8372 - categorical_accuracy: 0.6667\n",
      "Epoch 332/2000\n",
      "2/2 [==============================] - 1s 527ms/step - loss: 103.0475 - categorical_accuracy: 0.5965\n",
      "Epoch 333/2000\n",
      "2/2 [==============================] - 1s 543ms/step - loss: 125.2679 - categorical_accuracy: 0.4912\n",
      "Epoch 334/2000\n",
      "2/2 [==============================] - 1s 559ms/step - loss: 253.4655 - categorical_accuracy: 0.4912\n",
      "Epoch 335/2000\n",
      "2/2 [==============================] - 1s 572ms/step - loss: 285.1776 - categorical_accuracy: 0.5614\n",
      "Epoch 336/2000\n",
      "2/2 [==============================] - 1s 516ms/step - loss: 344.6351 - categorical_accuracy: 0.5439\n",
      "Epoch 337/2000\n",
      "2/2 [==============================] - 1s 606ms/step - loss: 289.9735 - categorical_accuracy: 0.5263\n",
      "Epoch 338/2000\n",
      "2/2 [==============================] - 1s 638ms/step - loss: 556.7070 - categorical_accuracy: 0.5614\n",
      "Epoch 339/2000\n",
      "2/2 [==============================] - 1s 572ms/step - loss: 441.5822 - categorical_accuracy: 0.5263\n",
      "Epoch 340/2000\n",
      "2/2 [==============================] - 1s 553ms/step - loss: 425.8289 - categorical_accuracy: 0.5263\n",
      "Epoch 341/2000\n",
      "2/2 [==============================] - 1s 593ms/step - loss: 517.5860 - categorical_accuracy: 0.5439\n",
      "Epoch 342/2000\n",
      "2/2 [==============================] - 1s 654ms/step - loss: 420.5759 - categorical_accuracy: 0.5439\n",
      "Epoch 343/2000\n",
      "2/2 [==============================] - 1s 584ms/step - loss: 549.1127 - categorical_accuracy: 0.4035\n",
      "Epoch 344/2000\n",
      "2/2 [==============================] - 1s 627ms/step - loss: 374.9006 - categorical_accuracy: 0.5439\n",
      "Epoch 345/2000\n",
      "2/2 [==============================] - 1s 585ms/step - loss: 305.3576 - categorical_accuracy: 0.4035\n",
      "Epoch 346/2000\n",
      "2/2 [==============================] - 1s 666ms/step - loss: 431.7233 - categorical_accuracy: 0.4737\n",
      "Epoch 347/2000\n",
      "2/2 [==============================] - 1s 558ms/step - loss: 267.7269 - categorical_accuracy: 0.4737\n",
      "Epoch 348/2000\n",
      "2/2 [==============================] - 1s 590ms/step - loss: 269.6469 - categorical_accuracy: 0.4211\n",
      "Epoch 349/2000\n",
      "2/2 [==============================] - 1s 595ms/step - loss: 260.6571 - categorical_accuracy: 0.4737\n",
      "Epoch 350/2000\n",
      "2/2 [==============================] - 1s 648ms/step - loss: 189.8866 - categorical_accuracy: 0.5614\n",
      "Epoch 351/2000\n",
      "2/2 [==============================] - 1s 550ms/step - loss: 288.7006 - categorical_accuracy: 0.4737\n",
      "Epoch 352/2000\n",
      "1/2 [==============>...............] - ETA: 0s - loss: 218.2289 - categorical_accuracy: 0.5312"
     ]
    },
    {
     "ename": "KeyboardInterrupt",
     "evalue": "",
     "output_type": "error",
     "traceback": [
      "\u001b[1;31m---------------------------------------------------------------------------\u001b[0m",
      "\u001b[1;31mKeyboardInterrupt\u001b[0m                         Traceback (most recent call last)",
      "\u001b[1;32m~\\AppData\\Local\\Temp\\ipykernel_14856\\647883075.py\u001b[0m in \u001b[0;36m<module>\u001b[1;34m\u001b[0m\n\u001b[1;32m----> 1\u001b[1;33m \u001b[0mmodel\u001b[0m\u001b[1;33m.\u001b[0m\u001b[0mfit\u001b[0m\u001b[1;33m(\u001b[0m\u001b[0mX_train\u001b[0m\u001b[1;33m,\u001b[0m \u001b[0my_train\u001b[0m\u001b[1;33m,\u001b[0m \u001b[0mepochs\u001b[0m\u001b[1;33m=\u001b[0m\u001b[1;36m2000\u001b[0m\u001b[1;33m,\u001b[0m \u001b[0mcallbacks\u001b[0m\u001b[1;33m=\u001b[0m\u001b[1;33m[\u001b[0m\u001b[0mtb_callback\u001b[0m\u001b[1;33m]\u001b[0m\u001b[1;33m)\u001b[0m\u001b[1;33m\u001b[0m\u001b[1;33m\u001b[0m\u001b[0m\n\u001b[0m",
      "\u001b[1;32mC:\\ProgramData\\Anaconda3\\lib\\site-packages\\keras\\utils\\traceback_utils.py\u001b[0m in \u001b[0;36merror_handler\u001b[1;34m(*args, **kwargs)\u001b[0m\n\u001b[0;32m     62\u001b[0m     \u001b[0mfiltered_tb\u001b[0m \u001b[1;33m=\u001b[0m \u001b[1;32mNone\u001b[0m\u001b[1;33m\u001b[0m\u001b[1;33m\u001b[0m\u001b[0m\n\u001b[0;32m     63\u001b[0m     \u001b[1;32mtry\u001b[0m\u001b[1;33m:\u001b[0m\u001b[1;33m\u001b[0m\u001b[1;33m\u001b[0m\u001b[0m\n\u001b[1;32m---> 64\u001b[1;33m       \u001b[1;32mreturn\u001b[0m \u001b[0mfn\u001b[0m\u001b[1;33m(\u001b[0m\u001b[1;33m*\u001b[0m\u001b[0margs\u001b[0m\u001b[1;33m,\u001b[0m \u001b[1;33m**\u001b[0m\u001b[0mkwargs\u001b[0m\u001b[1;33m)\u001b[0m\u001b[1;33m\u001b[0m\u001b[1;33m\u001b[0m\u001b[0m\n\u001b[0m\u001b[0;32m     65\u001b[0m     \u001b[1;32mexcept\u001b[0m \u001b[0mException\u001b[0m \u001b[1;32mas\u001b[0m \u001b[0me\u001b[0m\u001b[1;33m:\u001b[0m  \u001b[1;31m# pylint: disable=broad-except\u001b[0m\u001b[1;33m\u001b[0m\u001b[1;33m\u001b[0m\u001b[0m\n\u001b[0;32m     66\u001b[0m       \u001b[0mfiltered_tb\u001b[0m \u001b[1;33m=\u001b[0m \u001b[0m_process_traceback_frames\u001b[0m\u001b[1;33m(\u001b[0m\u001b[0me\u001b[0m\u001b[1;33m.\u001b[0m\u001b[0m__traceback__\u001b[0m\u001b[1;33m)\u001b[0m\u001b[1;33m\u001b[0m\u001b[1;33m\u001b[0m\u001b[0m\n",
      "\u001b[1;32mC:\\ProgramData\\Anaconda3\\lib\\site-packages\\keras\\engine\\training.py\u001b[0m in \u001b[0;36mfit\u001b[1;34m(self, x, y, batch_size, epochs, verbose, callbacks, validation_split, validation_data, shuffle, class_weight, sample_weight, initial_epoch, steps_per_epoch, validation_steps, validation_batch_size, validation_freq, max_queue_size, workers, use_multiprocessing)\u001b[0m\n\u001b[0;32m   1407\u001b[0m                 _r=1):\n\u001b[0;32m   1408\u001b[0m               \u001b[0mcallbacks\u001b[0m\u001b[1;33m.\u001b[0m\u001b[0mon_train_batch_begin\u001b[0m\u001b[1;33m(\u001b[0m\u001b[0mstep\u001b[0m\u001b[1;33m)\u001b[0m\u001b[1;33m\u001b[0m\u001b[1;33m\u001b[0m\u001b[0m\n\u001b[1;32m-> 1409\u001b[1;33m               \u001b[0mtmp_logs\u001b[0m \u001b[1;33m=\u001b[0m \u001b[0mself\u001b[0m\u001b[1;33m.\u001b[0m\u001b[0mtrain_function\u001b[0m\u001b[1;33m(\u001b[0m\u001b[0miterator\u001b[0m\u001b[1;33m)\u001b[0m\u001b[1;33m\u001b[0m\u001b[1;33m\u001b[0m\u001b[0m\n\u001b[0m\u001b[0;32m   1410\u001b[0m               \u001b[1;32mif\u001b[0m \u001b[0mdata_handler\u001b[0m\u001b[1;33m.\u001b[0m\u001b[0mshould_sync\u001b[0m\u001b[1;33m:\u001b[0m\u001b[1;33m\u001b[0m\u001b[1;33m\u001b[0m\u001b[0m\n\u001b[0;32m   1411\u001b[0m                 \u001b[0mcontext\u001b[0m\u001b[1;33m.\u001b[0m\u001b[0masync_wait\u001b[0m\u001b[1;33m(\u001b[0m\u001b[1;33m)\u001b[0m\u001b[1;33m\u001b[0m\u001b[1;33m\u001b[0m\u001b[0m\n",
      "\u001b[1;32mC:\\ProgramData\\Anaconda3\\lib\\site-packages\\tensorflow\\python\\util\\traceback_utils.py\u001b[0m in \u001b[0;36merror_handler\u001b[1;34m(*args, **kwargs)\u001b[0m\n\u001b[0;32m    148\u001b[0m     \u001b[0mfiltered_tb\u001b[0m \u001b[1;33m=\u001b[0m \u001b[1;32mNone\u001b[0m\u001b[1;33m\u001b[0m\u001b[1;33m\u001b[0m\u001b[0m\n\u001b[0;32m    149\u001b[0m     \u001b[1;32mtry\u001b[0m\u001b[1;33m:\u001b[0m\u001b[1;33m\u001b[0m\u001b[1;33m\u001b[0m\u001b[0m\n\u001b[1;32m--> 150\u001b[1;33m       \u001b[1;32mreturn\u001b[0m \u001b[0mfn\u001b[0m\u001b[1;33m(\u001b[0m\u001b[1;33m*\u001b[0m\u001b[0margs\u001b[0m\u001b[1;33m,\u001b[0m \u001b[1;33m**\u001b[0m\u001b[0mkwargs\u001b[0m\u001b[1;33m)\u001b[0m\u001b[1;33m\u001b[0m\u001b[1;33m\u001b[0m\u001b[0m\n\u001b[0m\u001b[0;32m    151\u001b[0m     \u001b[1;32mexcept\u001b[0m \u001b[0mException\u001b[0m \u001b[1;32mas\u001b[0m \u001b[0me\u001b[0m\u001b[1;33m:\u001b[0m\u001b[1;33m\u001b[0m\u001b[1;33m\u001b[0m\u001b[0m\n\u001b[0;32m    152\u001b[0m       \u001b[0mfiltered_tb\u001b[0m \u001b[1;33m=\u001b[0m \u001b[0m_process_traceback_frames\u001b[0m\u001b[1;33m(\u001b[0m\u001b[0me\u001b[0m\u001b[1;33m.\u001b[0m\u001b[0m__traceback__\u001b[0m\u001b[1;33m)\u001b[0m\u001b[1;33m\u001b[0m\u001b[1;33m\u001b[0m\u001b[0m\n",
      "\u001b[1;32mC:\\ProgramData\\Anaconda3\\lib\\site-packages\\tensorflow\\python\\eager\\def_function.py\u001b[0m in \u001b[0;36m__call__\u001b[1;34m(self, *args, **kwds)\u001b[0m\n\u001b[0;32m    913\u001b[0m \u001b[1;33m\u001b[0m\u001b[0m\n\u001b[0;32m    914\u001b[0m       \u001b[1;32mwith\u001b[0m \u001b[0mOptionalXlaContext\u001b[0m\u001b[1;33m(\u001b[0m\u001b[0mself\u001b[0m\u001b[1;33m.\u001b[0m\u001b[0m_jit_compile\u001b[0m\u001b[1;33m)\u001b[0m\u001b[1;33m:\u001b[0m\u001b[1;33m\u001b[0m\u001b[1;33m\u001b[0m\u001b[0m\n\u001b[1;32m--> 915\u001b[1;33m         \u001b[0mresult\u001b[0m \u001b[1;33m=\u001b[0m \u001b[0mself\u001b[0m\u001b[1;33m.\u001b[0m\u001b[0m_call\u001b[0m\u001b[1;33m(\u001b[0m\u001b[1;33m*\u001b[0m\u001b[0margs\u001b[0m\u001b[1;33m,\u001b[0m \u001b[1;33m**\u001b[0m\u001b[0mkwds\u001b[0m\u001b[1;33m)\u001b[0m\u001b[1;33m\u001b[0m\u001b[1;33m\u001b[0m\u001b[0m\n\u001b[0m\u001b[0;32m    916\u001b[0m \u001b[1;33m\u001b[0m\u001b[0m\n\u001b[0;32m    917\u001b[0m       \u001b[0mnew_tracing_count\u001b[0m \u001b[1;33m=\u001b[0m \u001b[0mself\u001b[0m\u001b[1;33m.\u001b[0m\u001b[0mexperimental_get_tracing_count\u001b[0m\u001b[1;33m(\u001b[0m\u001b[1;33m)\u001b[0m\u001b[1;33m\u001b[0m\u001b[1;33m\u001b[0m\u001b[0m\n",
      "\u001b[1;32mC:\\ProgramData\\Anaconda3\\lib\\site-packages\\tensorflow\\python\\eager\\def_function.py\u001b[0m in \u001b[0;36m_call\u001b[1;34m(self, *args, **kwds)\u001b[0m\n\u001b[0;32m    945\u001b[0m       \u001b[1;31m# In this case we have created variables on the first call, so we run the\u001b[0m\u001b[1;33m\u001b[0m\u001b[1;33m\u001b[0m\u001b[1;33m\u001b[0m\u001b[0m\n\u001b[0;32m    946\u001b[0m       \u001b[1;31m# defunned version which is guaranteed to never create variables.\u001b[0m\u001b[1;33m\u001b[0m\u001b[1;33m\u001b[0m\u001b[1;33m\u001b[0m\u001b[0m\n\u001b[1;32m--> 947\u001b[1;33m       \u001b[1;32mreturn\u001b[0m \u001b[0mself\u001b[0m\u001b[1;33m.\u001b[0m\u001b[0m_stateless_fn\u001b[0m\u001b[1;33m(\u001b[0m\u001b[1;33m*\u001b[0m\u001b[0margs\u001b[0m\u001b[1;33m,\u001b[0m \u001b[1;33m**\u001b[0m\u001b[0mkwds\u001b[0m\u001b[1;33m)\u001b[0m  \u001b[1;31m# pylint: disable=not-callable\u001b[0m\u001b[1;33m\u001b[0m\u001b[1;33m\u001b[0m\u001b[0m\n\u001b[0m\u001b[0;32m    948\u001b[0m     \u001b[1;32melif\u001b[0m \u001b[0mself\u001b[0m\u001b[1;33m.\u001b[0m\u001b[0m_stateful_fn\u001b[0m \u001b[1;32mis\u001b[0m \u001b[1;32mnot\u001b[0m \u001b[1;32mNone\u001b[0m\u001b[1;33m:\u001b[0m\u001b[1;33m\u001b[0m\u001b[1;33m\u001b[0m\u001b[0m\n\u001b[0;32m    949\u001b[0m       \u001b[1;31m# Release the lock early so that multiple threads can perform the call\u001b[0m\u001b[1;33m\u001b[0m\u001b[1;33m\u001b[0m\u001b[1;33m\u001b[0m\u001b[0m\n",
      "\u001b[1;32mC:\\ProgramData\\Anaconda3\\lib\\site-packages\\tensorflow\\python\\eager\\function.py\u001b[0m in \u001b[0;36m__call__\u001b[1;34m(self, *args, **kwargs)\u001b[0m\n\u001b[0;32m   2452\u001b[0m        filtered_flat_args) = self._maybe_define_function(args, kwargs)\n\u001b[0;32m   2453\u001b[0m     return graph_function._call_flat(\n\u001b[1;32m-> 2454\u001b[1;33m         filtered_flat_args, captured_inputs=graph_function.captured_inputs)  # pylint: disable=protected-access\n\u001b[0m\u001b[0;32m   2455\u001b[0m \u001b[1;33m\u001b[0m\u001b[0m\n\u001b[0;32m   2456\u001b[0m   \u001b[1;33m@\u001b[0m\u001b[0mproperty\u001b[0m\u001b[1;33m\u001b[0m\u001b[1;33m\u001b[0m\u001b[0m\n",
      "\u001b[1;32mC:\\ProgramData\\Anaconda3\\lib\\site-packages\\tensorflow\\python\\eager\\function.py\u001b[0m in \u001b[0;36m_call_flat\u001b[1;34m(self, args, captured_inputs, cancellation_manager)\u001b[0m\n\u001b[0;32m   1859\u001b[0m       \u001b[1;31m# No tape is watching; skip to running the function.\u001b[0m\u001b[1;33m\u001b[0m\u001b[1;33m\u001b[0m\u001b[1;33m\u001b[0m\u001b[0m\n\u001b[0;32m   1860\u001b[0m       return self._build_call_outputs(self._inference_function.call(\n\u001b[1;32m-> 1861\u001b[1;33m           ctx, args, cancellation_manager=cancellation_manager))\n\u001b[0m\u001b[0;32m   1862\u001b[0m     forward_backward = self._select_forward_and_backward_functions(\n\u001b[0;32m   1863\u001b[0m         \u001b[0margs\u001b[0m\u001b[1;33m,\u001b[0m\u001b[1;33m\u001b[0m\u001b[1;33m\u001b[0m\u001b[0m\n",
      "\u001b[1;32mC:\\ProgramData\\Anaconda3\\lib\\site-packages\\tensorflow\\python\\eager\\function.py\u001b[0m in \u001b[0;36mcall\u001b[1;34m(self, ctx, args, cancellation_manager)\u001b[0m\n\u001b[0;32m    500\u001b[0m               \u001b[0minputs\u001b[0m\u001b[1;33m=\u001b[0m\u001b[0margs\u001b[0m\u001b[1;33m,\u001b[0m\u001b[1;33m\u001b[0m\u001b[1;33m\u001b[0m\u001b[0m\n\u001b[0;32m    501\u001b[0m               \u001b[0mattrs\u001b[0m\u001b[1;33m=\u001b[0m\u001b[0mattrs\u001b[0m\u001b[1;33m,\u001b[0m\u001b[1;33m\u001b[0m\u001b[1;33m\u001b[0m\u001b[0m\n\u001b[1;32m--> 502\u001b[1;33m               ctx=ctx)\n\u001b[0m\u001b[0;32m    503\u001b[0m         \u001b[1;32melse\u001b[0m\u001b[1;33m:\u001b[0m\u001b[1;33m\u001b[0m\u001b[1;33m\u001b[0m\u001b[0m\n\u001b[0;32m    504\u001b[0m           outputs = execute.execute_with_cancellation(\n",
      "\u001b[1;32mC:\\ProgramData\\Anaconda3\\lib\\site-packages\\tensorflow\\python\\eager\\execute.py\u001b[0m in \u001b[0;36mquick_execute\u001b[1;34m(op_name, num_outputs, inputs, attrs, ctx, name)\u001b[0m\n\u001b[0;32m     53\u001b[0m     \u001b[0mctx\u001b[0m\u001b[1;33m.\u001b[0m\u001b[0mensure_initialized\u001b[0m\u001b[1;33m(\u001b[0m\u001b[1;33m)\u001b[0m\u001b[1;33m\u001b[0m\u001b[1;33m\u001b[0m\u001b[0m\n\u001b[0;32m     54\u001b[0m     tensors = pywrap_tfe.TFE_Py_Execute(ctx._handle, device_name, op_name,\n\u001b[1;32m---> 55\u001b[1;33m                                         inputs, attrs, num_outputs)\n\u001b[0m\u001b[0;32m     56\u001b[0m   \u001b[1;32mexcept\u001b[0m \u001b[0mcore\u001b[0m\u001b[1;33m.\u001b[0m\u001b[0m_NotOkStatusException\u001b[0m \u001b[1;32mas\u001b[0m \u001b[0me\u001b[0m\u001b[1;33m:\u001b[0m\u001b[1;33m\u001b[0m\u001b[1;33m\u001b[0m\u001b[0m\n\u001b[0;32m     57\u001b[0m     \u001b[1;32mif\u001b[0m \u001b[0mname\u001b[0m \u001b[1;32mis\u001b[0m \u001b[1;32mnot\u001b[0m \u001b[1;32mNone\u001b[0m\u001b[1;33m:\u001b[0m\u001b[1;33m\u001b[0m\u001b[1;33m\u001b[0m\u001b[0m\n",
      "\u001b[1;31mKeyboardInterrupt\u001b[0m: "
     ]
    }
   ],
   "source": [
    "model.fit(X_train, y_train, epochs=2000, callbacks=[tb_callback])"
   ]
  },
  {
   "cell_type": "code",
   "execution_count": null,
   "metadata": {
    "scrolled": true
   },
   "outputs": [],
   "source": [
    "model.summary()"
   ]
  },
  {
   "cell_type": "markdown",
   "metadata": {},
   "source": [
    "# 8. Make Predictions"
   ]
  },
  {
   "cell_type": "code",
   "execution_count": 57,
   "metadata": {},
   "outputs": [
    {
     "name": "stdout",
     "output_type": "stream",
     "text": [
      "1/1 [==============================] - 1s 921ms/step\n"
     ]
    }
   ],
   "source": [
    "res = model.predict(X_test)"
   ]
  },
  {
   "cell_type": "code",
   "execution_count": 58,
   "metadata": {},
   "outputs": [
    {
     "data": {
      "text/plain": [
       "'healthy'"
      ]
     },
     "execution_count": 58,
     "metadata": {},
     "output_type": "execute_result"
    }
   ],
   "source": [
    "actions[np.argmax(res[1])]"
   ]
  },
  {
   "cell_type": "code",
   "execution_count": 59,
   "metadata": {},
   "outputs": [
    {
     "data": {
      "text/plain": [
       "'dry'"
      ]
     },
     "execution_count": 59,
     "metadata": {},
     "output_type": "execute_result"
    }
   ],
   "source": [
    "actions[np.argmax(y_test[1])]"
   ]
  },
  {
   "cell_type": "markdown",
   "metadata": {},
   "source": [
    "# 9. Save Weights"
   ]
  },
  {
   "cell_type": "code",
   "execution_count": 60,
   "metadata": {},
   "outputs": [],
   "source": [
    "model.save('action.h5')"
   ]
  },
  {
   "cell_type": "code",
   "execution_count": null,
   "metadata": {},
   "outputs": [],
   "source": [
    "filename = \"predefined_data_model.joblib\""
   ]
  },
  {
   "cell_type": "code",
   "execution_count": null,
   "metadata": {},
   "outputs": [],
   "source": [
    "joblib.dump(model, filename)"
   ]
  },
  {
   "cell_type": "code",
   "execution_count": null,
   "metadata": {},
   "outputs": [],
   "source": [
    "del model"
   ]
  },
  {
   "cell_type": "code",
   "execution_count": 27,
   "metadata": {},
   "outputs": [],
   "source": [
    "model.load_weights('action.h5')"
   ]
  },
  {
   "cell_type": "code",
   "execution_count": null,
   "metadata": {},
   "outputs": [],
   "source": [
    "loaded_model = joblib.load(filename)"
   ]
  },
  {
   "cell_type": "markdown",
   "metadata": {},
   "source": [
    "# 10. Evaluation using Confusion Matrix and Accuracy"
   ]
  },
  {
   "cell_type": "code",
   "execution_count": 61,
   "metadata": {},
   "outputs": [],
   "source": [
    "from sklearn.metrics import multilabel_confusion_matrix, accuracy_score"
   ]
  },
  {
   "cell_type": "code",
   "execution_count": 62,
   "metadata": {},
   "outputs": [
    {
     "name": "stdout",
     "output_type": "stream",
     "text": [
      "1/1 [==============================] - 0s 94ms/step\n"
     ]
    }
   ],
   "source": [
    "yhat = model.predict(X_test)"
   ]
  },
  {
   "cell_type": "code",
   "execution_count": 63,
   "metadata": {},
   "outputs": [],
   "source": [
    "ytrue = np.argmax(y_test, axis=1).tolist()\n",
    "yhat = np.argmax(yhat, axis=1).tolist()"
   ]
  },
  {
   "cell_type": "code",
   "execution_count": 64,
   "metadata": {},
   "outputs": [
    {
     "data": {
      "text/plain": [
       "array([[[0., 1.],\n",
       "        [2., 0.]],\n",
       "\n",
       "       [[0., 2.],\n",
       "        [1., 0.]]])"
      ]
     },
     "execution_count": 64,
     "metadata": {},
     "output_type": "execute_result"
    }
   ],
   "source": [
    "multilabel_confusion_matrix(ytrue, yhat)"
   ]
  },
  {
   "cell_type": "code",
   "execution_count": 65,
   "metadata": {},
   "outputs": [
    {
     "data": {
      "text/plain": [
       "0.0"
      ]
     },
     "execution_count": 65,
     "metadata": {},
     "output_type": "execute_result"
    }
   ],
   "source": [
    "accuracy_score(ytrue, yhat)"
   ]
  },
  {
   "cell_type": "markdown",
   "metadata": {},
   "source": [
    "# 11. Test in Real Time"
   ]
  },
  {
   "cell_type": "code",
   "execution_count": 28,
   "metadata": {},
   "outputs": [],
   "source": [
    "colors = [(245,117,16), (117,245,16), (16,117,245)]\n",
    "def prob_viz(res, actions, input_frame, colors):\n",
    "    output_frame = input_frame.copy()\n",
    "    for num, prob in enumerate(res):\n",
    "        cv2.rectangle(output_frame, (0,60+num*40), (int(prob*100), 90+num*40), colors[num], -1)\n",
    "        cv2.putText(output_frame, actions[num], (0, 85+num*40), cv2.FONT_HERSHEY_SIMPLEX, 1, (255,255,255), 2, cv2.LINE_AA)\n",
    "        \n",
    "    return output_frame"
   ]
  },
  {
   "cell_type": "code",
   "execution_count": 29,
   "metadata": {},
   "outputs": [
    {
     "ename": "NameError",
     "evalue": "name 'image' is not defined",
     "output_type": "error",
     "traceback": [
      "\u001b[1;31m---------------------------------------------------------------------------\u001b[0m",
      "\u001b[1;31mNameError\u001b[0m                                 Traceback (most recent call last)",
      "\u001b[1;32m~\\AppData\\Local\\Temp\\ipykernel_16204\\104962489.py\u001b[0m in \u001b[0;36m<module>\u001b[1;34m\u001b[0m\n\u001b[0;32m      1\u001b[0m \u001b[0mplt\u001b[0m\u001b[1;33m.\u001b[0m\u001b[0mfigure\u001b[0m\u001b[1;33m(\u001b[0m\u001b[0mfigsize\u001b[0m\u001b[1;33m=\u001b[0m\u001b[1;33m(\u001b[0m\u001b[1;36m18\u001b[0m\u001b[1;33m,\u001b[0m\u001b[1;36m18\u001b[0m\u001b[1;33m)\u001b[0m\u001b[1;33m)\u001b[0m\u001b[1;33m\u001b[0m\u001b[1;33m\u001b[0m\u001b[0m\n\u001b[1;32m----> 2\u001b[1;33m \u001b[0mplt\u001b[0m\u001b[1;33m.\u001b[0m\u001b[0mimshow\u001b[0m\u001b[1;33m(\u001b[0m\u001b[0mprob_viz\u001b[0m\u001b[1;33m(\u001b[0m\u001b[0mres\u001b[0m\u001b[1;33m,\u001b[0m \u001b[0mactions\u001b[0m\u001b[1;33m,\u001b[0m \u001b[0mimage\u001b[0m\u001b[1;33m,\u001b[0m \u001b[0mcolors\u001b[0m\u001b[1;33m)\u001b[0m\u001b[1;33m)\u001b[0m\u001b[1;33m\u001b[0m\u001b[1;33m\u001b[0m\u001b[0m\n\u001b[0m",
      "\u001b[1;31mNameError\u001b[0m: name 'image' is not defined"
     ]
    },
    {
     "data": {
      "text/plain": [
       "<Figure size 1296x1296 with 0 Axes>"
      ]
     },
     "metadata": {},
     "output_type": "display_data"
    }
   ],
   "source": [
    "plt.figure(figsize=(18,18))\n",
    "plt.imshow(prob_viz(res, actions, image, colors))"
   ]
  },
  {
   "cell_type": "code",
   "execution_count": 67,
   "metadata": {},
   "outputs": [
    {
     "ename": "AttributeError",
     "evalue": "'int' object has no attribute 'reverse'",
     "output_type": "error",
     "traceback": [
      "\u001b[1;31m---------------------------------------------------------------------------\u001b[0m",
      "\u001b[1;31mAttributeError\u001b[0m                            Traceback (most recent call last)",
      "\u001b[1;32m~\\AppData\\Local\\Temp\\ipykernel_14856\\112341050.py\u001b[0m in \u001b[0;36m<module>\u001b[1;34m\u001b[0m\n\u001b[1;32m----> 1\u001b[1;33m \u001b[0msequence\u001b[0m\u001b[1;33m.\u001b[0m\u001b[0mreverse\u001b[0m\u001b[1;33m(\u001b[0m\u001b[1;33m)\u001b[0m\u001b[1;33m\u001b[0m\u001b[1;33m\u001b[0m\u001b[0m\n\u001b[0m",
      "\u001b[1;31mAttributeError\u001b[0m: 'int' object has no attribute 'reverse'"
     ]
    }
   ],
   "source": [
    "sequence.reverse()"
   ]
  },
  {
   "cell_type": "code",
   "execution_count": 68,
   "metadata": {},
   "outputs": [
    {
     "ename": "TypeError",
     "evalue": "object of type 'int' has no len()",
     "output_type": "error",
     "traceback": [
      "\u001b[1;31m---------------------------------------------------------------------------\u001b[0m",
      "\u001b[1;31mTypeError\u001b[0m                                 Traceback (most recent call last)",
      "\u001b[1;32m~\\AppData\\Local\\Temp\\ipykernel_14856\\1762226045.py\u001b[0m in \u001b[0;36m<module>\u001b[1;34m\u001b[0m\n\u001b[1;32m----> 1\u001b[1;33m \u001b[0mlen\u001b[0m\u001b[1;33m(\u001b[0m\u001b[0msequence\u001b[0m\u001b[1;33m)\u001b[0m\u001b[1;33m\u001b[0m\u001b[1;33m\u001b[0m\u001b[0m\n\u001b[0m",
      "\u001b[1;31mTypeError\u001b[0m: object of type 'int' has no len()"
     ]
    }
   ],
   "source": [
    "len(sequence)"
   ]
  },
  {
   "cell_type": "code",
   "execution_count": 69,
   "metadata": {},
   "outputs": [
    {
     "ename": "AttributeError",
     "evalue": "'int' object has no attribute 'append'",
     "output_type": "error",
     "traceback": [
      "\u001b[1;31m---------------------------------------------------------------------------\u001b[0m",
      "\u001b[1;31mAttributeError\u001b[0m                            Traceback (most recent call last)",
      "\u001b[1;32m~\\AppData\\Local\\Temp\\ipykernel_14856\\587719802.py\u001b[0m in \u001b[0;36m<module>\u001b[1;34m\u001b[0m\n\u001b[1;32m----> 1\u001b[1;33m \u001b[0msequence\u001b[0m\u001b[1;33m.\u001b[0m\u001b[0mappend\u001b[0m\u001b[1;33m(\u001b[0m\u001b[1;34m'def'\u001b[0m\u001b[1;33m)\u001b[0m\u001b[1;33m\u001b[0m\u001b[1;33m\u001b[0m\u001b[0m\n\u001b[0m",
      "\u001b[1;31mAttributeError\u001b[0m: 'int' object has no attribute 'append'"
     ]
    }
   ],
   "source": [
    "sequence.append('def')"
   ]
  },
  {
   "cell_type": "code",
   "execution_count": 70,
   "metadata": {},
   "outputs": [
    {
     "ename": "AttributeError",
     "evalue": "'int' object has no attribute 'reverse'",
     "output_type": "error",
     "traceback": [
      "\u001b[1;31m---------------------------------------------------------------------------\u001b[0m",
      "\u001b[1;31mAttributeError\u001b[0m                            Traceback (most recent call last)",
      "\u001b[1;32m~\\AppData\\Local\\Temp\\ipykernel_14856\\112341050.py\u001b[0m in \u001b[0;36m<module>\u001b[1;34m\u001b[0m\n\u001b[1;32m----> 1\u001b[1;33m \u001b[0msequence\u001b[0m\u001b[1;33m.\u001b[0m\u001b[0mreverse\u001b[0m\u001b[1;33m(\u001b[0m\u001b[1;33m)\u001b[0m\u001b[1;33m\u001b[0m\u001b[1;33m\u001b[0m\u001b[0m\n\u001b[0m",
      "\u001b[1;31mAttributeError\u001b[0m: 'int' object has no attribute 'reverse'"
     ]
    }
   ],
   "source": [
    "sequence.reverse()"
   ]
  },
  {
   "cell_type": "code",
   "execution_count": 71,
   "metadata": {
    "scrolled": true
   },
   "outputs": [
    {
     "ename": "TypeError",
     "evalue": "'int' object is not subscriptable",
     "output_type": "error",
     "traceback": [
      "\u001b[1;31m---------------------------------------------------------------------------\u001b[0m",
      "\u001b[1;31mTypeError\u001b[0m                                 Traceback (most recent call last)",
      "\u001b[1;32m~\\AppData\\Local\\Temp\\ipykernel_14856\\3855705222.py\u001b[0m in \u001b[0;36m<module>\u001b[1;34m\u001b[0m\n\u001b[1;32m----> 1\u001b[1;33m \u001b[0msequence\u001b[0m\u001b[1;33m[\u001b[0m\u001b[1;33m-\u001b[0m\u001b[1;36m30\u001b[0m\u001b[1;33m:\u001b[0m\u001b[1;33m]\u001b[0m\u001b[1;33m\u001b[0m\u001b[1;33m\u001b[0m\u001b[0m\n\u001b[0m",
      "\u001b[1;31mTypeError\u001b[0m: 'int' object is not subscriptable"
     ]
    }
   ],
   "source": [
    "sequence[-30:]"
   ]
  },
  {
   "cell_type": "code",
   "execution_count": 30,
   "metadata": {},
   "outputs": [
    {
     "name": "stdout",
     "output_type": "stream",
     "text": [
      "<class 'mediapipe.python.solution_base.SolutionOutputs'>\n",
      "<class 'mediapipe.python.solution_base.SolutionOutputs'>\n",
      "<class 'mediapipe.python.solution_base.SolutionOutputs'>\n",
      "<class 'mediapipe.python.solution_base.SolutionOutputs'>\n",
      "<class 'mediapipe.python.solution_base.SolutionOutputs'>\n",
      "<class 'mediapipe.python.solution_base.SolutionOutputs'>\n",
      "<class 'mediapipe.python.solution_base.SolutionOutputs'>\n",
      "<class 'mediapipe.python.solution_base.SolutionOutputs'>\n",
      "<class 'mediapipe.python.solution_base.SolutionOutputs'>\n",
      "<class 'mediapipe.python.solution_base.SolutionOutputs'>\n",
      "<class 'mediapipe.python.solution_base.SolutionOutputs'>\n",
      "<class 'mediapipe.python.solution_base.SolutionOutputs'>\n",
      "<class 'mediapipe.python.solution_base.SolutionOutputs'>\n",
      "<class 'mediapipe.python.solution_base.SolutionOutputs'>\n",
      "<class 'mediapipe.python.solution_base.SolutionOutputs'>\n",
      "<class 'mediapipe.python.solution_base.SolutionOutputs'>\n",
      "<class 'mediapipe.python.solution_base.SolutionOutputs'>\n",
      "<class 'mediapipe.python.solution_base.SolutionOutputs'>\n",
      "<class 'mediapipe.python.solution_base.SolutionOutputs'>\n",
      "<class 'mediapipe.python.solution_base.SolutionOutputs'>\n",
      "<class 'mediapipe.python.solution_base.SolutionOutputs'>\n",
      "<class 'mediapipe.python.solution_base.SolutionOutputs'>\n",
      "<class 'mediapipe.python.solution_base.SolutionOutputs'>\n",
      "<class 'mediapipe.python.solution_base.SolutionOutputs'>\n",
      "<class 'mediapipe.python.solution_base.SolutionOutputs'>\n",
      "<class 'mediapipe.python.solution_base.SolutionOutputs'>\n",
      "<class 'mediapipe.python.solution_base.SolutionOutputs'>\n",
      "<class 'mediapipe.python.solution_base.SolutionOutputs'>\n",
      "<class 'mediapipe.python.solution_base.SolutionOutputs'>\n",
      "<class 'mediapipe.python.solution_base.SolutionOutputs'>\n"
     ]
    },
    {
     "ename": "ValueError",
     "evalue": "in user code:\n\n    File \"C:\\ProgramData\\Anaconda3\\lib\\site-packages\\keras\\engine\\training.py\", line 1845, in predict_function  *\n        return step_function(self, iterator)\n    File \"C:\\ProgramData\\Anaconda3\\lib\\site-packages\\keras\\engine\\training.py\", line 1834, in step_function  **\n        outputs = model.distribute_strategy.run(run_step, args=(data,))\n    File \"C:\\ProgramData\\Anaconda3\\lib\\site-packages\\keras\\engine\\training.py\", line 1823, in run_step  **\n        outputs = model.predict_step(data)\n    File \"C:\\ProgramData\\Anaconda3\\lib\\site-packages\\keras\\engine\\training.py\", line 1791, in predict_step\n        return self(x, training=False)\n    File \"C:\\ProgramData\\Anaconda3\\lib\\site-packages\\keras\\utils\\traceback_utils.py\", line 67, in error_handler\n        raise e.with_traceback(filtered_tb) from None\n    File \"C:\\ProgramData\\Anaconda3\\lib\\site-packages\\keras\\engine\\input_spec.py\", line 264, in assert_input_compatibility\n        raise ValueError(f'Input {input_index} of layer \"{layer_name}\" is '\n\n    ValueError: Input 0 of layer \"sequential\" is incompatible with the layer: expected shape=(None, 50, 1662), found shape=(None, 30, 1662)\n",
     "output_type": "error",
     "traceback": [
      "\u001b[1;31m---------------------------------------------------------------------------\u001b[0m",
      "\u001b[1;31mValueError\u001b[0m                                Traceback (most recent call last)",
      "\u001b[1;32m~\\AppData\\Local\\Temp\\ipykernel_16204\\3404504786.py\u001b[0m in \u001b[0;36m<module>\u001b[1;34m\u001b[0m\n\u001b[0;32m     29\u001b[0m \u001b[1;33m\u001b[0m\u001b[0m\n\u001b[0;32m     30\u001b[0m         \u001b[1;32mif\u001b[0m \u001b[0mlen\u001b[0m\u001b[1;33m(\u001b[0m\u001b[0msequence\u001b[0m\u001b[1;33m)\u001b[0m \u001b[1;33m==\u001b[0m \u001b[1;36m30\u001b[0m\u001b[1;33m:\u001b[0m\u001b[1;33m\u001b[0m\u001b[1;33m\u001b[0m\u001b[0m\n\u001b[1;32m---> 31\u001b[1;33m             \u001b[0mres\u001b[0m \u001b[1;33m=\u001b[0m \u001b[0mmodel\u001b[0m\u001b[1;33m.\u001b[0m\u001b[0mpredict\u001b[0m\u001b[1;33m(\u001b[0m\u001b[0mnp\u001b[0m\u001b[1;33m.\u001b[0m\u001b[0mexpand_dims\u001b[0m\u001b[1;33m(\u001b[0m\u001b[0msequence\u001b[0m\u001b[1;33m,\u001b[0m \u001b[0maxis\u001b[0m\u001b[1;33m=\u001b[0m\u001b[1;36m0\u001b[0m\u001b[1;33m)\u001b[0m\u001b[1;33m)\u001b[0m\u001b[1;33m[\u001b[0m\u001b[1;36m0\u001b[0m\u001b[1;33m]\u001b[0m\u001b[1;33m\u001b[0m\u001b[1;33m\u001b[0m\u001b[0m\n\u001b[0m\u001b[0;32m     32\u001b[0m             \u001b[0mprint\u001b[0m\u001b[1;33m(\u001b[0m\u001b[0mactions\u001b[0m\u001b[1;33m[\u001b[0m\u001b[0mnp\u001b[0m\u001b[1;33m.\u001b[0m\u001b[0margmax\u001b[0m\u001b[1;33m(\u001b[0m\u001b[0mres\u001b[0m\u001b[1;33m)\u001b[0m\u001b[1;33m]\u001b[0m\u001b[1;33m)\u001b[0m\u001b[1;33m\u001b[0m\u001b[1;33m\u001b[0m\u001b[0m\n\u001b[0;32m     33\u001b[0m \u001b[1;33m\u001b[0m\u001b[0m\n",
      "\u001b[1;32mC:\\ProgramData\\Anaconda3\\lib\\site-packages\\keras\\utils\\traceback_utils.py\u001b[0m in \u001b[0;36merror_handler\u001b[1;34m(*args, **kwargs)\u001b[0m\n\u001b[0;32m     65\u001b[0m     \u001b[1;32mexcept\u001b[0m \u001b[0mException\u001b[0m \u001b[1;32mas\u001b[0m \u001b[0me\u001b[0m\u001b[1;33m:\u001b[0m  \u001b[1;31m# pylint: disable=broad-except\u001b[0m\u001b[1;33m\u001b[0m\u001b[1;33m\u001b[0m\u001b[0m\n\u001b[0;32m     66\u001b[0m       \u001b[0mfiltered_tb\u001b[0m \u001b[1;33m=\u001b[0m \u001b[0m_process_traceback_frames\u001b[0m\u001b[1;33m(\u001b[0m\u001b[0me\u001b[0m\u001b[1;33m.\u001b[0m\u001b[0m__traceback__\u001b[0m\u001b[1;33m)\u001b[0m\u001b[1;33m\u001b[0m\u001b[1;33m\u001b[0m\u001b[0m\n\u001b[1;32m---> 67\u001b[1;33m       \u001b[1;32mraise\u001b[0m \u001b[0me\u001b[0m\u001b[1;33m.\u001b[0m\u001b[0mwith_traceback\u001b[0m\u001b[1;33m(\u001b[0m\u001b[0mfiltered_tb\u001b[0m\u001b[1;33m)\u001b[0m \u001b[1;32mfrom\u001b[0m \u001b[1;32mNone\u001b[0m\u001b[1;33m\u001b[0m\u001b[1;33m\u001b[0m\u001b[0m\n\u001b[0m\u001b[0;32m     68\u001b[0m     \u001b[1;32mfinally\u001b[0m\u001b[1;33m:\u001b[0m\u001b[1;33m\u001b[0m\u001b[1;33m\u001b[0m\u001b[0m\n\u001b[0;32m     69\u001b[0m       \u001b[1;32mdel\u001b[0m \u001b[0mfiltered_tb\u001b[0m\u001b[1;33m\u001b[0m\u001b[1;33m\u001b[0m\u001b[0m\n",
      "\u001b[1;32mC:\\ProgramData\\Anaconda3\\lib\\site-packages\\keras\\engine\\training.py\u001b[0m in \u001b[0;36mtf__predict_function\u001b[1;34m(iterator)\u001b[0m\n\u001b[0;32m     13\u001b[0m                 \u001b[1;32mtry\u001b[0m\u001b[1;33m:\u001b[0m\u001b[1;33m\u001b[0m\u001b[1;33m\u001b[0m\u001b[0m\n\u001b[0;32m     14\u001b[0m                     \u001b[0mdo_return\u001b[0m \u001b[1;33m=\u001b[0m \u001b[1;32mTrue\u001b[0m\u001b[1;33m\u001b[0m\u001b[1;33m\u001b[0m\u001b[0m\n\u001b[1;32m---> 15\u001b[1;33m                     \u001b[0mretval_\u001b[0m \u001b[1;33m=\u001b[0m \u001b[0mag__\u001b[0m\u001b[1;33m.\u001b[0m\u001b[0mconverted_call\u001b[0m\u001b[1;33m(\u001b[0m\u001b[0mag__\u001b[0m\u001b[1;33m.\u001b[0m\u001b[0mld\u001b[0m\u001b[1;33m(\u001b[0m\u001b[0mstep_function\u001b[0m\u001b[1;33m)\u001b[0m\u001b[1;33m,\u001b[0m \u001b[1;33m(\u001b[0m\u001b[0mag__\u001b[0m\u001b[1;33m.\u001b[0m\u001b[0mld\u001b[0m\u001b[1;33m(\u001b[0m\u001b[0mself\u001b[0m\u001b[1;33m)\u001b[0m\u001b[1;33m,\u001b[0m \u001b[0mag__\u001b[0m\u001b[1;33m.\u001b[0m\u001b[0mld\u001b[0m\u001b[1;33m(\u001b[0m\u001b[0miterator\u001b[0m\u001b[1;33m)\u001b[0m\u001b[1;33m)\u001b[0m\u001b[1;33m,\u001b[0m \u001b[1;32mNone\u001b[0m\u001b[1;33m,\u001b[0m \u001b[0mfscope\u001b[0m\u001b[1;33m)\u001b[0m\u001b[1;33m\u001b[0m\u001b[1;33m\u001b[0m\u001b[0m\n\u001b[0m\u001b[0;32m     16\u001b[0m                 \u001b[1;32mexcept\u001b[0m\u001b[1;33m:\u001b[0m\u001b[1;33m\u001b[0m\u001b[1;33m\u001b[0m\u001b[0m\n\u001b[0;32m     17\u001b[0m                     \u001b[0mdo_return\u001b[0m \u001b[1;33m=\u001b[0m \u001b[1;32mFalse\u001b[0m\u001b[1;33m\u001b[0m\u001b[1;33m\u001b[0m\u001b[0m\n",
      "\u001b[1;31mValueError\u001b[0m: in user code:\n\n    File \"C:\\ProgramData\\Anaconda3\\lib\\site-packages\\keras\\engine\\training.py\", line 1845, in predict_function  *\n        return step_function(self, iterator)\n    File \"C:\\ProgramData\\Anaconda3\\lib\\site-packages\\keras\\engine\\training.py\", line 1834, in step_function  **\n        outputs = model.distribute_strategy.run(run_step, args=(data,))\n    File \"C:\\ProgramData\\Anaconda3\\lib\\site-packages\\keras\\engine\\training.py\", line 1823, in run_step  **\n        outputs = model.predict_step(data)\n    File \"C:\\ProgramData\\Anaconda3\\lib\\site-packages\\keras\\engine\\training.py\", line 1791, in predict_step\n        return self(x, training=False)\n    File \"C:\\ProgramData\\Anaconda3\\lib\\site-packages\\keras\\utils\\traceback_utils.py\", line 67, in error_handler\n        raise e.with_traceback(filtered_tb) from None\n    File \"C:\\ProgramData\\Anaconda3\\lib\\site-packages\\keras\\engine\\input_spec.py\", line 264, in assert_input_compatibility\n        raise ValueError(f'Input {input_index} of layer \"{layer_name}\" is '\n\n    ValueError: Input 0 of layer \"sequential\" is incompatible with the layer: expected shape=(None, 50, 1662), found shape=(None, 30, 1662)\n"
     ]
    }
   ],
   "source": [
    "# 1. New detection variables\n",
    "sequence = []\n",
    "sentence = []\n",
    "threshold = 0.8\n",
    "\n",
    "cap = cv2.VideoCapture(0)\n",
    "cap.set(cv2.CAP_PROP_FRAME_WIDTH, 2000);\n",
    "cap.set(cv2.CAP_PROP_FRAME_HEIGHT, 1000);\n",
    "# Set mediapipe model \n",
    "with mp_holistic.Holistic(min_detection_confidence=0.5, min_tracking_confidence=0.5) as holistic:\n",
    "    while cap.isOpened():\n",
    "\n",
    "        # Read feed\n",
    "        ret, frame = cap.read()\n",
    "\n",
    "        # Make detections\n",
    "        image, results = mediapipe_detection(frame, holistic)\n",
    "        print(results)\n",
    "        \n",
    "        # Draw landmarks\n",
    "        draw_styled_landmarks(image, results)\n",
    "        \n",
    "        # 2. Prediction logic\n",
    "        keypoints = extract_keypoints(results)\n",
    "#         sequence.insert(0,keypoints)\n",
    "#         sequence = sequence[:30]\n",
    "        sequence.append(keypoints)\n",
    "        sequence = sequence[-30:]\n",
    "        \n",
    "        if len(sequence) == 30:\n",
    "            res = model.predict(np.expand_dims(sequence, axis=0))[0]\n",
    "            print(actions[np.argmax(res)])\n",
    "            \n",
    "            \n",
    "        #3. Viz logic\n",
    "            if res[np.argmax(res)] > threshold: \n",
    "                if len(sentence) > 0: \n",
    "                    if actions[np.argmax(res)] != sentence[-1]:\n",
    "                        sentence.append(actions[np.argmax(res)])\n",
    "                else:\n",
    "                    sentence.append(actions[np.argmax(res)])\n",
    "\n",
    "            if len(sentence) > 5: \n",
    "                sentence = sentence[-5:]\n",
    "\n",
    "            # Viz probabilities\n",
    "            image = prob_viz(res, actions, image, colors)\n",
    "            \n",
    "        cv2.rectangle(image, (0,0), (640, 40), (245, 117, 16), -1)\n",
    "        cv2.putText(image, ' '.join(sentence), (3,30), \n",
    "                       cv2.FONT_HERSHEY_SIMPLEX, 1, (255, 255, 255), 2, cv2.LINE_AA)\n",
    "        \n",
    "        # Show to screen\n",
    "        cv2.imshow('OpenCV Feed', image)\n",
    "\n",
    "        # Break gracefully\n",
    "        if cv2.waitKey(10) & 0xFF == ord('q'):\n",
    "            break\n",
    "    cap.release()\n",
    "    cv2.destroyAllWindows()"
   ]
  },
  {
   "cell_type": "code",
   "execution_count": 30,
   "metadata": {},
   "outputs": [],
   "source": [
    "cap.release()\n",
    "cv2.destroyAllWindows()"
   ]
  },
  {
   "cell_type": "code",
   "execution_count": null,
   "metadata": {},
   "outputs": [],
   "source": [
    "res[np.argmax(res)] > threshold"
   ]
  },
  {
   "cell_type": "code",
   "execution_count": null,
   "metadata": {},
   "outputs": [],
   "source": [
    "(num_sequences,30,1662)"
   ]
  },
  {
   "cell_type": "code",
   "execution_count": null,
   "metadata": {},
   "outputs": [],
   "source": [
    "model.predict(np.expand_dims(X_test[0], axis=0))"
   ]
  }
 ],
 "metadata": {
  "kernelspec": {
   "display_name": "Python 3 (ipykernel)",
   "language": "python",
   "name": "python3"
  },
  "language_info": {
   "codemirror_mode": {
    "name": "ipython",
    "version": 3
   },
   "file_extension": ".py",
   "mimetype": "text/x-python",
   "name": "python",
   "nbconvert_exporter": "python",
   "pygments_lexer": "ipython3",
   "version": "3.7.3"
  }
 },
 "nbformat": 4,
 "nbformat_minor": 2
}
